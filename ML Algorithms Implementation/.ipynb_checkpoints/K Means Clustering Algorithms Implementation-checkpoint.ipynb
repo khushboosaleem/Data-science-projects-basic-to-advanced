{
 "cells": [
  {
   "cell_type": "markdown",
   "id": "ed71f57a",
   "metadata": {},
   "source": [
    "## ***K Means Clustering Algorithms Implementation***"
   ]
  },
  {
   "cell_type": "code",
   "execution_count": 1,
   "id": "54f8a3a9",
   "metadata": {},
   "outputs": [],
   "source": [
    "# Import the pandas library for data manipulation and analysis\n",
    "import pandas as pd\n",
    "\n",
    "# Import the make_blobs function from sklearn to generate synthetic data\n",
    "from sklearn.datasets import make_blobs\n",
    "\n",
    "# Import the pyplot module from matplotlib for data visualization\n",
    "import matplotlib.pyplot as plt\n",
    "\n",
    "# Ensure that matplotlib plots are displayed inline within Jupyter notebooks\n",
    "%matplotlib inline\n",
    "\n",
    "# Suppress any warnings that might be generated during the execution of the code\n",
    "import warnings\n",
    "warnings.filterwarnings('ignore')"
   ]
  },
  {
   "cell_type": "code",
   "execution_count": 2,
   "id": "6072055d",
   "metadata": {},
   "outputs": [],
   "source": [
    "# Generate a synthetic dataset with 1000 samples, 3 centers (clusters), and 2 features (dimensions)\n",
    "# The random_state parameter ensures reproducibility of the dataset\n",
    "\n",
    "X, y = make_blobs(n_samples=1000, centers=3, n_features=2, random_state=23)\n"
   ]
  },
  {
   "cell_type": "code",
   "execution_count": 3,
   "id": "d6b38de1",
   "metadata": {},
   "outputs": [
    {
     "data": {
      "text/plain": [
       "array([[-5.37039106,  3.47555168],\n",
       "       [ 5.84161203, -3.98182959],\n",
       "       [ 1.76127766,  9.39696306],\n",
       "       ...,\n",
       "       [ 6.14147823, -5.75491603],\n",
       "       [-5.45330839,  1.75599573],\n",
       "       [-0.21966953,  8.72922042]])"
      ]
     },
     "execution_count": 3,
     "metadata": {},
     "output_type": "execute_result"
    }
   ],
   "source": [
    "X"
   ]
  },
  {
   "cell_type": "code",
   "execution_count": 4,
   "id": "a1f9c734",
   "metadata": {},
   "outputs": [
    {
     "data": {
      "text/plain": [
       "array([2, 1, 0, 2, 1, 0, 2, 1, 2, 0, 0, 0, 2, 0, 1, 2, 2, 2, 1, 1, 0, 1,\n",
       "       2, 2, 0, 0, 1, 2, 0, 0, 0, 2, 1, 2, 1, 0, 1, 2, 2, 1, 0, 1, 1, 2,\n",
       "       2, 1, 0, 2, 1, 1, 2, 2, 1, 2, 0, 2, 0, 2, 2, 2, 1, 0, 2, 2, 2, 2,\n",
       "       2, 2, 0, 2, 2, 0, 0, 1, 1, 2, 0, 0, 1, 1, 0, 2, 1, 2, 2, 0, 1, 2,\n",
       "       1, 2, 0, 1, 0, 0, 2, 0, 2, 1, 2, 2, 0, 2, 1, 2, 2, 2, 2, 0, 1, 1,\n",
       "       0, 2, 2, 2, 2, 2, 2, 1, 2, 0, 0, 0, 1, 1, 1, 1, 0, 0, 2, 0, 2, 1,\n",
       "       0, 0, 2, 1, 1, 2, 1, 2, 1, 0, 0, 1, 1, 0, 1, 0, 0, 0, 0, 2, 0, 0,\n",
       "       1, 1, 1, 1, 2, 1, 2, 1, 0, 2, 0, 1, 1, 0, 1, 1, 1, 0, 1, 1, 0, 2,\n",
       "       0, 0, 2, 1, 1, 2, 0, 1, 2, 1, 0, 1, 1, 1, 1, 1, 1, 2, 2, 1, 2, 0,\n",
       "       2, 2, 2, 0, 1, 1, 0, 0, 1, 0, 2, 0, 0, 1, 0, 2, 0, 1, 1, 0, 0, 1,\n",
       "       1, 2, 0, 2, 0, 1, 2, 2, 1, 0, 1, 1, 1, 1, 1, 1, 1, 1, 1, 0, 0, 0,\n",
       "       1, 1, 1, 2, 1, 2, 1, 0, 2, 0, 0, 2, 2, 0, 1, 0, 1, 1, 2, 1, 0, 0,\n",
       "       1, 0, 0, 0, 1, 2, 0, 2, 0, 1, 0, 1, 2, 2, 2, 0, 1, 0, 1, 2, 2, 0,\n",
       "       0, 0, 0, 0, 0, 2, 1, 1, 2, 0, 2, 2, 1, 1, 1, 2, 2, 0, 1, 1, 0, 0,\n",
       "       2, 0, 0, 1, 2, 1, 0, 1, 2, 0, 1, 0, 1, 1, 0, 2, 2, 1, 2, 0, 0, 0,\n",
       "       1, 0, 2, 0, 0, 1, 0, 0, 2, 0, 1, 1, 2, 0, 0, 2, 1, 2, 0, 0, 2, 2,\n",
       "       2, 1, 0, 1, 1, 1, 0, 0, 2, 0, 2, 2, 0, 2, 0, 1, 1, 2, 1, 1, 2, 0,\n",
       "       2, 2, 0, 1, 0, 1, 1, 2, 2, 1, 0, 0, 2, 0, 2, 1, 2, 2, 2, 0, 0, 2,\n",
       "       1, 1, 1, 1, 0, 0, 0, 2, 0, 0, 2, 1, 1, 0, 1, 2, 2, 0, 1, 2, 1, 2,\n",
       "       2, 1, 1, 1, 1, 2, 2, 2, 2, 2, 2, 0, 0, 1, 2, 1, 1, 2, 1, 2, 2, 0,\n",
       "       1, 0, 0, 2, 2, 0, 0, 0, 2, 1, 2, 0, 1, 1, 0, 1, 1, 1, 2, 0, 1, 2,\n",
       "       2, 1, 2, 1, 1, 2, 2, 2, 2, 0, 1, 1, 0, 0, 1, 0, 0, 2, 1, 2, 0, 1,\n",
       "       1, 2, 2, 2, 1, 2, 1, 2, 0, 0, 1, 2, 0, 1, 0, 2, 1, 0, 1, 1, 0, 1,\n",
       "       0, 2, 0, 0, 0, 0, 0, 1, 0, 1, 1, 2, 1, 0, 1, 0, 2, 1, 0, 1, 0, 0,\n",
       "       2, 1, 1, 0, 1, 1, 2, 0, 0, 0, 2, 1, 2, 0, 0, 2, 0, 2, 1, 2, 1, 0,\n",
       "       1, 0, 0, 1, 2, 1, 2, 0, 0, 1, 2, 0, 2, 1, 2, 1, 0, 2, 2, 1, 2, 2,\n",
       "       0, 2, 2, 1, 2, 2, 0, 1, 2, 0, 2, 2, 1, 1, 2, 1, 0, 0, 2, 2, 0, 0,\n",
       "       0, 0, 2, 2, 2, 2, 1, 0, 0, 0, 0, 0, 2, 1, 0, 1, 1, 0, 0, 1, 1, 1,\n",
       "       0, 0, 1, 0, 0, 1, 1, 0, 2, 2, 1, 0, 2, 2, 0, 1, 1, 2, 2, 2, 2, 1,\n",
       "       0, 1, 2, 0, 2, 0, 1, 2, 2, 0, 1, 1, 1, 0, 1, 2, 2, 0, 2, 0, 2, 2,\n",
       "       1, 2, 1, 1, 2, 1, 0, 0, 0, 0, 2, 2, 0, 0, 1, 1, 2, 0, 0, 2, 1, 1,\n",
       "       1, 1, 0, 0, 2, 2, 1, 1, 2, 1, 1, 1, 0, 1, 2, 0, 2, 2, 1, 2, 0, 1,\n",
       "       1, 2, 1, 2, 2, 1, 0, 2, 0, 1, 0, 0, 1, 1, 0, 1, 1, 2, 1, 2, 0, 2,\n",
       "       1, 1, 2, 1, 0, 1, 2, 1, 0, 2, 1, 0, 2, 0, 0, 1, 0, 0, 1, 0, 2, 2,\n",
       "       2, 0, 2, 2, 2, 1, 1, 2, 0, 2, 2, 2, 0, 2, 2, 2, 0, 2, 0, 0, 0, 0,\n",
       "       1, 0, 1, 0, 2, 0, 1, 2, 2, 1, 2, 0, 1, 1, 0, 0, 1, 2, 1, 1, 2, 2,\n",
       "       1, 0, 0, 2, 2, 1, 0, 2, 1, 2, 1, 1, 1, 1, 1, 0, 2, 2, 1, 0, 2, 1,\n",
       "       0, 0, 2, 0, 2, 1, 2, 2, 1, 2, 0, 1, 1, 0, 0, 1, 0, 1, 0, 0, 2, 2,\n",
       "       1, 1, 0, 1, 0, 0, 0, 2, 1, 2, 0, 2, 1, 0, 1, 2, 1, 1, 1, 1, 2, 2,\n",
       "       1, 2, 1, 2, 1, 2, 0, 2, 0, 2, 2, 0, 2, 0, 1, 1, 0, 0, 0, 1, 1, 0,\n",
       "       0, 0, 2, 0, 1, 1, 0, 0, 1, 0, 2, 0, 2, 2, 0, 0, 2, 0, 0, 1, 2, 2,\n",
       "       2, 2, 0, 2, 2, 0, 1, 1, 2, 2, 0, 0, 2, 2, 0, 1, 1, 2, 1, 2, 1, 1,\n",
       "       1, 0, 2, 0, 0, 1, 1, 2, 0, 1, 1, 2, 0, 2, 0, 0, 1, 0, 1, 2, 2, 1,\n",
       "       2, 1, 2, 1, 2, 0, 2, 0, 2, 0, 0, 0, 1, 2, 2, 2, 0, 0, 2, 0, 1, 2,\n",
       "       1, 2, 1, 1, 2, 1, 0, 2, 0, 2, 0, 0, 2, 2, 0, 0, 2, 1, 0, 0, 0, 0,\n",
       "       2, 1, 1, 0, 0, 2, 1, 1, 2, 0])"
      ]
     },
     "execution_count": 4,
     "metadata": {},
     "output_type": "execute_result"
    }
   ],
   "source": [
    "y"
   ]
  },
  {
   "cell_type": "code",
   "execution_count": 5,
   "id": "74b2b2af",
   "metadata": {},
   "outputs": [
    {
     "data": {
      "text/plain": [
       "(1000, 2)"
      ]
     },
     "execution_count": 5,
     "metadata": {},
     "output_type": "execute_result"
    }
   ],
   "source": [
    "# Display the shape of the feature matrix X\n",
    "# This will show the number of samples (rows) and the number of features (columns)\n",
    "\n",
    "X.shape"
   ]
  },
  {
   "cell_type": "code",
   "execution_count": 6,
   "id": "68edef7e",
   "metadata": {},
   "outputs": [
    {
     "data": {
      "text/plain": [
       "<matplotlib.collections.PathCollection at 0x262c1a97700>"
      ]
     },
     "execution_count": 6,
     "metadata": {},
     "output_type": "execute_result"
    },
    {
     "data": {
      "image/png": "[encoded data removed]",
      "text/plain": [
       "<Figure size 432x288 with 1 Axes>"
      ]
     },
     "metadata": {
      "needs_background": "light"
     },
     "output_type": "display_data"
    }
   ],
   "source": [
    "# Create a scatter plot of the synthetic dataset\n",
    "# Plot the first feature (X[:,0]) on the x-axis and the second feature (X[:,1]) on the y-axis\n",
    "\n",
    "plt.scatter(X[:, 0], X[:, 1])"
   ]
  },
  {
   "cell_type": "code",
   "execution_count": 7,
   "id": "4ff29595",
   "metadata": {},
   "outputs": [
    {
     "data": {
      "text/plain": [
       "<matplotlib.collections.PathCollection at 0x262c3ba7340>"
      ]
     },
     "execution_count": 7,
     "metadata": {},
     "output_type": "execute_result"
    },
    {
     "data": {
      "image/png": "[encoded data removed]",
      "text/plain": [
       "<Figure size 432x288 with 1 Axes>"
      ]
     },
     "metadata": {
      "needs_background": "light"
     },
     "output_type": "display_data"
    }
   ],
   "source": [
    "# Create a scatter plot of the synthetic dataset\n",
    "# Plot the first feature (X[:, 0]) on the x-axis and the second feature (X[:, 1]) on the y-axis\n",
    "# Color the points based on their cluster label (y)\n",
    "\n",
    "plt.scatter(X[:, 0], X[:, 1], c=y)"
   ]
  },
  {
   "cell_type": "code",
   "execution_count": 8,
   "id": "15e75d4f",
   "metadata": {},
   "outputs": [],
   "source": [
    "# Import the train_test_split function from sklearn to split the dataset into training and testing sets\n",
    "from sklearn.model_selection import train_test_split\n",
    "\n",
    "# Split the dataset into training and testing sets\n",
    "# X_train and y_train will contain 67% of the data, used for training\n",
    "# X_test and y_test will contain 33% of the data, used for testing\n",
    "# The random_state parameter ensures reproducibility of the split\n",
    "\n",
    "X_train, X_test, y_train, y_test = train_test_split(X, y, test_size=0.33, random_state=42)"
   ]
  },
  {
   "cell_type": "code",
   "execution_count": 9,
   "id": "2f4547b7",
   "metadata": {},
   "outputs": [
    {
     "data": {
      "text/plain": [
       "array([[ 5.18030204, -3.9954647 ],\n",
       "       [ 7.22929836, -5.82795817],\n",
       "       [ 5.56138471, -4.25534701],\n",
       "       ...,\n",
       "       [ 2.54487099, -4.98136265],\n",
       "       [-4.97077328,  2.51161386],\n",
       "       [ 4.2804877 , -4.61462407]])"
      ]
     },
     "execution_count": 9,
     "metadata": {},
     "output_type": "execute_result"
    }
   ],
   "source": [
    "# X_train contains the feature matrix for the training set\n",
    "# This includes 67% of the original samples (rows) and all the features (columns)\n",
    "\n",
    "X_train"
   ]
  },
  {
   "cell_type": "code",
   "execution_count": 10,
   "id": "61be36e0",
   "metadata": {},
   "outputs": [
    {
     "data": {
      "text/plain": [
       "array([[-0.91517216,  8.85626288],\n",
       "       [-1.42289767,  7.49542074],\n",
       "       [-0.89248448,  8.16206423],\n",
       "       [ 6.54007736, -4.72332259],\n",
       "       [-6.6663998 ,  2.92746705],\n",
       "       [ 0.74186273,  8.06973427],\n",
       "       [ 5.04338389, -6.10453499],\n",
       "       [ 5.44668312, -3.24406363],\n",
       "       [-6.01398316,  4.47367593],\n",
       "       [ 4.25014482, -5.48477477],\n",
       "       [-0.47007998,  8.63876516],\n",
       "       [ 0.43605162,  8.8453075 ],\n",
       "       [-5.08780366,  2.16951605],\n",
       "       [ 5.61677926, -4.8056889 ],\n",
       "       [ 1.22024431, 11.18204184],\n",
       "       [ 3.55723356, -4.2092578 ],\n",
       "       [ 4.61117516, -4.30585038],\n",
       "       [-1.51160811,  8.74070113],\n",
       "       [-6.538963  ,  3.6693432 ],\n",
       "       [ 2.21915577,  8.4377961 ],\n",
       "       [-1.10339932,  6.8709413 ],\n",
       "       [ 0.34341704,  8.43167082],\n",
       "       [ 4.46096626, -3.58387649],\n",
       "       [ 1.81607229,  9.41185442],\n",
       "       [-0.50557796,  8.89280236],\n",
       "       [ 4.57737635, -3.72221437],\n",
       "       [-4.42335533,  3.66336647],\n",
       "       [ 0.84501003,  7.84608217],\n",
       "       [-4.50714071,  4.10954843],\n",
       "       [ 5.99835379, -5.19375627],\n",
       "       [ 5.42262245, -6.47648083],\n",
       "       [-4.98215717,  4.72874627],\n",
       "       [ 6.21703419, -4.98750071],\n",
       "       [-5.18873827,  4.04619582],\n",
       "       [ 6.2816732 , -1.81927598],\n",
       "       [-5.11271885,  3.24833994],\n",
       "       [-5.99247666,  3.18079265],\n",
       "       [ 5.43989547, -4.99998423],\n",
       "       [-3.92705757,  4.80433276],\n",
       "       [-7.18051684,  2.72761715],\n",
       "       [ 0.27496195,  7.94563107],\n",
       "       [-6.93990587,  3.41006394],\n",
       "       [-4.48223838,  2.86819621],\n",
       "       [ 0.43940793, 10.73225513],\n",
       "       [ 3.99785052, -3.48385302],\n",
       "       [-3.78754826,  3.76238842],\n",
       "       [ 4.72009475, -3.72946056],\n",
       "       [ 0.91214801,  7.56120744],\n",
       "       [ 0.45490601, 11.22799106],\n",
       "       [ 5.12946841, -5.13743787],\n",
       "       [-6.09719823,  2.04438873],\n",
       "       [-1.30044464,  8.49869805],\n",
       "       [ 6.83303687, -4.72655884],\n",
       "       [-0.73460708,  8.94948138],\n",
       "       [-4.95930831,  3.58506108],\n",
       "       [-1.41918006,  9.24106133],\n",
       "       [-2.00245297,  9.47315702],\n",
       "       [ 1.26695351, 10.87234191],\n",
       "       [-4.55712151,  5.41302253],\n",
       "       [-6.09941408,  4.87718699],\n",
       "       [-5.59002577,  3.67988737],\n",
       "       [ 1.02236083,  6.68336547],\n",
       "       [-0.09299755,  9.48645844],\n",
       "       [ 0.08290042,  7.19727787],\n",
       "       [ 0.28207411,  9.80329319],\n",
       "       [ 6.21869494, -4.0154906 ],\n",
       "       [ 5.04860195, -4.41667806],\n",
       "       [ 0.31940138,  9.56247135],\n",
       "       [-4.31342508,  5.14885114],\n",
       "       [-4.52120261,  2.49122883],\n",
       "       [ 0.16506498,  8.30115445],\n",
       "       [ 1.60605585, 10.35437657],\n",
       "       [-6.48858219,  2.70640269],\n",
       "       [ 5.71551281, -1.57620163],\n",
       "       [ 3.97236718, -4.49468646],\n",
       "       [ 0.58706398,  7.98674255],\n",
       "       [ 3.87182086, -5.97719998],\n",
       "       [ 6.41223282, -4.52029417],\n",
       "       [-0.476981  ,  7.34114297],\n",
       "       [ 0.60644398,  8.35313873],\n",
       "       [-4.73028699,  4.12032706],\n",
       "       [-6.23723616,  0.59461112],\n",
       "       [ 6.40566203, -3.49024418],\n",
       "       [-5.25059945,  3.22725803],\n",
       "       [ 5.84050986, -3.21751525],\n",
       "       [ 6.31551005, -4.21970861],\n",
       "       [-5.45330839,  1.75599573],\n",
       "       [ 0.11125095,  9.25470788],\n",
       "       [ 6.46640032, -4.60707469],\n",
       "       [-0.39840456,  8.64473465],\n",
       "       [-4.4664682 ,  3.13836624],\n",
       "       [-2.0439081 ,  8.60597809],\n",
       "       [-6.09737273,  4.35971134],\n",
       "       [ 1.01493285,  8.34017068],\n",
       "       [-7.38833522,  4.90403658],\n",
       "       [ 6.01461347, -2.76712304],\n",
       "       [-0.61607434,  8.67984616],\n",
       "       [ 6.92751511, -5.18322082],\n",
       "       [-4.76468032,  2.94108173],\n",
       "       [ 4.74464785, -3.642578  ],\n",
       "       [ 4.27265574, -4.03705813],\n",
       "       [-5.74450839,  4.48184918],\n",
       "       [ 1.7064425 ,  7.36940954],\n",
       "       [ 4.13258655, -4.08252462],\n",
       "       [-3.53841004,  4.66845318],\n",
       "       [ 5.25487796, -3.73267272],\n",
       "       [-5.07266432,  5.01628002],\n",
       "       [-6.0498488 ,  3.62451306],\n",
       "       [ 5.68932344, -3.93081096],\n",
       "       [ 6.07299659, -4.78731636],\n",
       "       [-5.83772193,  3.89555791],\n",
       "       [-6.17899362,  4.43041717],\n",
       "       [ 3.67822839, -3.76683957],\n",
       "       [-5.88981172,  3.29091557],\n",
       "       [ 6.64178583, -5.3039936 ],\n",
       "       [-6.09363511,  3.80118287],\n",
       "       [-5.50859142,  4.95193961],\n",
       "       [ 0.14436044,  9.18058936],\n",
       "       [-3.51804694,  2.16305938],\n",
       "       [-5.79231286,  4.13954572],\n",
       "       [-4.60406588,  4.62275368],\n",
       "       [-5.86213946,  4.49810497],\n",
       "       [ 4.08422538, -5.15443   ],\n",
       "       [-5.57909065,  2.72692891],\n",
       "       [ 5.02411916, -3.6712738 ],\n",
       "       [ 5.39882618, -5.50411066],\n",
       "       [-5.75223333,  4.59275408],\n",
       "       [ 0.73459132,  9.70668194],\n",
       "       [-5.60211651,  2.76068988],\n",
       "       [ 5.64164908, -4.82728432],\n",
       "       [-5.36450763,  4.82534081],\n",
       "       [ 0.309915  ,  8.53800253],\n",
       "       [-0.25302996,  9.99789391],\n",
       "       [-5.0479682 ,  3.18699241],\n",
       "       [ 5.00825738, -4.12724772],\n",
       "       [-6.74346334,  2.51069172],\n",
       "       [-1.49211009,  8.00048345],\n",
       "       [ 5.07326862, -4.83602206],\n",
       "       [-0.05135555,  8.56263963],\n",
       "       [ 0.16692208,  9.9503109 ],\n",
       "       [-6.75083862,  1.34469846],\n",
       "       [-5.65858591,  3.5131117 ],\n",
       "       [-5.88943041,  2.04891194],\n",
       "       [ 0.246073  , 10.94487469],\n",
       "       [-6.78371352,  4.60784749],\n",
       "       [-5.27429545,  2.79774788],\n",
       "       [ 5.71470612, -4.31406349],\n",
       "       [ 5.61177128, -4.12558806],\n",
       "       [ 6.27949236, -2.37137098],\n",
       "       [ 4.71443367, -4.20856831],\n",
       "       [-0.1657482 ,  8.50769017],\n",
       "       [-5.17718098,  2.17918644],\n",
       "       [-4.93440274,  5.29843807],\n",
       "       [ 0.25128318, 11.27708749],\n",
       "       [ 2.05123673,  9.95172611],\n",
       "       [-6.27502744,  3.57141114],\n",
       "       [ 1.12106676,  8.09713577],\n",
       "       [-0.08466777,  9.88767733],\n",
       "       [ 3.59999056, -5.75682666],\n",
       "       [ 6.23561795, -4.99200312],\n",
       "       [ 1.33943759,  9.36815644],\n",
       "       [-1.66885047, 10.81014605],\n",
       "       [ 6.74994419, -1.86760551],\n",
       "       [ 7.0249045 , -4.1692239 ],\n",
       "       [-6.07773505,  3.39576505],\n",
       "       [ 0.78710918,  8.12181275],\n",
       "       [ 5.06848692, -5.48185818],\n",
       "       [ 6.56007004, -5.67794245],\n",
       "       [ 0.34221626,  9.21122134],\n",
       "       [-0.97484762,  8.35703149],\n",
       "       [-1.08527854, 10.09023575],\n",
       "       [-5.80846618,  5.41397356],\n",
       "       [ 1.72193124,  8.99227566],\n",
       "       [ 0.03237163,  8.89867552],\n",
       "       [-4.31847149,  3.01016106],\n",
       "       [-5.81399828,  2.66097959],\n",
       "       [-6.08849758,  4.35789807],\n",
       "       [ 4.94837435, -2.62641531],\n",
       "       [ 5.46181298, -3.67081717],\n",
       "       [ 1.15625841,  8.09572343],\n",
       "       [ 5.53915016, -3.60462652],\n",
       "       [-5.21990214,  2.8984879 ],\n",
       "       [ 3.25204205, -4.03091537],\n",
       "       [ 0.78769405, 10.06812893],\n",
       "       [-5.25891616,  3.36399203],\n",
       "       [-5.57634521,  4.42216191],\n",
       "       [ 6.02444282, -4.96673954],\n",
       "       [-5.15599093,  4.09302579],\n",
       "       [ 3.08953089, -5.74954957],\n",
       "       [ 0.68847564,  8.45571726],\n",
       "       [-5.31386004,  2.24405164],\n",
       "       [ 4.54507313, -4.37683608],\n",
       "       [-4.58333862,  3.98105807],\n",
       "       [-5.42823369,  3.77345146],\n",
       "       [-5.032117  ,  4.59703717],\n",
       "       [ 4.69501718, -5.02268711],\n",
       "       [-5.01622769,  1.75412649],\n",
       "       [-7.61794699,  2.63324399],\n",
       "       [ 3.35632378, -2.75016335],\n",
       "       [ 5.2085306 , -5.16647872],\n",
       "       [ 0.32168514,  9.69462806],\n",
       "       [ 1.82742691,  9.32195173],\n",
       "       [ 4.64407891, -6.20650849],\n",
       "       [-0.40359034,  8.61608908],\n",
       "       [ 5.09919871, -2.83820082],\n",
       "       [-5.52791278,  3.25413451],\n",
       "       [ 3.75684541, -4.13551218],\n",
       "       [ 2.87703233, -3.50075123],\n",
       "       [-5.52924229,  4.64604942],\n",
       "       [ 1.60892619,  9.56613146],\n",
       "       [-5.65433814,  4.00149268],\n",
       "       [ 0.95215317,  8.91671319],\n",
       "       [ 1.07602794,  8.9809588 ],\n",
       "       [ 0.64971488,  8.68885528],\n",
       "       [ 1.48409387,  9.24179415],\n",
       "       [-0.0896905 ,  7.75638281],\n",
       "       [-4.02326625,  3.66863621],\n",
       "       [ 1.26108131,  8.09664494],\n",
       "       [-0.69749232,  7.9293102 ],\n",
       "       [-6.38245121,  3.30407192],\n",
       "       [ 7.0188698 , -4.12545518],\n",
       "       [ 1.12654582,  8.43478003],\n",
       "       [-5.57573642,  2.69231082],\n",
       "       [ 5.80233283, -4.37930199],\n",
       "       [-5.63809676,  3.8149968 ],\n",
       "       [ 1.76127766,  9.39696306],\n",
       "       [ 1.65274092,  9.48856216],\n",
       "       [-6.00698261,  3.75462157],\n",
       "       [ 0.53581337,  8.70718631],\n",
       "       [ 1.35294438,  9.73760149],\n",
       "       [ 0.85809507,  9.07079054],\n",
       "       [-0.83773229,  8.30344718],\n",
       "       [-3.86310082,  4.65531037],\n",
       "       [ 5.49385474, -3.78210155],\n",
       "       [-5.03050469,  3.50913861],\n",
       "       [-7.06465669,  3.010325  ],\n",
       "       [ 6.07647025, -1.61466146],\n",
       "       [-0.81001113,  8.12231476],\n",
       "       [ 5.4267826 , -3.69356026],\n",
       "       [-0.95026923,  9.09062526],\n",
       "       [-5.24664039,  5.60223387],\n",
       "       [-1.21563709, 11.03139034],\n",
       "       [ 1.58487681,  9.11216914],\n",
       "       [-4.14850804,  3.4442706 ],\n",
       "       [ 0.75944099,  8.09727362],\n",
       "       [ 3.37072836, -4.76500483],\n",
       "       [ 1.07483352, 10.90768681],\n",
       "       [-0.87223668,  9.41521646],\n",
       "       [-5.67011927,  4.24387053],\n",
       "       [ 0.01434055,  7.3068658 ],\n",
       "       [ 6.33529877, -4.61613235],\n",
       "       [ 3.41224616, -5.89057449],\n",
       "       [ 6.38695642, -3.80389143],\n",
       "       [-1.41835597,  9.505756  ],\n",
       "       [ 6.05547508, -3.91343134],\n",
       "       [-5.52858238,  2.92192863],\n",
       "       [-0.68366384,  9.17194048],\n",
       "       [-0.76033573,  9.46429769],\n",
       "       [ 4.05355394, -4.56824769],\n",
       "       [ 0.35023674,  9.74214185],\n",
       "       [ 5.06136794, -3.24027088],\n",
       "       [ 4.77268449, -2.98298524],\n",
       "       [ 5.76921371, -4.2076753 ],\n",
       "       [ 0.71156055,  9.63486781],\n",
       "       [ 4.43295051, -3.66909654],\n",
       "       [-6.3365322 ,  4.59002606],\n",
       "       [ 0.61926089,  8.83357434],\n",
       "       [ 4.79689707, -6.14275094],\n",
       "       [ 5.72871888, -5.36019952],\n",
       "       [-3.76974057,  3.18315902],\n",
       "       [ 3.82765843, -3.83610186],\n",
       "       [-5.35988666,  2.93259307],\n",
       "       [-6.56787258,  3.36490919],\n",
       "       [-5.01684025,  2.60964463],\n",
       "       [ 3.27864747, -5.60220773],\n",
       "       [-0.18802062,  8.34008221],\n",
       "       [-5.56927899,  2.26216673],\n",
       "       [ 0.7647721 ,  8.38238571],\n",
       "       [-6.69962357,  3.35942446],\n",
       "       [ 5.11283167, -5.09262149],\n",
       "       [ 5.29992869, -6.30987802],\n",
       "       [ 5.29195639, -2.37623579],\n",
       "       [ 1.34776723,  6.62113451],\n",
       "       [-2.23956682,  9.45853981],\n",
       "       [ 5.10931134, -5.64247137],\n",
       "       [ 3.94083982, -2.94856117],\n",
       "       [-0.48831978,  8.21702074],\n",
       "       [ 5.05509871, -3.82119333],\n",
       "       [-6.15406039,  4.88827464],\n",
       "       [-5.16030657,  4.5076652 ],\n",
       "       [-6.15533177,  7.00184163],\n",
       "       [-4.32333509,  3.11409106],\n",
       "       [-0.07488628,  8.38726351],\n",
       "       [-5.50798981,  3.40276198],\n",
       "       [-5.26458402,  4.17258355],\n",
       "       [-5.82877128,  2.54662792],\n",
       "       [-5.47433529,  4.66033865],\n",
       "       [-5.02658381,  5.1190546 ],\n",
       "       [ 4.43205129, -5.13701911],\n",
       "       [ 4.95738895, -4.46677954],\n",
       "       [-0.71740326,  8.97390591],\n",
       "       [ 6.65825571, -3.00623069],\n",
       "       [-0.1366018 , 10.18386256],\n",
       "       [ 5.36599887, -4.22701914],\n",
       "       [-4.46521013,  3.55375092],\n",
       "       [ 5.37861686, -4.8234295 ],\n",
       "       [-0.02159044,  7.80179239],\n",
       "       [-4.37302234,  2.93290419],\n",
       "       [ 6.28762378, -4.15431256],\n",
       "       [-6.68529999,  3.85702082],\n",
       "       [-0.1956811 ,  9.73304584],\n",
       "       [ 5.75349811, -2.19967351],\n",
       "       [ 0.91890743,  8.28631445],\n",
       "       [-3.19977821,  4.30048555],\n",
       "       [-5.31028541,  3.82559918],\n",
       "       [ 4.25940065, -5.75799233],\n",
       "       [ 6.91651749, -5.05158978],\n",
       "       [-4.44492867,  1.9987718 ],\n",
       "       [-4.72139549,  3.83989325],\n",
       "       [ 0.38491451,  9.32918169],\n",
       "       [ 7.26007292, -4.17719277],\n",
       "       [ 0.61332673,  9.7395629 ],\n",
       "       [-4.86266075,  1.75238789],\n",
       "       [-6.7765235 ,  2.93959304],\n",
       "       [-6.89293716,  3.60510234],\n",
       "       [ 0.01375275, 10.27986587],\n",
       "       [-6.64230806,  4.27453276],\n",
       "       [-4.68424636,  3.5689493 ],\n",
       "       [-4.37047173,  4.53305865],\n",
       "       [ 0.51150129,  8.78073569]])"
      ]
     },
     "execution_count": 10,
     "metadata": {},
     "output_type": "execute_result"
    }
   ],
   "source": [
    "# X_test contains the feature matrix for the testing set\n",
    "# This includes 33% of the original samples (rows) and all the features (columns)\n",
    "\n",
    "X_test"
   ]
  },
  {
   "cell_type": "code",
   "execution_count": 11,
   "id": "988dbf79",
   "metadata": {},
   "outputs": [
    {
     "data": {
      "text/plain": [
       "array([1, 1, 1, 2, 2, 2, 1, 2, 1, 1, 0, 0, 1, 1, 0, 1, 0, 2, 0, 0, 2, 0,\n",
       "       0, 2, 2, 1, 1, 2, 2, 1, 2, 2, 1, 2, 0, 0, 0, 2, 2, 1, 1, 2, 1, 1,\n",
       "       2, 0, 0, 1, 2, 1, 1, 0, 1, 1, 1, 1, 1, 0, 2, 2, 1, 1, 2, 1, 0, 0,\n",
       "       0, 0, 2, 1, 0, 2, 1, 0, 1, 0, 2, 2, 2, 2, 1, 1, 0, 1, 0, 0, 1, 0,\n",
       "       1, 0, 1, 0, 1, 2, 1, 1, 2, 0, 0, 0, 0, 2, 0, 1, 2, 2, 0, 1, 0, 1,\n",
       "       2, 0, 1, 2, 2, 2, 2, 0, 1, 0, 1, 1, 0, 2, 1, 2, 1, 0, 2, 2, 1, 2,\n",
       "       2, 2, 2, 2, 2, 2, 1, 1, 0, 0, 1, 2, 0, 0, 2, 1, 0, 0, 0, 2, 0, 1,\n",
       "       1, 2, 1, 0, 0, 1, 0, 2, 0, 0, 2, 2, 2, 1, 2, 2, 1, 0, 2, 2, 0, 2,\n",
       "       0, 1, 0, 2, 0, 2, 1, 2, 2, 2, 0, 1, 0, 2, 1, 0, 2, 1, 1, 0, 0, 1,\n",
       "       0, 0, 0, 0, 1, 2, 1, 1, 0, 2, 0, 0, 1, 2, 1, 2, 1, 2, 0, 1, 2, 0,\n",
       "       2, 1, 1, 2, 2, 0, 2, 1, 0, 0, 1, 0, 2, 1, 0, 2, 1, 1, 1, 1, 0, 1,\n",
       "       1, 2, 1, 0, 0, 2, 1, 2, 1, 1, 2, 2, 2, 1, 0, 0, 2, 2, 2, 0, 0, 1,\n",
       "       1, 1, 0, 0, 1, 0, 2, 0, 0, 0, 0, 2, 1, 2, 0, 2, 1, 2, 2, 0, 2, 0,\n",
       "       0, 2, 2, 1, 1, 1, 2, 0, 2, 0, 1, 1, 1, 1, 2, 1, 2, 0, 1, 1, 1, 2,\n",
       "       2, 0, 0, 0, 2, 0, 2, 2, 2, 1, 1, 0, 2, 1, 0, 1, 2, 0, 1, 1, 0, 1,\n",
       "       0, 2, 0, 2, 2, 2, 1, 2, 1, 1, 2, 2, 2, 0, 0, 2, 2, 2, 1, 0, 2, 2,\n",
       "       2, 2, 0, 1, 1, 0, 2, 0, 2, 2, 0, 2, 0, 0, 1, 2, 1, 0, 1, 2, 0, 1,\n",
       "       0, 1, 0, 1, 1, 2, 0, 2, 0, 1, 1, 0, 1, 1, 0, 1, 1, 0, 1, 0, 1, 0,\n",
       "       1, 1, 1, 2, 1, 2, 0, 2, 2, 2, 0, 0, 1, 0, 0, 1, 2, 0, 1, 0, 2, 2,\n",
       "       1, 2, 2, 0, 0, 2, 2, 0, 0, 1, 0, 0, 2, 1, 1, 0, 1, 2, 0, 2, 0, 1,\n",
       "       0, 2, 0, 1, 1, 0, 1, 0, 1, 1, 0, 1, 1, 0, 0, 0, 0, 0, 1, 2, 1, 1,\n",
       "       0, 0, 2, 0, 1, 1, 2, 0, 2, 0, 2, 2, 0, 1, 2, 1, 0, 0, 2, 1, 2, 2,\n",
       "       2, 2, 2, 1, 0, 1, 0, 0, 2, 2, 1, 1, 1, 1, 2, 0, 1, 0, 1, 0, 1, 0,\n",
       "       2, 1, 0, 2, 1, 2, 1, 2, 1, 1, 2, 2, 1, 2, 1, 1, 1, 2, 2, 2, 0, 1,\n",
       "       2, 1, 0, 0, 2, 1, 2, 0, 0, 1, 2, 0, 0, 2, 0, 1, 0, 0, 2, 2, 1, 1,\n",
       "       0, 0, 1, 1, 2, 1, 2, 1, 1, 0, 2, 1, 0, 0, 2, 0, 1, 2, 1, 1, 0, 1,\n",
       "       2, 0, 1, 1, 1, 0, 0, 1, 2, 0, 2, 1, 1, 1, 2, 0, 0, 0, 0, 1, 0, 0,\n",
       "       2, 0, 0, 1, 0, 0, 2, 2, 1, 0, 0, 1, 1, 0, 1, 1, 0, 1, 2, 2, 1, 2,\n",
       "       0, 1, 1, 0, 0, 2, 2, 1, 1, 2, 0, 1, 0, 2, 0, 2, 2, 2, 0, 1, 1, 0,\n",
       "       2, 2, 0, 1, 0, 1, 0, 2, 0, 0, 2, 2, 2, 1, 0, 2, 2, 2, 2, 1, 0, 1,\n",
       "       0, 1, 0, 1, 0, 2, 0, 1, 2, 1])"
      ]
     },
     "execution_count": 11,
     "metadata": {},
     "output_type": "execute_result"
    }
   ],
   "source": [
    "# y_train contains the target labels for the training set\n",
    "# This includes the cluster labels corresponding to the samples in X_train\n",
    "\n",
    "y_train"
   ]
  },
  {
   "cell_type": "code",
   "execution_count": 12,
   "id": "a6118428",
   "metadata": {},
   "outputs": [
    {
     "data": {
      "text/plain": [
       "array([0, 0, 0, 1, 2, 0, 1, 1, 2, 1, 0, 0, 2, 1, 0, 1, 1, 0, 2, 0, 0, 0,\n",
       "       1, 0, 0, 1, 2, 0, 2, 1, 1, 2, 1, 2, 1, 2, 2, 1, 2, 2, 0, 2, 2, 0,\n",
       "       1, 2, 1, 0, 0, 1, 2, 0, 1, 0, 2, 0, 0, 0, 2, 2, 2, 0, 0, 0, 0, 1,\n",
       "       1, 0, 2, 2, 0, 0, 2, 1, 1, 0, 1, 1, 0, 0, 2, 2, 1, 2, 1, 1, 2, 0,\n",
       "       1, 0, 2, 0, 2, 0, 2, 1, 0, 1, 2, 1, 1, 2, 0, 1, 2, 1, 2, 2, 1, 1,\n",
       "       2, 2, 1, 2, 1, 2, 2, 0, 2, 2, 2, 2, 1, 2, 1, 1, 2, 0, 2, 1, 2, 0,\n",
       "       0, 2, 1, 2, 0, 1, 0, 0, 2, 2, 2, 0, 2, 2, 1, 1, 1, 1, 0, 2, 2, 0,\n",
       "       0, 2, 0, 0, 1, 1, 0, 0, 1, 1, 2, 0, 1, 1, 0, 0, 0, 2, 0, 0, 2, 2,\n",
       "       2, 1, 1, 0, 1, 2, 1, 0, 2, 2, 1, 2, 1, 0, 2, 1, 2, 2, 2, 1, 2, 2,\n",
       "       1, 1, 0, 0, 1, 0, 1, 2, 1, 1, 2, 0, 2, 0, 0, 0, 0, 0, 2, 0, 0, 2,\n",
       "       1, 0, 2, 1, 2, 0, 0, 2, 0, 0, 0, 0, 2, 1, 2, 2, 1, 0, 1, 0, 2, 0,\n",
       "       0, 2, 0, 1, 0, 0, 2, 0, 1, 1, 1, 0, 1, 2, 0, 0, 1, 0, 1, 1, 1, 0,\n",
       "       1, 2, 0, 1, 1, 2, 1, 2, 2, 2, 1, 0, 2, 0, 2, 1, 1, 1, 0, 0, 1, 1,\n",
       "       0, 1, 2, 2, 2, 2, 0, 2, 2, 2, 2, 2, 1, 1, 0, 1, 0, 1, 2, 1, 0, 2,\n",
       "       1, 2, 0, 1, 0, 2, 2, 1, 1, 2, 2, 0, 1, 0, 2, 2, 2, 0, 2, 2, 2, 0])"
      ]
     },
     "execution_count": 12,
     "metadata": {},
     "output_type": "execute_result"
    }
   ],
   "source": [
    "# y_test contains the target labels for the testing set\n",
    "# This includes the cluster labels corresponding to the samples in X_test\n",
    "\n",
    "y_test"
   ]
  },
  {
   "cell_type": "code",
   "execution_count": 13,
   "id": "0bef87fb",
   "metadata": {},
   "outputs": [],
   "source": [
    "# Importing the KMeans clustering algorithm from scikit-learn\n",
    "\n",
    "from sklearn.cluster import KMeans"
   ]
  },
  {
   "cell_type": "code",
   "execution_count": 14,
   "id": "cc02f5b6",
   "metadata": {},
   "outputs": [],
   "source": [
    "# Manual Method for selecting the number of clusters (K)\n",
    "# Using the Elbow Method to determine the optimal K value\n",
    "\n",
    "# Initialize an empty list to store the within-cluster sum of squares (WCSS) for different values of K\n",
    "wcss = []\n",
    "\n",
    "# Iterate through a range of K values from 1 to 10\n",
    "for k in range(1, 11):\n",
    "    # Create a KMeans clustering model with the current K value and using 'k-means++' initialization\n",
    "    kmeans = KMeans(n_clusters=k, init='k-means++')\n",
    "    \n",
    "    # Fit the model to the training data\n",
    "    kmeans.fit(X_train)\n",
    "    \n",
    "    # Append the WCSS (inertia) to the list for the current K value\n",
    "    wcss.append(kmeans.inertia_)"
   ]
  },
  {
   "cell_type": "code",
   "execution_count": 15,
   "id": "e40eacfc",
   "metadata": {},
   "outputs": [
    {
     "data": {
      "text/plain": [
       "[34827.57682552022,\n",
       " 7935.4372861454185,\n",
       " 1319.2730531585607,\n",
       " 1140.467788465513,\n",
       " 992.5462587554143,\n",
       " 853.4241762517805,\n",
       " 756.4230272067554,\n",
       " 663.75212653544,\n",
       " 577.3271577081331,\n",
       " 531.4220481870644]"
      ]
     },
     "execution_count": 15,
     "metadata": {},
     "output_type": "execute_result"
    }
   ],
   "source": [
    "# wcss stores the within-cluster sum of squares (WCSS) for different values of K\n",
    "# It contains the inertia, which is the sum of squared distances of samples to their closest cluster center,\n",
    "# for each value of K from 1 to 10\n",
    "wcss"
   ]
  },
  {
   "cell_type": "code",
   "execution_count": 16,
   "id": "b5cfe259",
   "metadata": {},
   "outputs": [
    {
     "data": {
      "image/png": "[encoded data removed]",
      "text/plain": [
       "<Figure size 432x288 with 1 Axes>"
      ]
     },
     "metadata": {
      "needs_background": "light"
     },
     "output_type": "display_data"
    }
   ],
   "source": [
    "# Plotting the Elbow Curve to visualize the relationship between the number of clusters (K) and WCSS\n",
    "\n",
    "# Plot the WCSS values against the number of clusters (K)\n",
    "plt.plot(range(1, 11), wcss)\n",
    "\n",
    "# Set the x-axis ticks to range from 1 to 10 (number of clusters)\n",
    "plt.xticks(range(1, 11))\n",
    "\n",
    "# Label the x-axis as \"Number of Clusters\"\n",
    "plt.xlabel(\"Number of Clusters\")\n",
    "\n",
    "# Label the y-axis as \"WCSS\"\n",
    "plt.ylabel(\"WCSS\")\n",
    "\n",
    "# Display the plot\n",
    "plt.show()"
   ]
  },
  {
   "cell_type": "code",
   "execution_count": 17,
   "id": "87e48a48",
   "metadata": {},
   "outputs": [],
   "source": [
    "# Create a KMeans clustering model with 3 clusters using 'k-means++' initialization\n",
    "kmeans = KMeans(n_clusters=3, init='k-means++')"
   ]
  },
  {
   "cell_type": "code",
   "execution_count": 18,
   "id": "53c99579",
   "metadata": {},
   "outputs": [
    {
     "data": {
      "text/plain": [
       "KMeans(n_clusters=3)"
      ]
     },
     "execution_count": 18,
     "metadata": {},
     "output_type": "execute_result"
    }
   ],
   "source": [
    "kmeans"
   ]
  },
  {
   "cell_type": "code",
   "execution_count": 19,
   "id": "94f38b2d",
   "metadata": {},
   "outputs": [
    {
     "data": {
      "text/plain": [
       "array([1, 1, 1, 2, 2, 2, 1, 2, 1, 1, 0, 0, 1, 1, 0, 1, 0, 2, 0, 0, 2, 0,\n",
       "       0, 2, 2, 1, 1, 2, 2, 1, 2, 2, 1, 2, 0, 0, 0, 2, 2, 1, 1, 2, 1, 1,\n",
       "       2, 0, 0, 1, 2, 1, 1, 0, 1, 1, 1, 1, 1, 0, 2, 2, 1, 1, 2, 1, 0, 0,\n",
       "       0, 0, 2, 1, 0, 2, 1, 0, 1, 0, 2, 2, 2, 2, 1, 1, 0, 1, 0, 0, 1, 0,\n",
       "       1, 0, 1, 0, 1, 2, 1, 1, 2, 0, 0, 0, 0, 2, 0, 1, 2, 2, 0, 1, 0, 1,\n",
       "       2, 0, 1, 2, 2, 2, 2, 0, 1, 0, 1, 1, 0, 2, 1, 2, 1, 0, 2, 2, 1, 2,\n",
       "       2, 2, 2, 2, 2, 2, 1, 1, 0, 0, 1, 2, 0, 0, 2, 1, 0, 0, 0, 2, 0, 1,\n",
       "       1, 2, 1, 0, 0, 1, 0, 2, 0, 0, 2, 2, 2, 1, 2, 2, 1, 0, 2, 2, 0, 2,\n",
       "       0, 1, 0, 2, 0, 2, 1, 2, 2, 2, 0, 1, 0, 2, 1, 0, 2, 1, 1, 0, 0, 1,\n",
       "       0, 0, 0, 0, 1, 2, 1, 1, 0, 2, 0, 0, 1, 2, 1, 2, 1, 2, 0, 1, 2, 0,\n",
       "       2, 1, 1, 2, 2, 0, 2, 1, 0, 0, 1, 0, 2, 1, 0, 2, 1, 1, 1, 1, 0, 1,\n",
       "       1, 2, 1, 0, 0, 2, 1, 2, 1, 1, 2, 2, 2, 1, 0, 0, 2, 2, 2, 0, 0, 1,\n",
       "       1, 1, 0, 0, 1, 0, 2, 0, 0, 0, 0, 2, 1, 2, 0, 2, 1, 2, 2, 0, 2, 0,\n",
       "       0, 2, 2, 1, 1, 1, 2, 0, 2, 0, 1, 1, 1, 1, 2, 1, 2, 0, 1, 1, 1, 2,\n",
       "       2, 0, 0, 0, 2, 0, 2, 2, 2, 1, 1, 0, 2, 1, 0, 1, 2, 0, 1, 1, 0, 1,\n",
       "       0, 2, 0, 2, 2, 2, 1, 2, 1, 1, 2, 2, 2, 0, 0, 2, 2, 2, 1, 0, 2, 2,\n",
       "       2, 2, 0, 1, 1, 0, 2, 0, 2, 2, 0, 2, 0, 0, 1, 2, 1, 0, 1, 2, 0, 1,\n",
       "       0, 1, 0, 1, 1, 2, 0, 2, 0, 1, 1, 0, 1, 1, 0, 1, 1, 0, 1, 0, 1, 0,\n",
       "       1, 1, 1, 2, 1, 2, 0, 2, 2, 2, 0, 0, 1, 0, 0, 1, 2, 0, 1, 0, 2, 2,\n",
       "       1, 2, 2, 0, 0, 2, 2, 0, 0, 1, 0, 0, 2, 1, 1, 0, 1, 2, 0, 2, 0, 1,\n",
       "       0, 2, 0, 1, 1, 0, 1, 0, 1, 1, 0, 1, 1, 0, 0, 0, 0, 0, 1, 2, 1, 1,\n",
       "       0, 0, 2, 0, 1, 1, 2, 0, 2, 0, 2, 2, 0, 1, 2, 1, 0, 0, 2, 1, 2, 2,\n",
       "       2, 2, 2, 1, 0, 1, 0, 0, 2, 2, 1, 1, 1, 1, 2, 0, 1, 0, 1, 0, 1, 0,\n",
       "       2, 1, 0, 2, 1, 2, 1, 2, 1, 1, 2, 2, 1, 2, 1, 1, 1, 2, 2, 2, 0, 1,\n",
       "       2, 1, 0, 0, 2, 1, 2, 0, 0, 1, 2, 0, 0, 2, 0, 1, 0, 0, 2, 2, 1, 1,\n",
       "       0, 0, 1, 1, 2, 1, 2, 1, 1, 0, 2, 1, 0, 0, 2, 0, 1, 2, 1, 1, 0, 1,\n",
       "       2, 0, 1, 1, 1, 0, 0, 1, 2, 0, 2, 1, 1, 1, 2, 0, 0, 0, 0, 1, 0, 0,\n",
       "       2, 0, 0, 1, 0, 0, 2, 2, 1, 0, 0, 1, 1, 0, 1, 1, 0, 1, 2, 2, 1, 2,\n",
       "       0, 1, 1, 0, 0, 2, 2, 1, 1, 2, 0, 1, 0, 2, 0, 2, 2, 2, 0, 1, 1, 0,\n",
       "       2, 2, 0, 1, 0, 1, 0, 2, 0, 0, 2, 2, 2, 1, 0, 2, 2, 2, 2, 1, 0, 1,\n",
       "       0, 1, 0, 1, 0, 2, 0, 1, 2, 1])"
      ]
     },
     "execution_count": 19,
     "metadata": {},
     "output_type": "execute_result"
    }
   ],
   "source": [
    "# Obtain the cluster labels for each sample in the training set using the fitted KMeans model\n",
    "y_labels = kmeans.fit_predict(X_train)\n",
    "\n",
    "# y_labels contains the cluster labels assigned to each sample in the training set\n",
    "y_labels"
   ]
  },
  {
   "cell_type": "code",
   "execution_count": 20,
   "id": "6e349995",
   "metadata": {},
   "outputs": [
    {
     "data": {
      "text/plain": [
       "<matplotlib.collections.PathCollection at 0x262c49378e0>"
      ]
     },
     "execution_count": 20,
     "metadata": {},
     "output_type": "execute_result"
    },
    {
     "data": {
      "image/png": "[encoded data removed]",
      "text/plain": [
       "<Figure size 432x288 with 1 Axes>"
      ]
     },
     "metadata": {
      "needs_background": "light"
     },
     "output_type": "display_data"
    }
   ],
   "source": [
    "# Create a scatter plot of the training data points\n",
    "# Plot the first feature (X_train[:, 0]) on the x-axis and the second feature (X_train[:, 1]) on the y-axis\n",
    "# Color the points based on their assigned cluster labels (y_labels)\n",
    "\n",
    "plt.scatter(X_train[:, 0], X_train[:, 1], c=y_labels)"
   ]
  },
  {
   "cell_type": "code",
   "execution_count": 21,
   "id": "a2392dd3",
   "metadata": {},
   "outputs": [
    {
     "data": {
      "text/plain": [
       "array([0, 0, 0, 1, 2, 0, 1, 1, 2, 1, 0, 0, 2, 1, 0, 1, 1, 0, 2, 0, 0, 0,\n",
       "       1, 0, 0, 1, 2, 0, 2, 1, 1, 2, 1, 2, 1, 2, 2, 1, 2, 2, 0, 2, 2, 0,\n",
       "       1, 2, 1, 0, 0, 1, 2, 0, 1, 0, 2, 0, 0, 0, 2, 2, 2, 0, 0, 0, 0, 1,\n",
       "       1, 0, 2, 2, 0, 0, 2, 1, 1, 0, 1, 1, 0, 0, 2, 2, 1, 2, 1, 1, 2, 0,\n",
       "       1, 0, 2, 0, 2, 0, 2, 1, 0, 1, 2, 1, 1, 2, 0, 1, 2, 1, 2, 2, 1, 1,\n",
       "       2, 2, 1, 2, 1, 2, 2, 0, 2, 2, 2, 2, 1, 2, 1, 1, 2, 0, 2, 1, 2, 0,\n",
       "       0, 2, 1, 2, 0, 1, 0, 0, 2, 2, 2, 0, 2, 2, 1, 1, 1, 1, 0, 2, 2, 0,\n",
       "       0, 2, 0, 0, 1, 1, 0, 0, 1, 1, 2, 0, 1, 1, 0, 0, 0, 2, 0, 0, 2, 2,\n",
       "       2, 1, 1, 0, 1, 2, 1, 0, 2, 2, 1, 2, 1, 0, 2, 1, 2, 2, 2, 1, 2, 2,\n",
       "       1, 1, 0, 0, 1, 0, 1, 2, 1, 1, 2, 0, 2, 0, 0, 0, 0, 0, 2, 0, 0, 2,\n",
       "       1, 0, 2, 1, 2, 0, 0, 2, 0, 0, 0, 0, 2, 1, 2, 2, 1, 0, 1, 0, 2, 0,\n",
       "       0, 2, 0, 1, 0, 0, 2, 0, 1, 1, 1, 0, 1, 2, 0, 0, 1, 0, 1, 1, 1, 0,\n",
       "       1, 2, 0, 1, 1, 2, 1, 2, 2, 2, 1, 0, 2, 0, 2, 1, 1, 1, 0, 0, 1, 1,\n",
       "       0, 1, 2, 2, 2, 2, 0, 2, 2, 2, 2, 2, 1, 1, 0, 1, 0, 1, 2, 1, 0, 2,\n",
       "       1, 2, 0, 1, 0, 2, 2, 1, 1, 2, 2, 0, 1, 0, 2, 2, 2, 0, 2, 2, 2, 0])"
      ]
     },
     "execution_count": 21,
     "metadata": {},
     "output_type": "execute_result"
    }
   ],
   "source": [
    "# Obtain the predicted cluster labels for each sample in the testing set using the fitted KMeans model\n",
    "y_test_label = kmeans.predict(X_test)\n",
    "\n",
    "# y_test_label contains the predicted cluster labels for each sample in the testing set\n",
    "y_test_label"
   ]
  },
  {
   "cell_type": "code",
   "execution_count": 22,
   "id": "f879924b",
   "metadata": {},
   "outputs": [
    {
     "data": {
      "text/plain": [
       "<matplotlib.collections.PathCollection at 0x262c597a7c0>"
      ]
     },
     "execution_count": 22,
     "metadata": {},
     "output_type": "execute_result"
    },
    {
     "data": {
      "image/png": "[encoded data removed]",
      "text/plain": [
       "<Figure size 432x288 with 1 Axes>"
      ]
     },
     "metadata": {
      "needs_background": "light"
     },
     "output_type": "display_data"
    }
   ],
   "source": [
    "# Create a scatter plot of the testing data points\n",
    "# Plot the first feature (X_test[:, 0]) on the x-axis and the second feature (X_test[:, 1]) on the y-axis\n",
    "# Color the points based on their predicted cluster labels (y_test_label)\n",
    "\n",
    "plt.scatter(X_test[:, 0], X_test[:, 1], c=y_test_label)"
   ]
  },
  {
   "cell_type": "code",
   "execution_count": 23,
   "id": "1a96bad0",
   "metadata": {},
   "outputs": [
    {
     "name": "stdout",
     "output_type": "stream",
     "text": [
      "Requirement already satisfied: kneed in c:\\users\\khuboo\\anaconda3\\lib\\site-packages (0.8.5)\n",
      "Requirement already satisfied: scipy>=1.0.0 in c:\\users\\khuboo\\anaconda3\\lib\\site-packages (from kneed) (1.7.3)\n",
      "Requirement already satisfied: numpy>=1.14.2 in c:\\users\\khuboo\\anaconda3\\lib\\site-packages (from kneed) (1.20.0)\n"
     ]
    }
   ],
   "source": [
    "## Knee Locator\n",
    "!pip install kneed"
   ]
  },
  {
   "cell_type": "code",
   "execution_count": 24,
   "id": "db03d951",
   "metadata": {},
   "outputs": [],
   "source": [
    "# Import the KneeLocator class from the kneed library\n",
    "\n",
    "from kneed import KneeLocator"
   ]
  },
  {
   "cell_type": "code",
   "execution_count": 25,
   "id": "bc438851",
   "metadata": {},
   "outputs": [
    {
     "name": "stdout",
     "output_type": "stream",
     "text": [
      "k_value 3\n"
     ]
    }
   ],
   "source": [
    "# Instantiate a KneeLocator object to identify the elbow point in the WCSS curve\n",
    "# The knee point represents the optimal number of clusters\n",
    "# Parameters:\n",
    "# - range(1, 11): Range of K values (1 to 10)\n",
    "# - wcss: Within-cluster sum of squares corresponding to each K value\n",
    "# - curve='convex': Shape of the curve ('convex' for convex curve)\n",
    "# - direction='decreasing': Direction of the curve (decreasing)\n",
    "\n",
    "kl = KneeLocator(range(1, 11), wcss, curve='convex', direction='decreasing')\n",
    "\n",
    "# Print the optimal number of clusters (k_value) identified by the KneeLocator\n",
    "print(\"k_value\", kl.elbow)"
   ]
  },
  {
   "cell_type": "code",
   "execution_count": 26,
   "id": "f30fbfc1",
   "metadata": {},
   "outputs": [],
   "source": [
    "# Import the silhouette_score function from sklearn.metrics module\n",
    "# Silhouette score is a performance metric used to evaluate the quality of clustering\n",
    "\n",
    "from sklearn.metrics import silhouette_score"
   ]
  },
  {
   "cell_type": "code",
   "execution_count": 27,
   "id": "fb992390",
   "metadata": {},
   "outputs": [],
   "source": [
    "# Initialize an empty list to store silhouette scores for different values of K\n",
    "silhouette_coefficients = []\n",
    "\n",
    "# Iterate through a range of K values from 2 to 10\n",
    "for k in range(2, 11):\n",
    "    # Create a KMeans clustering model with the current K value and using 'k-means++' initialization\n",
    "    kmeans = KMeans(n_clusters=k, init='k-means++')\n",
    "    \n",
    "    # Fit the model to the training data\n",
    "    kmeans.fit(X_train)\n",
    "    \n",
    "    # Calculate the silhouette score for the current clustering\n",
    "    # Silhouette score measures the quality of clustering, with higher values indicating better separation\n",
    "    score = silhouette_score(X_train, kmeans.labels_)\n",
    "    \n",
    "    # Append the silhouette score to the list for the current K value\n",
    "    silhouette_coefficients.append(score)\n"
   ]
  },
  {
   "cell_type": "code",
   "execution_count": 28,
   "id": "937c506b",
   "metadata": {},
   "outputs": [
    {
     "data": {
      "text/plain": [
       "[0.7281443868598331,\n",
       " 0.8071181203797672,\n",
       " 0.6357733426488265,\n",
       " 0.48054666413259267,\n",
       " 0.340416235723841,\n",
       " 0.3473883753665496,\n",
       " 0.34391070688680925,\n",
       " 0.34418886557431627,\n",
       " 0.3423316870546045]"
      ]
     },
     "execution_count": 28,
     "metadata": {},
     "output_type": "execute_result"
    }
   ],
   "source": [
    "silhouette_coefficients"
   ]
  },
  {
   "cell_type": "code",
   "execution_count": 29,
   "id": "ae600541",
   "metadata": {},
   "outputs": [
    {
     "data": {
      "image/png": "[encoded data removed]",
      "text/plain": [
       "<Figure size 432x288 with 1 Axes>"
      ]
     },
     "metadata": {
      "needs_background": "light"
     },
     "output_type": "display_data"
    }
   ],
   "source": [
    "# Plotting the silhouette scores to visualize the relationship between the number of clusters (K) and silhouette coefficients\n",
    "\n",
    "# Plot the silhouette scores against the number of clusters (K)\n",
    "plt.plot(range(2, 11), silhouette_coefficients)\n",
    "\n",
    "# Set the x-axis ticks to range from 2 to 10 (number of clusters)\n",
    "plt.xticks(range(2, 11))\n",
    "\n",
    "# Label the x-axis as \"Number of Clusters\"\n",
    "plt.xlabel(\"Number of Clusters\")\n",
    "\n",
    "# Label the y-axis as \"Silhouette Coefficients\"\n",
    "plt.ylabel(\"Silhouette Coefficients\")\n",
    "\n",
    "# Display the plot\n",
    "plt.show()\n"
   ]
  }
 ],
 "metadata": {
  "kernelspec": {
   "display_name": "Python 3 (ipykernel)",
   "language": "python",
   "name": "python3"
  },
  "language_info": {
   "codemirror_mode": {
    "name": "ipython",
    "version": 3
   },
   "file_extension": ".py",
   "mimetype": "text/x-python",
   "name": "python",
   "nbconvert_exporter": "python",
   "pygments_lexer": "ipython3",
   "version": "3.9.12"
  }
 },
 "nbformat": 4,
 "nbformat_minor": 5
}
