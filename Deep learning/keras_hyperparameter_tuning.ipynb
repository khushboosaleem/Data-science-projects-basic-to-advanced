{
  "nbformat": 4,
  "nbformat_minor": 0,
  "metadata": {
    "colab": {
      "provenance": [],
      "gpuType": "T4"
    },
    "kernelspec": {
      "name": "python3",
      "display_name": "Python 3"
    },
    "language_info": {
      "name": "python"
    },
    "accelerator": "GPU"
  },
  "cells": [
    {
      "cell_type": "code",
      "execution_count": 116,
      "metadata": {
        "id": "lggL5zDkmWuK"
      },
      "outputs": [],
      "source": [
        "import pandas as pd\n",
        "import numpy as np\n"
      ]
    },
    {
      "cell_type": "code",
      "source": [
        "df = pd.read_csv(\"/content/diabetes.csv\")\n",
        "df.head()"
      ],
      "metadata": {
        "colab": {
          "base_uri": "https://localhost:8080/",
          "height": 226
        },
        "id": "UyngnuYGm-rw",
        "outputId": "5e105fc5-5f76-44aa-a933-e0416c472b16"
      },
      "execution_count": 117,
      "outputs": [
        {
          "output_type": "execute_result",
          "data": {
            "text/plain": [
              "   Pregnancies  Glucose  BloodPressure  SkinThickness  Insulin   BMI  \\\n",
              "0            6      148             72             35        0  33.6   \n",
              "1            1       85             66             29        0  26.6   \n",
              "2            8      183             64              0        0  23.3   \n",
              "3            1       89             66             23       94  28.1   \n",
              "4            0      137             40             35      168  43.1   \n",
              "\n",
              "   DiabetesPedigreeFunction  Age  Outcome  \n",
              "0                     0.627   50        1  \n",
              "1                     0.351   31        0  \n",
              "2                     0.672   32        1  \n",
              "3                     0.167   21        0  \n",
              "4                     2.288   33        1  "
            ],
            "text/html": [
              "\n",
              "  <div id=\"df-1916417f-e161-4d0d-910e-cb7eb2af1697\" class=\"colab-df-container\">\n",
              "    <div>\n",
              "<style scoped>\n",
              "    .dataframe tbody tr th:only-of-type {\n",
              "        vertical-align: middle;\n",
              "    }\n",
              "\n",
              "    .dataframe tbody tr th {\n",
              "        vertical-align: top;\n",
              "    }\n",
              "\n",
              "    .dataframe thead th {\n",
              "        text-align: right;\n",
              "    }\n",
              "</style>\n",
              "<table border=\"1\" class=\"dataframe\">\n",
              "  <thead>\n",
              "    <tr style=\"text-align: right;\">\n",
              "      <th></th>\n",
              "      <th>Pregnancies</th>\n",
              "      <th>Glucose</th>\n",
              "      <th>BloodPressure</th>\n",
              "      <th>SkinThickness</th>\n",
              "      <th>Insulin</th>\n",
              "      <th>BMI</th>\n",
              "      <th>DiabetesPedigreeFunction</th>\n",
              "      <th>Age</th>\n",
              "      <th>Outcome</th>\n",
              "    </tr>\n",
              "  </thead>\n",
              "  <tbody>\n",
              "    <tr>\n",
              "      <th>0</th>\n",
              "      <td>6</td>\n",
              "      <td>148</td>\n",
              "      <td>72</td>\n",
              "      <td>35</td>\n",
              "      <td>0</td>\n",
              "      <td>33.6</td>\n",
              "      <td>0.627</td>\n",
              "      <td>50</td>\n",
              "      <td>1</td>\n",
              "    </tr>\n",
              "    <tr>\n",
              "      <th>1</th>\n",
              "      <td>1</td>\n",
              "      <td>85</td>\n",
              "      <td>66</td>\n",
              "      <td>29</td>\n",
              "      <td>0</td>\n",
              "      <td>26.6</td>\n",
              "      <td>0.351</td>\n",
              "      <td>31</td>\n",
              "      <td>0</td>\n",
              "    </tr>\n",
              "    <tr>\n",
              "      <th>2</th>\n",
              "      <td>8</td>\n",
              "      <td>183</td>\n",
              "      <td>64</td>\n",
              "      <td>0</td>\n",
              "      <td>0</td>\n",
              "      <td>23.3</td>\n",
              "      <td>0.672</td>\n",
              "      <td>32</td>\n",
              "      <td>1</td>\n",
              "    </tr>\n",
              "    <tr>\n",
              "      <th>3</th>\n",
              "      <td>1</td>\n",
              "      <td>89</td>\n",
              "      <td>66</td>\n",
              "      <td>23</td>\n",
              "      <td>94</td>\n",
              "      <td>28.1</td>\n",
              "      <td>0.167</td>\n",
              "      <td>21</td>\n",
              "      <td>0</td>\n",
              "    </tr>\n",
              "    <tr>\n",
              "      <th>4</th>\n",
              "      <td>0</td>\n",
              "      <td>137</td>\n",
              "      <td>40</td>\n",
              "      <td>35</td>\n",
              "      <td>168</td>\n",
              "      <td>43.1</td>\n",
              "      <td>2.288</td>\n",
              "      <td>33</td>\n",
              "      <td>1</td>\n",
              "    </tr>\n",
              "  </tbody>\n",
              "</table>\n",
              "</div>\n",
              "    <div class=\"colab-df-buttons\">\n",
              "\n",
              "  <div class=\"colab-df-container\">\n",
              "    <button class=\"colab-df-convert\" onclick=\"convertToInteractive('df-1916417f-e161-4d0d-910e-cb7eb2af1697')\"\n",
              "            title=\"Convert this dataframe to an interactive table.\"\n",
              "            style=\"display:none;\">\n",
              "\n",
              "  <svg xmlns=\"http://www.w3.org/2000/svg\" height=\"24px\" viewBox=\"0 -960 960 960\">\n",
              "    <path d=\"M120-120v-720h720v720H120Zm60-500h600v-160H180v160Zm220 220h160v-160H400v160Zm0 220h160v-160H400v160ZM180-400h160v-160H180v160Zm440 0h160v-160H620v160ZM180-180h160v-160H180v160Zm440 0h160v-160H620v160Z\"/>\n",
              "  </svg>\n",
              "    </button>\n",
              "\n",
              "  <style>\n",
              "    .colab-df-container {\n",
              "      display:flex;\n",
              "      gap: 12px;\n",
              "    }\n",
              "\n",
              "    .colab-df-convert {\n",
              "      background-color: #E8F0FE;\n",
              "      border: none;\n",
              "      border-radius: 50%;\n",
              "      cursor: pointer;\n",
              "      display: none;\n",
              "      fill: #1967D2;\n",
              "      height: 32px;\n",
              "      padding: 0 0 0 0;\n",
              "      width: 32px;\n",
              "    }\n",
              "\n",
              "    .colab-df-convert:hover {\n",
              "      background-color: #E2EBFA;\n",
              "      box-shadow: 0px 1px 2px rgba(60, 64, 67, 0.3), 0px 1px 3px 1px rgba(60, 64, 67, 0.15);\n",
              "      fill: #174EA6;\n",
              "    }\n",
              "\n",
              "    .colab-df-buttons div {\n",
              "      margin-bottom: 4px;\n",
              "    }\n",
              "\n",
              "    [theme=dark] .colab-df-convert {\n",
              "      background-color: #3B4455;\n",
              "      fill: #D2E3FC;\n",
              "    }\n",
              "\n",
              "    [theme=dark] .colab-df-convert:hover {\n",
              "      background-color: #434B5C;\n",
              "      box-shadow: 0px 1px 3px 1px rgba(0, 0, 0, 0.15);\n",
              "      filter: drop-shadow(0px 1px 2px rgba(0, 0, 0, 0.3));\n",
              "      fill: #FFFFFF;\n",
              "    }\n",
              "  </style>\n",
              "\n",
              "    <script>\n",
              "      const buttonEl =\n",
              "        document.querySelector('#df-1916417f-e161-4d0d-910e-cb7eb2af1697 button.colab-df-convert');\n",
              "      buttonEl.style.display =\n",
              "        google.colab.kernel.accessAllowed ? 'block' : 'none';\n",
              "\n",
              "      async function convertToInteractive(key) {\n",
              "        const element = document.querySelector('#df-1916417f-e161-4d0d-910e-cb7eb2af1697');\n",
              "        const dataTable =\n",
              "          await google.colab.kernel.invokeFunction('convertToInteractive',\n",
              "                                                    [key], {});\n",
              "        if (!dataTable) return;\n",
              "\n",
              "        const docLinkHtml = 'Like what you see? Visit the ' +\n",
              "          '<a target=\"_blank\" href=https://colab.research.google.com/notebooks/data_table.ipynb>data table notebook</a>'\n",
              "          + ' to learn more about interactive tables.';\n",
              "        element.innerHTML = '';\n",
              "        dataTable['output_type'] = 'display_data';\n",
              "        await google.colab.output.renderOutput(dataTable, element);\n",
              "        const docLink = document.createElement('div');\n",
              "        docLink.innerHTML = docLinkHtml;\n",
              "        element.appendChild(docLink);\n",
              "      }\n",
              "    </script>\n",
              "  </div>\n",
              "\n",
              "\n",
              "<div id=\"df-0e37826c-9364-4bf5-ba52-e99ca6383a8b\">\n",
              "  <button class=\"colab-df-quickchart\" onclick=\"quickchart('df-0e37826c-9364-4bf5-ba52-e99ca6383a8b')\"\n",
              "            title=\"Suggest charts\"\n",
              "            style=\"display:none;\">\n",
              "\n",
              "<svg xmlns=\"http://www.w3.org/2000/svg\" height=\"24px\"viewBox=\"0 0 24 24\"\n",
              "     width=\"24px\">\n",
              "    <g>\n",
              "        <path d=\"M19 3H5c-1.1 0-2 .9-2 2v14c0 1.1.9 2 2 2h14c1.1 0 2-.9 2-2V5c0-1.1-.9-2-2-2zM9 17H7v-7h2v7zm4 0h-2V7h2v10zm4 0h-2v-4h2v4z\"/>\n",
              "    </g>\n",
              "</svg>\n",
              "  </button>\n",
              "\n",
              "<style>\n",
              "  .colab-df-quickchart {\n",
              "      --bg-color: #E8F0FE;\n",
              "      --fill-color: #1967D2;\n",
              "      --hover-bg-color: #E2EBFA;\n",
              "      --hover-fill-color: #174EA6;\n",
              "      --disabled-fill-color: #AAA;\n",
              "      --disabled-bg-color: #DDD;\n",
              "  }\n",
              "\n",
              "  [theme=dark] .colab-df-quickchart {\n",
              "      --bg-color: #3B4455;\n",
              "      --fill-color: #D2E3FC;\n",
              "      --hover-bg-color: #434B5C;\n",
              "      --hover-fill-color: #FFFFFF;\n",
              "      --disabled-bg-color: #3B4455;\n",
              "      --disabled-fill-color: #666;\n",
              "  }\n",
              "\n",
              "  .colab-df-quickchart {\n",
              "    background-color: var(--bg-color);\n",
              "    border: none;\n",
              "    border-radius: 50%;\n",
              "    cursor: pointer;\n",
              "    display: none;\n",
              "    fill: var(--fill-color);\n",
              "    height: 32px;\n",
              "    padding: 0;\n",
              "    width: 32px;\n",
              "  }\n",
              "\n",
              "  .colab-df-quickchart:hover {\n",
              "    background-color: var(--hover-bg-color);\n",
              "    box-shadow: 0 1px 2px rgba(60, 64, 67, 0.3), 0 1px 3px 1px rgba(60, 64, 67, 0.15);\n",
              "    fill: var(--button-hover-fill-color);\n",
              "  }\n",
              "\n",
              "  .colab-df-quickchart-complete:disabled,\n",
              "  .colab-df-quickchart-complete:disabled:hover {\n",
              "    background-color: var(--disabled-bg-color);\n",
              "    fill: var(--disabled-fill-color);\n",
              "    box-shadow: none;\n",
              "  }\n",
              "\n",
              "  .colab-df-spinner {\n",
              "    border: 2px solid var(--fill-color);\n",
              "    border-color: transparent;\n",
              "    border-bottom-color: var(--fill-color);\n",
              "    animation:\n",
              "      spin 1s steps(1) infinite;\n",
              "  }\n",
              "\n",
              "  @keyframes spin {\n",
              "    0% {\n",
              "      border-color: transparent;\n",
              "      border-bottom-color: var(--fill-color);\n",
              "      border-left-color: var(--fill-color);\n",
              "    }\n",
              "    20% {\n",
              "      border-color: transparent;\n",
              "      border-left-color: var(--fill-color);\n",
              "      border-top-color: var(--fill-color);\n",
              "    }\n",
              "    30% {\n",
              "      border-color: transparent;\n",
              "      border-left-color: var(--fill-color);\n",
              "      border-top-color: var(--fill-color);\n",
              "      border-right-color: var(--fill-color);\n",
              "    }\n",
              "    40% {\n",
              "      border-color: transparent;\n",
              "      border-right-color: var(--fill-color);\n",
              "      border-top-color: var(--fill-color);\n",
              "    }\n",
              "    60% {\n",
              "      border-color: transparent;\n",
              "      border-right-color: var(--fill-color);\n",
              "    }\n",
              "    80% {\n",
              "      border-color: transparent;\n",
              "      border-right-color: var(--fill-color);\n",
              "      border-bottom-color: var(--fill-color);\n",
              "    }\n",
              "    90% {\n",
              "      border-color: transparent;\n",
              "      border-bottom-color: var(--fill-color);\n",
              "    }\n",
              "  }\n",
              "</style>\n",
              "\n",
              "  <script>\n",
              "    async function quickchart(key) {\n",
              "      const quickchartButtonEl =\n",
              "        document.querySelector('#' + key + ' button');\n",
              "      quickchartButtonEl.disabled = true;  // To prevent multiple clicks.\n",
              "      quickchartButtonEl.classList.add('colab-df-spinner');\n",
              "      try {\n",
              "        const charts = await google.colab.kernel.invokeFunction(\n",
              "            'suggestCharts', [key], {});\n",
              "      } catch (error) {\n",
              "        console.error('Error during call to suggestCharts:', error);\n",
              "      }\n",
              "      quickchartButtonEl.classList.remove('colab-df-spinner');\n",
              "      quickchartButtonEl.classList.add('colab-df-quickchart-complete');\n",
              "    }\n",
              "    (() => {\n",
              "      let quickchartButtonEl =\n",
              "        document.querySelector('#df-0e37826c-9364-4bf5-ba52-e99ca6383a8b button');\n",
              "      quickchartButtonEl.style.display =\n",
              "        google.colab.kernel.accessAllowed ? 'block' : 'none';\n",
              "    })();\n",
              "  </script>\n",
              "</div>\n",
              "\n",
              "    </div>\n",
              "  </div>\n"
            ],
            "application/vnd.google.colaboratory.intrinsic+json": {
              "type": "dataframe",
              "variable_name": "df",
              "summary": "{\n  \"name\": \"df\",\n  \"rows\": 768,\n  \"fields\": [\n    {\n      \"column\": \"Pregnancies\",\n      \"properties\": {\n        \"dtype\": \"number\",\n        \"std\": 3,\n        \"min\": 0,\n        \"max\": 17,\n        \"num_unique_values\": 17,\n        \"samples\": [\n          6,\n          1,\n          3\n        ],\n        \"semantic_type\": \"\",\n        \"description\": \"\"\n      }\n    },\n    {\n      \"column\": \"Glucose\",\n      \"properties\": {\n        \"dtype\": \"number\",\n        \"std\": 31,\n        \"min\": 0,\n        \"max\": 199,\n        \"num_unique_values\": 136,\n        \"samples\": [\n          151,\n          101,\n          112\n        ],\n        \"semantic_type\": \"\",\n        \"description\": \"\"\n      }\n    },\n    {\n      \"column\": \"BloodPressure\",\n      \"properties\": {\n        \"dtype\": \"number\",\n        \"std\": 19,\n        \"min\": 0,\n        \"max\": 122,\n        \"num_unique_values\": 47,\n        \"samples\": [\n          86,\n          46,\n          85\n        ],\n        \"semantic_type\": \"\",\n        \"description\": \"\"\n      }\n    },\n    {\n      \"column\": \"SkinThickness\",\n      \"properties\": {\n        \"dtype\": \"number\",\n        \"std\": 15,\n        \"min\": 0,\n        \"max\": 99,\n        \"num_unique_values\": 51,\n        \"samples\": [\n          7,\n          12,\n          48\n        ],\n        \"semantic_type\": \"\",\n        \"description\": \"\"\n      }\n    },\n    {\n      \"column\": \"Insulin\",\n      \"properties\": {\n        \"dtype\": \"number\",\n        \"std\": 115,\n        \"min\": 0,\n        \"max\": 846,\n        \"num_unique_values\": 186,\n        \"samples\": [\n          52,\n          41,\n          183\n        ],\n        \"semantic_type\": \"\",\n        \"description\": \"\"\n      }\n    },\n    {\n      \"column\": \"BMI\",\n      \"properties\": {\n        \"dtype\": \"number\",\n        \"std\": 7.884160320375446,\n        \"min\": 0.0,\n        \"max\": 67.1,\n        \"num_unique_values\": 248,\n        \"samples\": [\n          19.9,\n          31.0,\n          38.1\n        ],\n        \"semantic_type\": \"\",\n        \"description\": \"\"\n      }\n    },\n    {\n      \"column\": \"DiabetesPedigreeFunction\",\n      \"properties\": {\n        \"dtype\": \"number\",\n        \"std\": 0.3313285950127749,\n        \"min\": 0.078,\n        \"max\": 2.42,\n        \"num_unique_values\": 517,\n        \"samples\": [\n          1.731,\n          0.426,\n          0.138\n        ],\n        \"semantic_type\": \"\",\n        \"description\": \"\"\n      }\n    },\n    {\n      \"column\": \"Age\",\n      \"properties\": {\n        \"dtype\": \"number\",\n        \"std\": 11,\n        \"min\": 21,\n        \"max\": 81,\n        \"num_unique_values\": 52,\n        \"samples\": [\n          60,\n          47,\n          72\n        ],\n        \"semantic_type\": \"\",\n        \"description\": \"\"\n      }\n    },\n    {\n      \"column\": \"Outcome\",\n      \"properties\": {\n        \"dtype\": \"number\",\n        \"std\": 0,\n        \"min\": 0,\n        \"max\": 1,\n        \"num_unique_values\": 2,\n        \"samples\": [\n          0,\n          1\n        ],\n        \"semantic_type\": \"\",\n        \"description\": \"\"\n      }\n    }\n  ]\n}"
            }
          },
          "metadata": {},
          "execution_count": 117
        }
      ]
    },
    {
      "cell_type": "code",
      "source": [
        "df.info()"
      ],
      "metadata": {
        "colab": {
          "base_uri": "https://localhost:8080/"
        },
        "id": "IVXDbQ6jnGiu",
        "outputId": "b102dd68-b56b-48ee-fe14-00721dab01ed"
      },
      "execution_count": 118,
      "outputs": [
        {
          "output_type": "stream",
          "name": "stdout",
          "text": [
            "<class 'pandas.core.frame.DataFrame'>\n",
            "RangeIndex: 768 entries, 0 to 767\n",
            "Data columns (total 9 columns):\n",
            " #   Column                    Non-Null Count  Dtype  \n",
            "---  ------                    --------------  -----  \n",
            " 0   Pregnancies               768 non-null    int64  \n",
            " 1   Glucose                   768 non-null    int64  \n",
            " 2   BloodPressure             768 non-null    int64  \n",
            " 3   SkinThickness             768 non-null    int64  \n",
            " 4   Insulin                   768 non-null    int64  \n",
            " 5   BMI                       768 non-null    float64\n",
            " 6   DiabetesPedigreeFunction  768 non-null    float64\n",
            " 7   Age                       768 non-null    int64  \n",
            " 8   Outcome                   768 non-null    int64  \n",
            "dtypes: float64(2), int64(7)\n",
            "memory usage: 54.1 KB\n"
          ]
        }
      ]
    },
    {
      "cell_type": "code",
      "source": [
        "df.duplicated().sum()"
      ],
      "metadata": {
        "colab": {
          "base_uri": "https://localhost:8080/"
        },
        "id": "M7403JM8nLye",
        "outputId": "103a3678-7bd3-48ac-b76f-659dc4411a08"
      },
      "execution_count": 119,
      "outputs": [
        {
          "output_type": "execute_result",
          "data": {
            "text/plain": [
              "0"
            ]
          },
          "metadata": {},
          "execution_count": 119
        }
      ]
    },
    {
      "cell_type": "code",
      "source": [
        "df.corr()[\"Outcome\"]"
      ],
      "metadata": {
        "colab": {
          "base_uri": "https://localhost:8080/"
        },
        "id": "NI55bCd4njdf",
        "outputId": "3d257c21-8c27-4a98-85ff-fa07e9bb75bf"
      },
      "execution_count": 120,
      "outputs": [
        {
          "output_type": "execute_result",
          "data": {
            "text/plain": [
              "Pregnancies                 0.221898\n",
              "Glucose                     0.466581\n",
              "BloodPressure               0.065068\n",
              "SkinThickness               0.074752\n",
              "Insulin                     0.130548\n",
              "BMI                         0.292695\n",
              "DiabetesPedigreeFunction    0.173844\n",
              "Age                         0.238356\n",
              "Outcome                     1.000000\n",
              "Name: Outcome, dtype: float64"
            ]
          },
          "metadata": {},
          "execution_count": 120
        }
      ]
    },
    {
      "cell_type": "code",
      "source": [
        "X = df.iloc[:,:-1]\n",
        "X"
      ],
      "metadata": {
        "colab": {
          "base_uri": "https://localhost:8080/",
          "height": 443
        },
        "id": "7I_Xbw9qnSwf",
        "outputId": "66106586-7a89-4821-a3ed-587032ce25fc"
      },
      "execution_count": 121,
      "outputs": [
        {
          "output_type": "execute_result",
          "data": {
            "text/plain": [
              "     Pregnancies  Glucose  BloodPressure  SkinThickness  Insulin   BMI  \\\n",
              "0              6      148             72             35        0  33.6   \n",
              "1              1       85             66             29        0  26.6   \n",
              "2              8      183             64              0        0  23.3   \n",
              "3              1       89             66             23       94  28.1   \n",
              "4              0      137             40             35      168  43.1   \n",
              "..           ...      ...            ...            ...      ...   ...   \n",
              "763           10      101             76             48      180  32.9   \n",
              "764            2      122             70             27        0  36.8   \n",
              "765            5      121             72             23      112  26.2   \n",
              "766            1      126             60              0        0  30.1   \n",
              "767            1       93             70             31        0  30.4   \n",
              "\n",
              "     DiabetesPedigreeFunction  Age  \n",
              "0                       0.627   50  \n",
              "1                       0.351   31  \n",
              "2                       0.672   32  \n",
              "3                       0.167   21  \n",
              "4                       2.288   33  \n",
              "..                        ...  ...  \n",
              "763                     0.171   63  \n",
              "764                     0.340   27  \n",
              "765                     0.245   30  \n",
              "766                     0.349   47  \n",
              "767                     0.315   23  \n",
              "\n",
              "[768 rows x 8 columns]"
            ],
            "text/html": [
              "\n",
              "  <div id=\"df-9af8aa9c-b80f-4a01-9085-2a1b111ca03e\" class=\"colab-df-container\">\n",
              "    <div>\n",
              "<style scoped>\n",
              "    .dataframe tbody tr th:only-of-type {\n",
              "        vertical-align: middle;\n",
              "    }\n",
              "\n",
              "    .dataframe tbody tr th {\n",
              "        vertical-align: top;\n",
              "    }\n",
              "\n",
              "    .dataframe thead th {\n",
              "        text-align: right;\n",
              "    }\n",
              "</style>\n",
              "<table border=\"1\" class=\"dataframe\">\n",
              "  <thead>\n",
              "    <tr style=\"text-align: right;\">\n",
              "      <th></th>\n",
              "      <th>Pregnancies</th>\n",
              "      <th>Glucose</th>\n",
              "      <th>BloodPressure</th>\n",
              "      <th>SkinThickness</th>\n",
              "      <th>Insulin</th>\n",
              "      <th>BMI</th>\n",
              "      <th>DiabetesPedigreeFunction</th>\n",
              "      <th>Age</th>\n",
              "    </tr>\n",
              "  </thead>\n",
              "  <tbody>\n",
              "    <tr>\n",
              "      <th>0</th>\n",
              "      <td>6</td>\n",
              "      <td>148</td>\n",
              "      <td>72</td>\n",
              "      <td>35</td>\n",
              "      <td>0</td>\n",
              "      <td>33.6</td>\n",
              "      <td>0.627</td>\n",
              "      <td>50</td>\n",
              "    </tr>\n",
              "    <tr>\n",
              "      <th>1</th>\n",
              "      <td>1</td>\n",
              "      <td>85</td>\n",
              "      <td>66</td>\n",
              "      <td>29</td>\n",
              "      <td>0</td>\n",
              "      <td>26.6</td>\n",
              "      <td>0.351</td>\n",
              "      <td>31</td>\n",
              "    </tr>\n",
              "    <tr>\n",
              "      <th>2</th>\n",
              "      <td>8</td>\n",
              "      <td>183</td>\n",
              "      <td>64</td>\n",
              "      <td>0</td>\n",
              "      <td>0</td>\n",
              "      <td>23.3</td>\n",
              "      <td>0.672</td>\n",
              "      <td>32</td>\n",
              "    </tr>\n",
              "    <tr>\n",
              "      <th>3</th>\n",
              "      <td>1</td>\n",
              "      <td>89</td>\n",
              "      <td>66</td>\n",
              "      <td>23</td>\n",
              "      <td>94</td>\n",
              "      <td>28.1</td>\n",
              "      <td>0.167</td>\n",
              "      <td>21</td>\n",
              "    </tr>\n",
              "    <tr>\n",
              "      <th>4</th>\n",
              "      <td>0</td>\n",
              "      <td>137</td>\n",
              "      <td>40</td>\n",
              "      <td>35</td>\n",
              "      <td>168</td>\n",
              "      <td>43.1</td>\n",
              "      <td>2.288</td>\n",
              "      <td>33</td>\n",
              "    </tr>\n",
              "    <tr>\n",
              "      <th>...</th>\n",
              "      <td>...</td>\n",
              "      <td>...</td>\n",
              "      <td>...</td>\n",
              "      <td>...</td>\n",
              "      <td>...</td>\n",
              "      <td>...</td>\n",
              "      <td>...</td>\n",
              "      <td>...</td>\n",
              "    </tr>\n",
              "    <tr>\n",
              "      <th>763</th>\n",
              "      <td>10</td>\n",
              "      <td>101</td>\n",
              "      <td>76</td>\n",
              "      <td>48</td>\n",
              "      <td>180</td>\n",
              "      <td>32.9</td>\n",
              "      <td>0.171</td>\n",
              "      <td>63</td>\n",
              "    </tr>\n",
              "    <tr>\n",
              "      <th>764</th>\n",
              "      <td>2</td>\n",
              "      <td>122</td>\n",
              "      <td>70</td>\n",
              "      <td>27</td>\n",
              "      <td>0</td>\n",
              "      <td>36.8</td>\n",
              "      <td>0.340</td>\n",
              "      <td>27</td>\n",
              "    </tr>\n",
              "    <tr>\n",
              "      <th>765</th>\n",
              "      <td>5</td>\n",
              "      <td>121</td>\n",
              "      <td>72</td>\n",
              "      <td>23</td>\n",
              "      <td>112</td>\n",
              "      <td>26.2</td>\n",
              "      <td>0.245</td>\n",
              "      <td>30</td>\n",
              "    </tr>\n",
              "    <tr>\n",
              "      <th>766</th>\n",
              "      <td>1</td>\n",
              "      <td>126</td>\n",
              "      <td>60</td>\n",
              "      <td>0</td>\n",
              "      <td>0</td>\n",
              "      <td>30.1</td>\n",
              "      <td>0.349</td>\n",
              "      <td>47</td>\n",
              "    </tr>\n",
              "    <tr>\n",
              "      <th>767</th>\n",
              "      <td>1</td>\n",
              "      <td>93</td>\n",
              "      <td>70</td>\n",
              "      <td>31</td>\n",
              "      <td>0</td>\n",
              "      <td>30.4</td>\n",
              "      <td>0.315</td>\n",
              "      <td>23</td>\n",
              "    </tr>\n",
              "  </tbody>\n",
              "</table>\n",
              "<p>768 rows × 8 columns</p>\n",
              "</div>\n",
              "    <div class=\"colab-df-buttons\">\n",
              "\n",
              "  <div class=\"colab-df-container\">\n",
              "    <button class=\"colab-df-convert\" onclick=\"convertToInteractive('df-9af8aa9c-b80f-4a01-9085-2a1b111ca03e')\"\n",
              "            title=\"Convert this dataframe to an interactive table.\"\n",
              "            style=\"display:none;\">\n",
              "\n",
              "  <svg xmlns=\"http://www.w3.org/2000/svg\" height=\"24px\" viewBox=\"0 -960 960 960\">\n",
              "    <path d=\"M120-120v-720h720v720H120Zm60-500h600v-160H180v160Zm220 220h160v-160H400v160Zm0 220h160v-160H400v160ZM180-400h160v-160H180v160Zm440 0h160v-160H620v160ZM180-180h160v-160H180v160Zm440 0h160v-160H620v160Z\"/>\n",
              "  </svg>\n",
              "    </button>\n",
              "\n",
              "  <style>\n",
              "    .colab-df-container {\n",
              "      display:flex;\n",
              "      gap: 12px;\n",
              "    }\n",
              "\n",
              "    .colab-df-convert {\n",
              "      background-color: #E8F0FE;\n",
              "      border: none;\n",
              "      border-radius: 50%;\n",
              "      cursor: pointer;\n",
              "      display: none;\n",
              "      fill: #1967D2;\n",
              "      height: 32px;\n",
              "      padding: 0 0 0 0;\n",
              "      width: 32px;\n",
              "    }\n",
              "\n",
              "    .colab-df-convert:hover {\n",
              "      background-color: #E2EBFA;\n",
              "      box-shadow: 0px 1px 2px rgba(60, 64, 67, 0.3), 0px 1px 3px 1px rgba(60, 64, 67, 0.15);\n",
              "      fill: #174EA6;\n",
              "    }\n",
              "\n",
              "    .colab-df-buttons div {\n",
              "      margin-bottom: 4px;\n",
              "    }\n",
              "\n",
              "    [theme=dark] .colab-df-convert {\n",
              "      background-color: #3B4455;\n",
              "      fill: #D2E3FC;\n",
              "    }\n",
              "\n",
              "    [theme=dark] .colab-df-convert:hover {\n",
              "      background-color: #434B5C;\n",
              "      box-shadow: 0px 1px 3px 1px rgba(0, 0, 0, 0.15);\n",
              "      filter: drop-shadow(0px 1px 2px rgba(0, 0, 0, 0.3));\n",
              "      fill: #FFFFFF;\n",
              "    }\n",
              "  </style>\n",
              "\n",
              "    <script>\n",
              "      const buttonEl =\n",
              "        document.querySelector('#df-9af8aa9c-b80f-4a01-9085-2a1b111ca03e button.colab-df-convert');\n",
              "      buttonEl.style.display =\n",
              "        google.colab.kernel.accessAllowed ? 'block' : 'none';\n",
              "\n",
              "      async function convertToInteractive(key) {\n",
              "        const element = document.querySelector('#df-9af8aa9c-b80f-4a01-9085-2a1b111ca03e');\n",
              "        const dataTable =\n",
              "          await google.colab.kernel.invokeFunction('convertToInteractive',\n",
              "                                                    [key], {});\n",
              "        if (!dataTable) return;\n",
              "\n",
              "        const docLinkHtml = 'Like what you see? Visit the ' +\n",
              "          '<a target=\"_blank\" href=https://colab.research.google.com/notebooks/data_table.ipynb>data table notebook</a>'\n",
              "          + ' to learn more about interactive tables.';\n",
              "        element.innerHTML = '';\n",
              "        dataTable['output_type'] = 'display_data';\n",
              "        await google.colab.output.renderOutput(dataTable, element);\n",
              "        const docLink = document.createElement('div');\n",
              "        docLink.innerHTML = docLinkHtml;\n",
              "        element.appendChild(docLink);\n",
              "      }\n",
              "    </script>\n",
              "  </div>\n",
              "\n",
              "\n",
              "<div id=\"df-86da752b-847f-44d7-b2e6-5f740efee869\">\n",
              "  <button class=\"colab-df-quickchart\" onclick=\"quickchart('df-86da752b-847f-44d7-b2e6-5f740efee869')\"\n",
              "            title=\"Suggest charts\"\n",
              "            style=\"display:none;\">\n",
              "\n",
              "<svg xmlns=\"http://www.w3.org/2000/svg\" height=\"24px\"viewBox=\"0 0 24 24\"\n",
              "     width=\"24px\">\n",
              "    <g>\n",
              "        <path d=\"M19 3H5c-1.1 0-2 .9-2 2v14c0 1.1.9 2 2 2h14c1.1 0 2-.9 2-2V5c0-1.1-.9-2-2-2zM9 17H7v-7h2v7zm4 0h-2V7h2v10zm4 0h-2v-4h2v4z\"/>\n",
              "    </g>\n",
              "</svg>\n",
              "  </button>\n",
              "\n",
              "<style>\n",
              "  .colab-df-quickchart {\n",
              "      --bg-color: #E8F0FE;\n",
              "      --fill-color: #1967D2;\n",
              "      --hover-bg-color: #E2EBFA;\n",
              "      --hover-fill-color: #174EA6;\n",
              "      --disabled-fill-color: #AAA;\n",
              "      --disabled-bg-color: #DDD;\n",
              "  }\n",
              "\n",
              "  [theme=dark] .colab-df-quickchart {\n",
              "      --bg-color: #3B4455;\n",
              "      --fill-color: #D2E3FC;\n",
              "      --hover-bg-color: #434B5C;\n",
              "      --hover-fill-color: #FFFFFF;\n",
              "      --disabled-bg-color: #3B4455;\n",
              "      --disabled-fill-color: #666;\n",
              "  }\n",
              "\n",
              "  .colab-df-quickchart {\n",
              "    background-color: var(--bg-color);\n",
              "    border: none;\n",
              "    border-radius: 50%;\n",
              "    cursor: pointer;\n",
              "    display: none;\n",
              "    fill: var(--fill-color);\n",
              "    height: 32px;\n",
              "    padding: 0;\n",
              "    width: 32px;\n",
              "  }\n",
              "\n",
              "  .colab-df-quickchart:hover {\n",
              "    background-color: var(--hover-bg-color);\n",
              "    box-shadow: 0 1px 2px rgba(60, 64, 67, 0.3), 0 1px 3px 1px rgba(60, 64, 67, 0.15);\n",
              "    fill: var(--button-hover-fill-color);\n",
              "  }\n",
              "\n",
              "  .colab-df-quickchart-complete:disabled,\n",
              "  .colab-df-quickchart-complete:disabled:hover {\n",
              "    background-color: var(--disabled-bg-color);\n",
              "    fill: var(--disabled-fill-color);\n",
              "    box-shadow: none;\n",
              "  }\n",
              "\n",
              "  .colab-df-spinner {\n",
              "    border: 2px solid var(--fill-color);\n",
              "    border-color: transparent;\n",
              "    border-bottom-color: var(--fill-color);\n",
              "    animation:\n",
              "      spin 1s steps(1) infinite;\n",
              "  }\n",
              "\n",
              "  @keyframes spin {\n",
              "    0% {\n",
              "      border-color: transparent;\n",
              "      border-bottom-color: var(--fill-color);\n",
              "      border-left-color: var(--fill-color);\n",
              "    }\n",
              "    20% {\n",
              "      border-color: transparent;\n",
              "      border-left-color: var(--fill-color);\n",
              "      border-top-color: var(--fill-color);\n",
              "    }\n",
              "    30% {\n",
              "      border-color: transparent;\n",
              "      border-left-color: var(--fill-color);\n",
              "      border-top-color: var(--fill-color);\n",
              "      border-right-color: var(--fill-color);\n",
              "    }\n",
              "    40% {\n",
              "      border-color: transparent;\n",
              "      border-right-color: var(--fill-color);\n",
              "      border-top-color: var(--fill-color);\n",
              "    }\n",
              "    60% {\n",
              "      border-color: transparent;\n",
              "      border-right-color: var(--fill-color);\n",
              "    }\n",
              "    80% {\n",
              "      border-color: transparent;\n",
              "      border-right-color: var(--fill-color);\n",
              "      border-bottom-color: var(--fill-color);\n",
              "    }\n",
              "    90% {\n",
              "      border-color: transparent;\n",
              "      border-bottom-color: var(--fill-color);\n",
              "    }\n",
              "  }\n",
              "</style>\n",
              "\n",
              "  <script>\n",
              "    async function quickchart(key) {\n",
              "      const quickchartButtonEl =\n",
              "        document.querySelector('#' + key + ' button');\n",
              "      quickchartButtonEl.disabled = true;  // To prevent multiple clicks.\n",
              "      quickchartButtonEl.classList.add('colab-df-spinner');\n",
              "      try {\n",
              "        const charts = await google.colab.kernel.invokeFunction(\n",
              "            'suggestCharts', [key], {});\n",
              "      } catch (error) {\n",
              "        console.error('Error during call to suggestCharts:', error);\n",
              "      }\n",
              "      quickchartButtonEl.classList.remove('colab-df-spinner');\n",
              "      quickchartButtonEl.classList.add('colab-df-quickchart-complete');\n",
              "    }\n",
              "    (() => {\n",
              "      let quickchartButtonEl =\n",
              "        document.querySelector('#df-86da752b-847f-44d7-b2e6-5f740efee869 button');\n",
              "      quickchartButtonEl.style.display =\n",
              "        google.colab.kernel.accessAllowed ? 'block' : 'none';\n",
              "    })();\n",
              "  </script>\n",
              "</div>\n",
              "\n",
              "  <div id=\"id_bf80212d-a3c8-4c72-8b5a-cd21648771e7\">\n",
              "    <style>\n",
              "      .colab-df-generate {\n",
              "        background-color: #E8F0FE;\n",
              "        border: none;\n",
              "        border-radius: 50%;\n",
              "        cursor: pointer;\n",
              "        display: none;\n",
              "        fill: #1967D2;\n",
              "        height: 32px;\n",
              "        padding: 0 0 0 0;\n",
              "        width: 32px;\n",
              "      }\n",
              "\n",
              "      .colab-df-generate:hover {\n",
              "        background-color: #E2EBFA;\n",
              "        box-shadow: 0px 1px 2px rgba(60, 64, 67, 0.3), 0px 1px 3px 1px rgba(60, 64, 67, 0.15);\n",
              "        fill: #174EA6;\n",
              "      }\n",
              "\n",
              "      [theme=dark] .colab-df-generate {\n",
              "        background-color: #3B4455;\n",
              "        fill: #D2E3FC;\n",
              "      }\n",
              "\n",
              "      [theme=dark] .colab-df-generate:hover {\n",
              "        background-color: #434B5C;\n",
              "        box-shadow: 0px 1px 3px 1px rgba(0, 0, 0, 0.15);\n",
              "        filter: drop-shadow(0px 1px 2px rgba(0, 0, 0, 0.3));\n",
              "        fill: #FFFFFF;\n",
              "      }\n",
              "    </style>\n",
              "    <button class=\"colab-df-generate\" onclick=\"generateWithVariable('X')\"\n",
              "            title=\"Generate code using this dataframe.\"\n",
              "            style=\"display:none;\">\n",
              "\n",
              "  <svg xmlns=\"http://www.w3.org/2000/svg\" height=\"24px\"viewBox=\"0 0 24 24\"\n",
              "       width=\"24px\">\n",
              "    <path d=\"M7,19H8.4L18.45,9,17,7.55,7,17.6ZM5,21V16.75L18.45,3.32a2,2,0,0,1,2.83,0l1.4,1.43a1.91,1.91,0,0,1,.58,1.4,1.91,1.91,0,0,1-.58,1.4L9.25,21ZM18.45,9,17,7.55Zm-12,3A5.31,5.31,0,0,0,4.9,8.1,5.31,5.31,0,0,0,1,6.5,5.31,5.31,0,0,0,4.9,4.9,5.31,5.31,0,0,0,6.5,1,5.31,5.31,0,0,0,8.1,4.9,5.31,5.31,0,0,0,12,6.5,5.46,5.46,0,0,0,6.5,12Z\"/>\n",
              "  </svg>\n",
              "    </button>\n",
              "    <script>\n",
              "      (() => {\n",
              "      const buttonEl =\n",
              "        document.querySelector('#id_bf80212d-a3c8-4c72-8b5a-cd21648771e7 button.colab-df-generate');\n",
              "      buttonEl.style.display =\n",
              "        google.colab.kernel.accessAllowed ? 'block' : 'none';\n",
              "\n",
              "      buttonEl.onclick = () => {\n",
              "        google.colab.notebook.generateWithVariable('X');\n",
              "      }\n",
              "      })();\n",
              "    </script>\n",
              "  </div>\n",
              "\n",
              "    </div>\n",
              "  </div>\n"
            ],
            "application/vnd.google.colaboratory.intrinsic+json": {
              "type": "dataframe",
              "variable_name": "X",
              "summary": "{\n  \"name\": \"X\",\n  \"rows\": 768,\n  \"fields\": [\n    {\n      \"column\": \"Pregnancies\",\n      \"properties\": {\n        \"dtype\": \"number\",\n        \"std\": 3,\n        \"min\": 0,\n        \"max\": 17,\n        \"num_unique_values\": 17,\n        \"samples\": [\n          6,\n          1,\n          3\n        ],\n        \"semantic_type\": \"\",\n        \"description\": \"\"\n      }\n    },\n    {\n      \"column\": \"Glucose\",\n      \"properties\": {\n        \"dtype\": \"number\",\n        \"std\": 31,\n        \"min\": 0,\n        \"max\": 199,\n        \"num_unique_values\": 136,\n        \"samples\": [\n          151,\n          101,\n          112\n        ],\n        \"semantic_type\": \"\",\n        \"description\": \"\"\n      }\n    },\n    {\n      \"column\": \"BloodPressure\",\n      \"properties\": {\n        \"dtype\": \"number\",\n        \"std\": 19,\n        \"min\": 0,\n        \"max\": 122,\n        \"num_unique_values\": 47,\n        \"samples\": [\n          86,\n          46,\n          85\n        ],\n        \"semantic_type\": \"\",\n        \"description\": \"\"\n      }\n    },\n    {\n      \"column\": \"SkinThickness\",\n      \"properties\": {\n        \"dtype\": \"number\",\n        \"std\": 15,\n        \"min\": 0,\n        \"max\": 99,\n        \"num_unique_values\": 51,\n        \"samples\": [\n          7,\n          12,\n          48\n        ],\n        \"semantic_type\": \"\",\n        \"description\": \"\"\n      }\n    },\n    {\n      \"column\": \"Insulin\",\n      \"properties\": {\n        \"dtype\": \"number\",\n        \"std\": 115,\n        \"min\": 0,\n        \"max\": 846,\n        \"num_unique_values\": 186,\n        \"samples\": [\n          52,\n          41,\n          183\n        ],\n        \"semantic_type\": \"\",\n        \"description\": \"\"\n      }\n    },\n    {\n      \"column\": \"BMI\",\n      \"properties\": {\n        \"dtype\": \"number\",\n        \"std\": 7.884160320375446,\n        \"min\": 0.0,\n        \"max\": 67.1,\n        \"num_unique_values\": 248,\n        \"samples\": [\n          19.9,\n          31.0,\n          38.1\n        ],\n        \"semantic_type\": \"\",\n        \"description\": \"\"\n      }\n    },\n    {\n      \"column\": \"DiabetesPedigreeFunction\",\n      \"properties\": {\n        \"dtype\": \"number\",\n        \"std\": 0.3313285950127749,\n        \"min\": 0.078,\n        \"max\": 2.42,\n        \"num_unique_values\": 517,\n        \"samples\": [\n          1.731,\n          0.426,\n          0.138\n        ],\n        \"semantic_type\": \"\",\n        \"description\": \"\"\n      }\n    },\n    {\n      \"column\": \"Age\",\n      \"properties\": {\n        \"dtype\": \"number\",\n        \"std\": 11,\n        \"min\": 21,\n        \"max\": 81,\n        \"num_unique_values\": 52,\n        \"samples\": [\n          60,\n          47,\n          72\n        ],\n        \"semantic_type\": \"\",\n        \"description\": \"\"\n      }\n    }\n  ]\n}"
            }
          },
          "metadata": {},
          "execution_count": 121
        }
      ]
    },
    {
      "cell_type": "code",
      "source": [
        "y = df.iloc[:,-1]\n",
        "y"
      ],
      "metadata": {
        "colab": {
          "base_uri": "https://localhost:8080/"
        },
        "id": "x7CvNResnfRe",
        "outputId": "dfcb2b96-e06c-4fe0-a064-42759d62968f"
      },
      "execution_count": 122,
      "outputs": [
        {
          "output_type": "execute_result",
          "data": {
            "text/plain": [
              "0      1\n",
              "1      0\n",
              "2      1\n",
              "3      0\n",
              "4      1\n",
              "      ..\n",
              "763    0\n",
              "764    0\n",
              "765    0\n",
              "766    1\n",
              "767    0\n",
              "Name: Outcome, Length: 768, dtype: int64"
            ]
          },
          "metadata": {},
          "execution_count": 122
        }
      ]
    },
    {
      "cell_type": "code",
      "source": [
        "from sklearn.preprocessing import StandardScaler"
      ],
      "metadata": {
        "id": "k0onsBniny5u"
      },
      "execution_count": 123,
      "outputs": []
    },
    {
      "cell_type": "code",
      "source": [
        "scaler = StandardScaler()\n",
        "X = scaler.fit_transform(X)"
      ],
      "metadata": {
        "id": "Aad3hO_coFEe"
      },
      "execution_count": 124,
      "outputs": []
    },
    {
      "cell_type": "code",
      "source": [
        "X"
      ],
      "metadata": {
        "colab": {
          "base_uri": "https://localhost:8080/"
        },
        "id": "5brMB7oAoU1e",
        "outputId": "08fffe64-78a5-4418-d616-7fc2375f47c6"
      },
      "execution_count": 125,
      "outputs": [
        {
          "output_type": "execute_result",
          "data": {
            "text/plain": [
              "array([[ 0.63994726,  0.84832379,  0.14964075, ...,  0.20401277,\n",
              "         0.46849198,  1.4259954 ],\n",
              "       [-0.84488505, -1.12339636, -0.16054575, ..., -0.68442195,\n",
              "        -0.36506078, -0.19067191],\n",
              "       [ 1.23388019,  1.94372388, -0.26394125, ..., -1.10325546,\n",
              "         0.60439732, -0.10558415],\n",
              "       ...,\n",
              "       [ 0.3429808 ,  0.00330087,  0.14964075, ..., -0.73518964,\n",
              "        -0.68519336, -0.27575966],\n",
              "       [-0.84488505,  0.1597866 , -0.47073225, ..., -0.24020459,\n",
              "        -0.37110101,  1.17073215],\n",
              "       [-0.84488505, -0.8730192 ,  0.04624525, ..., -0.20212881,\n",
              "        -0.47378505, -0.87137393]])"
            ]
          },
          "metadata": {},
          "execution_count": 125
        }
      ]
    },
    {
      "cell_type": "code",
      "source": [
        "X.shape"
      ],
      "metadata": {
        "colab": {
          "base_uri": "https://localhost:8080/"
        },
        "id": "daWe-_i9oV7P",
        "outputId": "78db7cea-2f88-45a9-ab04-8a1dc7d62cbc"
      },
      "execution_count": 126,
      "outputs": [
        {
          "output_type": "execute_result",
          "data": {
            "text/plain": [
              "(768, 8)"
            ]
          },
          "metadata": {},
          "execution_count": 126
        }
      ]
    },
    {
      "cell_type": "code",
      "source": [
        "import sklearn\n",
        "from sklearn.model_selection import train_test_split"
      ],
      "metadata": {
        "id": "Cl_TEkq8oYe9"
      },
      "execution_count": 127,
      "outputs": []
    },
    {
      "cell_type": "code",
      "source": [
        "X_train,X_test,y_train,y_test = train_test_split(X,y,test_size=0.2, random_state=1)"
      ],
      "metadata": {
        "id": "uZugg3Grojkt"
      },
      "execution_count": 128,
      "outputs": []
    },
    {
      "cell_type": "code",
      "source": [
        "X_train"
      ],
      "metadata": {
        "colab": {
          "base_uri": "https://localhost:8080/"
        },
        "id": "FRnTdlUiqGAu",
        "outputId": "f39740fe-facf-465d-ed79-073f4d3f582a"
      },
      "execution_count": 129,
      "outputs": [
        {
          "output_type": "execute_result",
          "data": {
            "text/plain": [
              "array([[ 1.53084665,  0.75443236,  0.56322275, ...,  0.74976553,\n",
              "         0.49869316,  0.57511787],\n",
              "       [ 1.82781311,  0.25367803, -0.36733675, ...,  1.16859904,\n",
              "        -0.0932501 ,  0.40494237],\n",
              "       [ 0.93691372, -0.59134489,  0.25303625, ...,  0.66092205,\n",
              "        -0.80901822,  1.00055664],\n",
              "       ...,\n",
              "       [ 2.7187125 ,  0.1597866 ,  1.08020025, ...,  1.44782138,\n",
              "         0.33560676,  0.74529338],\n",
              "       [ 0.04601433,  1.56815814,  0.14964075, ...,  1.47320522,\n",
              "         0.02151441, -0.61611067],\n",
              "       [ 1.53084665, -0.59134489,  0.35643175, ...,  0.1151693 ,\n",
              "         0.58325649,  1.08564439]])"
            ]
          },
          "metadata": {},
          "execution_count": 129
        }
      ]
    },
    {
      "cell_type": "code",
      "source": [
        "X_test"
      ],
      "metadata": {
        "colab": {
          "base_uri": "https://localhost:8080/"
        },
        "id": "Axh9RMWwqKS9",
        "outputId": "9bc5f557-2e2b-4cc0-cff2-4a15ef7980a4"
      },
      "execution_count": 130,
      "outputs": [
        {
          "output_type": "execute_result",
          "data": {
            "text/plain": [
              "array([[ 0.93691372,  0.47275805,  0.25303625, ..., -0.76057349,\n",
              "         0.52889435,  1.51108316],\n",
              "       [-0.84488505,  0.94221523, -0.47073225, ..., -0.74788157,\n",
              "        -0.88452119, -0.95646168],\n",
              "       [ 0.63994726, -0.37226487, -0.47073225, ..., -0.88749274,\n",
              "        -0.80297799, -0.53102292],\n",
              "       ...,\n",
              "       [ 1.23388019,  2.10020961,  0.45982725, ...,  2.01895798,\n",
              "        -1.01136617,  0.83038113],\n",
              "       [ 0.3429808 ,  0.47275805,  0.66661825, ..., -4.06047387,\n",
              "         0.50775352,  3.04266271],\n",
              "       [ 0.04601433, -0.96691063, -3.57259724, ..., -0.506735  ,\n",
              "         0.41714996, -0.19067191]])"
            ]
          },
          "metadata": {},
          "execution_count": 130
        }
      ]
    },
    {
      "cell_type": "code",
      "source": [
        "import tensorflow\n",
        "from tensorflow import keras\n",
        "from keras import Sequential\n",
        "from keras.layers import Dense"
      ],
      "metadata": {
        "id": "yElWpbDRqRIN"
      },
      "execution_count": 131,
      "outputs": []
    },
    {
      "cell_type": "code",
      "source": [
        "model = Sequential()\n",
        "model.add(Dense(32,activation='relu',input_dim=8))\n",
        "model.add(Dense(1,activation = 'sigmoid'))\n",
        "\n",
        "model.compile(optimizer='Adam', loss='binary_crossentropy', metrics=['accuracy'])"
      ],
      "metadata": {
        "id": "UPIrVwGnqUGt"
      },
      "execution_count": 132,
      "outputs": []
    },
    {
      "cell_type": "code",
      "source": [
        "model.fit(X_train,y_train,batch_size=32,epochs=100, validation_data=(X_test,y_test))"
      ],
      "metadata": {
        "colab": {
          "base_uri": "https://localhost:8080/"
        },
        "id": "cxE9Pl7AqUL9",
        "outputId": "a955b91a-ed48-481f-90a8-52591fcf6fe9"
      },
      "execution_count": 133,
      "outputs": [
        {
          "output_type": "stream",
          "name": "stdout",
          "text": [
            "Epoch 1/100\n",
            "20/20 [==============================] - 1s 20ms/step - loss: 0.6986 - accuracy: 0.5537 - val_loss: 0.6574 - val_accuracy: 0.6883\n",
            "Epoch 2/100\n",
            "20/20 [==============================] - 0s 8ms/step - loss: 0.6338 - accuracy: 0.6922 - val_loss: 0.6042 - val_accuracy: 0.7273\n",
            "Epoch 3/100\n",
            "20/20 [==============================] - 0s 9ms/step - loss: 0.5900 - accuracy: 0.7248 - val_loss: 0.5651 - val_accuracy: 0.7532\n",
            "Epoch 4/100\n",
            "20/20 [==============================] - 0s 9ms/step - loss: 0.5555 - accuracy: 0.7459 - val_loss: 0.5385 - val_accuracy: 0.7662\n",
            "Epoch 5/100\n",
            "20/20 [==============================] - 0s 8ms/step - loss: 0.5321 - accuracy: 0.7557 - val_loss: 0.5171 - val_accuracy: 0.7857\n",
            "Epoch 6/100\n",
            "20/20 [==============================] - 0s 8ms/step - loss: 0.5142 - accuracy: 0.7687 - val_loss: 0.5006 - val_accuracy: 0.7922\n",
            "Epoch 7/100\n",
            "20/20 [==============================] - 0s 8ms/step - loss: 0.5013 - accuracy: 0.7622 - val_loss: 0.4876 - val_accuracy: 0.7792\n",
            "Epoch 8/100\n",
            "20/20 [==============================] - 0s 9ms/step - loss: 0.4907 - accuracy: 0.7655 - val_loss: 0.4797 - val_accuracy: 0.7857\n",
            "Epoch 9/100\n",
            "20/20 [==============================] - 0s 9ms/step - loss: 0.4829 - accuracy: 0.7720 - val_loss: 0.4734 - val_accuracy: 0.7727\n",
            "Epoch 10/100\n",
            "20/20 [==============================] - 0s 9ms/step - loss: 0.4770 - accuracy: 0.7704 - val_loss: 0.4689 - val_accuracy: 0.7727\n",
            "Epoch 11/100\n",
            "20/20 [==============================] - 0s 8ms/step - loss: 0.4727 - accuracy: 0.7752 - val_loss: 0.4654 - val_accuracy: 0.7792\n",
            "Epoch 12/100\n",
            "20/20 [==============================] - 0s 9ms/step - loss: 0.4691 - accuracy: 0.7752 - val_loss: 0.4630 - val_accuracy: 0.7857\n",
            "Epoch 13/100\n",
            "20/20 [==============================] - 0s 6ms/step - loss: 0.4657 - accuracy: 0.7769 - val_loss: 0.4613 - val_accuracy: 0.7727\n",
            "Epoch 14/100\n",
            "20/20 [==============================] - 0s 7ms/step - loss: 0.4631 - accuracy: 0.7785 - val_loss: 0.4602 - val_accuracy: 0.7792\n",
            "Epoch 15/100\n",
            "20/20 [==============================] - 0s 6ms/step - loss: 0.4611 - accuracy: 0.7769 - val_loss: 0.4603 - val_accuracy: 0.7922\n",
            "Epoch 16/100\n",
            "20/20 [==============================] - 0s 5ms/step - loss: 0.4596 - accuracy: 0.7785 - val_loss: 0.4584 - val_accuracy: 0.7857\n",
            "Epoch 17/100\n",
            "20/20 [==============================] - 0s 7ms/step - loss: 0.4583 - accuracy: 0.7769 - val_loss: 0.4569 - val_accuracy: 0.7792\n",
            "Epoch 18/100\n",
            "20/20 [==============================] - 0s 5ms/step - loss: 0.4570 - accuracy: 0.7801 - val_loss: 0.4567 - val_accuracy: 0.7857\n",
            "Epoch 19/100\n",
            "20/20 [==============================] - 0s 6ms/step - loss: 0.4557 - accuracy: 0.7769 - val_loss: 0.4561 - val_accuracy: 0.7857\n",
            "Epoch 20/100\n",
            "20/20 [==============================] - 0s 5ms/step - loss: 0.4544 - accuracy: 0.7752 - val_loss: 0.4562 - val_accuracy: 0.7922\n",
            "Epoch 21/100\n",
            "20/20 [==============================] - 0s 5ms/step - loss: 0.4538 - accuracy: 0.7720 - val_loss: 0.4565 - val_accuracy: 0.7922\n",
            "Epoch 22/100\n",
            "20/20 [==============================] - 0s 7ms/step - loss: 0.4526 - accuracy: 0.7769 - val_loss: 0.4554 - val_accuracy: 0.7857\n",
            "Epoch 23/100\n",
            "20/20 [==============================] - 0s 7ms/step - loss: 0.4521 - accuracy: 0.7785 - val_loss: 0.4561 - val_accuracy: 0.7922\n",
            "Epoch 24/100\n",
            "20/20 [==============================] - 0s 5ms/step - loss: 0.4510 - accuracy: 0.7785 - val_loss: 0.4559 - val_accuracy: 0.7922\n",
            "Epoch 25/100\n",
            "20/20 [==============================] - 0s 6ms/step - loss: 0.4502 - accuracy: 0.7769 - val_loss: 0.4550 - val_accuracy: 0.7922\n",
            "Epoch 26/100\n",
            "20/20 [==============================] - 0s 6ms/step - loss: 0.4495 - accuracy: 0.7785 - val_loss: 0.4542 - val_accuracy: 0.7792\n",
            "Epoch 27/100\n",
            "20/20 [==============================] - 0s 5ms/step - loss: 0.4485 - accuracy: 0.7785 - val_loss: 0.4549 - val_accuracy: 0.7922\n",
            "Epoch 28/100\n",
            "20/20 [==============================] - 0s 5ms/step - loss: 0.4482 - accuracy: 0.7769 - val_loss: 0.4556 - val_accuracy: 0.7922\n",
            "Epoch 29/100\n",
            "20/20 [==============================] - 0s 5ms/step - loss: 0.4471 - accuracy: 0.7769 - val_loss: 0.4552 - val_accuracy: 0.7857\n",
            "Epoch 30/100\n",
            "20/20 [==============================] - 0s 7ms/step - loss: 0.4468 - accuracy: 0.7785 - val_loss: 0.4557 - val_accuracy: 0.7922\n",
            "Epoch 31/100\n",
            "20/20 [==============================] - 0s 6ms/step - loss: 0.4461 - accuracy: 0.7801 - val_loss: 0.4564 - val_accuracy: 0.7857\n",
            "Epoch 32/100\n",
            "20/20 [==============================] - 0s 6ms/step - loss: 0.4453 - accuracy: 0.7785 - val_loss: 0.4564 - val_accuracy: 0.7922\n",
            "Epoch 33/100\n",
            "20/20 [==============================] - 0s 6ms/step - loss: 0.4454 - accuracy: 0.7752 - val_loss: 0.4540 - val_accuracy: 0.7857\n",
            "Epoch 34/100\n",
            "20/20 [==============================] - 0s 6ms/step - loss: 0.4442 - accuracy: 0.7736 - val_loss: 0.4540 - val_accuracy: 0.7922\n",
            "Epoch 35/100\n",
            "20/20 [==============================] - 0s 5ms/step - loss: 0.4436 - accuracy: 0.7785 - val_loss: 0.4545 - val_accuracy: 0.7857\n",
            "Epoch 36/100\n",
            "20/20 [==============================] - 0s 5ms/step - loss: 0.4430 - accuracy: 0.7785 - val_loss: 0.4536 - val_accuracy: 0.7922\n",
            "Epoch 37/100\n",
            "20/20 [==============================] - 0s 6ms/step - loss: 0.4425 - accuracy: 0.7801 - val_loss: 0.4535 - val_accuracy: 0.7922\n",
            "Epoch 38/100\n",
            "20/20 [==============================] - 0s 6ms/step - loss: 0.4422 - accuracy: 0.7785 - val_loss: 0.4535 - val_accuracy: 0.7857\n",
            "Epoch 39/100\n",
            "20/20 [==============================] - 0s 7ms/step - loss: 0.4418 - accuracy: 0.7801 - val_loss: 0.4541 - val_accuracy: 0.7922\n",
            "Epoch 40/100\n",
            "20/20 [==============================] - 0s 6ms/step - loss: 0.4411 - accuracy: 0.7801 - val_loss: 0.4532 - val_accuracy: 0.7922\n",
            "Epoch 41/100\n",
            "20/20 [==============================] - 0s 6ms/step - loss: 0.4405 - accuracy: 0.7834 - val_loss: 0.4537 - val_accuracy: 0.7922\n",
            "Epoch 42/100\n",
            "20/20 [==============================] - 0s 6ms/step - loss: 0.4401 - accuracy: 0.7834 - val_loss: 0.4532 - val_accuracy: 0.7922\n",
            "Epoch 43/100\n",
            "20/20 [==============================] - 0s 5ms/step - loss: 0.4395 - accuracy: 0.7818 - val_loss: 0.4555 - val_accuracy: 0.7857\n",
            "Epoch 44/100\n",
            "20/20 [==============================] - 0s 5ms/step - loss: 0.4397 - accuracy: 0.7801 - val_loss: 0.4566 - val_accuracy: 0.7857\n",
            "Epoch 45/100\n",
            "20/20 [==============================] - 0s 6ms/step - loss: 0.4388 - accuracy: 0.7818 - val_loss: 0.4555 - val_accuracy: 0.7922\n",
            "Epoch 46/100\n",
            "20/20 [==============================] - 0s 7ms/step - loss: 0.4382 - accuracy: 0.7834 - val_loss: 0.4553 - val_accuracy: 0.7857\n",
            "Epoch 47/100\n",
            "20/20 [==============================] - 0s 6ms/step - loss: 0.4377 - accuracy: 0.7850 - val_loss: 0.4548 - val_accuracy: 0.7922\n",
            "Epoch 48/100\n",
            "20/20 [==============================] - 0s 5ms/step - loss: 0.4379 - accuracy: 0.7834 - val_loss: 0.4562 - val_accuracy: 0.7922\n",
            "Epoch 49/100\n",
            "20/20 [==============================] - 0s 6ms/step - loss: 0.4367 - accuracy: 0.7850 - val_loss: 0.4553 - val_accuracy: 0.7922\n",
            "Epoch 50/100\n",
            "20/20 [==============================] - 0s 6ms/step - loss: 0.4360 - accuracy: 0.7834 - val_loss: 0.4554 - val_accuracy: 0.7857\n",
            "Epoch 51/100\n",
            "20/20 [==============================] - 0s 6ms/step - loss: 0.4364 - accuracy: 0.7850 - val_loss: 0.4569 - val_accuracy: 0.7922\n",
            "Epoch 52/100\n",
            "20/20 [==============================] - 0s 5ms/step - loss: 0.4354 - accuracy: 0.7866 - val_loss: 0.4572 - val_accuracy: 0.7857\n",
            "Epoch 53/100\n",
            "20/20 [==============================] - 0s 6ms/step - loss: 0.4345 - accuracy: 0.7883 - val_loss: 0.4560 - val_accuracy: 0.7987\n",
            "Epoch 54/100\n",
            "20/20 [==============================] - 0s 7ms/step - loss: 0.4344 - accuracy: 0.7883 - val_loss: 0.4544 - val_accuracy: 0.7922\n",
            "Epoch 55/100\n",
            "20/20 [==============================] - 0s 6ms/step - loss: 0.4339 - accuracy: 0.7883 - val_loss: 0.4555 - val_accuracy: 0.7857\n",
            "Epoch 56/100\n",
            "20/20 [==============================] - 0s 6ms/step - loss: 0.4332 - accuracy: 0.7883 - val_loss: 0.4547 - val_accuracy: 0.7857\n",
            "Epoch 57/100\n",
            "20/20 [==============================] - 0s 5ms/step - loss: 0.4326 - accuracy: 0.7883 - val_loss: 0.4554 - val_accuracy: 0.7857\n",
            "Epoch 58/100\n",
            "20/20 [==============================] - 0s 6ms/step - loss: 0.4326 - accuracy: 0.7915 - val_loss: 0.4569 - val_accuracy: 0.7857\n",
            "Epoch 59/100\n",
            "20/20 [==============================] - 0s 5ms/step - loss: 0.4317 - accuracy: 0.7899 - val_loss: 0.4568 - val_accuracy: 0.7922\n",
            "Epoch 60/100\n",
            "20/20 [==============================] - 0s 5ms/step - loss: 0.4320 - accuracy: 0.7866 - val_loss: 0.4540 - val_accuracy: 0.7857\n",
            "Epoch 61/100\n",
            "20/20 [==============================] - 0s 5ms/step - loss: 0.4312 - accuracy: 0.7866 - val_loss: 0.4543 - val_accuracy: 0.7857\n",
            "Epoch 62/100\n",
            "20/20 [==============================] - 0s 7ms/step - loss: 0.4308 - accuracy: 0.7883 - val_loss: 0.4547 - val_accuracy: 0.7792\n",
            "Epoch 63/100\n",
            "20/20 [==============================] - 0s 6ms/step - loss: 0.4303 - accuracy: 0.7866 - val_loss: 0.4559 - val_accuracy: 0.7792\n",
            "Epoch 64/100\n",
            "20/20 [==============================] - 0s 6ms/step - loss: 0.4303 - accuracy: 0.7899 - val_loss: 0.4549 - val_accuracy: 0.7922\n",
            "Epoch 65/100\n",
            "20/20 [==============================] - 0s 5ms/step - loss: 0.4296 - accuracy: 0.7899 - val_loss: 0.4555 - val_accuracy: 0.7792\n",
            "Epoch 66/100\n",
            "20/20 [==============================] - 0s 5ms/step - loss: 0.4291 - accuracy: 0.7915 - val_loss: 0.4559 - val_accuracy: 0.7792\n",
            "Epoch 67/100\n",
            "20/20 [==============================] - 0s 6ms/step - loss: 0.4287 - accuracy: 0.7899 - val_loss: 0.4552 - val_accuracy: 0.7857\n",
            "Epoch 68/100\n",
            "20/20 [==============================] - 0s 6ms/step - loss: 0.4281 - accuracy: 0.7915 - val_loss: 0.4546 - val_accuracy: 0.7857\n",
            "Epoch 69/100\n",
            "20/20 [==============================] - 0s 5ms/step - loss: 0.4285 - accuracy: 0.7899 - val_loss: 0.4539 - val_accuracy: 0.7922\n",
            "Epoch 70/100\n",
            "20/20 [==============================] - 0s 6ms/step - loss: 0.4276 - accuracy: 0.7964 - val_loss: 0.4549 - val_accuracy: 0.7792\n",
            "Epoch 71/100\n",
            "20/20 [==============================] - 0s 8ms/step - loss: 0.4271 - accuracy: 0.7932 - val_loss: 0.4569 - val_accuracy: 0.7792\n",
            "Epoch 72/100\n",
            "20/20 [==============================] - 0s 6ms/step - loss: 0.4275 - accuracy: 0.7932 - val_loss: 0.4600 - val_accuracy: 0.7857\n",
            "Epoch 73/100\n",
            "20/20 [==============================] - 0s 6ms/step - loss: 0.4272 - accuracy: 0.7997 - val_loss: 0.4596 - val_accuracy: 0.7857\n",
            "Epoch 74/100\n",
            "20/20 [==============================] - 0s 5ms/step - loss: 0.4272 - accuracy: 0.7980 - val_loss: 0.4594 - val_accuracy: 0.7857\n",
            "Epoch 75/100\n",
            "20/20 [==============================] - 0s 6ms/step - loss: 0.4251 - accuracy: 0.7964 - val_loss: 0.4552 - val_accuracy: 0.7792\n",
            "Epoch 76/100\n",
            "20/20 [==============================] - 0s 6ms/step - loss: 0.4247 - accuracy: 0.8013 - val_loss: 0.4547 - val_accuracy: 0.7857\n",
            "Epoch 77/100\n",
            "20/20 [==============================] - 0s 6ms/step - loss: 0.4252 - accuracy: 0.7997 - val_loss: 0.4541 - val_accuracy: 0.7857\n",
            "Epoch 78/100\n",
            "20/20 [==============================] - 0s 6ms/step - loss: 0.4244 - accuracy: 0.7997 - val_loss: 0.4540 - val_accuracy: 0.7857\n",
            "Epoch 79/100\n",
            "20/20 [==============================] - 0s 6ms/step - loss: 0.4241 - accuracy: 0.7997 - val_loss: 0.4534 - val_accuracy: 0.7857\n",
            "Epoch 80/100\n",
            "20/20 [==============================] - 0s 5ms/step - loss: 0.4238 - accuracy: 0.8013 - val_loss: 0.4540 - val_accuracy: 0.7857\n",
            "Epoch 81/100\n",
            "20/20 [==============================] - 0s 6ms/step - loss: 0.4231 - accuracy: 0.7997 - val_loss: 0.4532 - val_accuracy: 0.7857\n",
            "Epoch 82/100\n",
            "20/20 [==============================] - 0s 6ms/step - loss: 0.4231 - accuracy: 0.7997 - val_loss: 0.4535 - val_accuracy: 0.7857\n",
            "Epoch 83/100\n",
            "20/20 [==============================] - 0s 6ms/step - loss: 0.4224 - accuracy: 0.7997 - val_loss: 0.4551 - val_accuracy: 0.7792\n",
            "Epoch 84/100\n",
            "20/20 [==============================] - 0s 5ms/step - loss: 0.4221 - accuracy: 0.8013 - val_loss: 0.4550 - val_accuracy: 0.7792\n",
            "Epoch 85/100\n",
            "20/20 [==============================] - 0s 6ms/step - loss: 0.4223 - accuracy: 0.7997 - val_loss: 0.4564 - val_accuracy: 0.7857\n",
            "Epoch 86/100\n",
            "20/20 [==============================] - 0s 6ms/step - loss: 0.4215 - accuracy: 0.8046 - val_loss: 0.4545 - val_accuracy: 0.7792\n",
            "Epoch 87/100\n",
            "20/20 [==============================] - 0s 7ms/step - loss: 0.4210 - accuracy: 0.8029 - val_loss: 0.4555 - val_accuracy: 0.7792\n",
            "Epoch 88/100\n",
            "20/20 [==============================] - 0s 5ms/step - loss: 0.4207 - accuracy: 0.8013 - val_loss: 0.4542 - val_accuracy: 0.7857\n",
            "Epoch 89/100\n",
            "20/20 [==============================] - 0s 6ms/step - loss: 0.4204 - accuracy: 0.7997 - val_loss: 0.4537 - val_accuracy: 0.7857\n",
            "Epoch 90/100\n",
            "20/20 [==============================] - 0s 6ms/step - loss: 0.4200 - accuracy: 0.8013 - val_loss: 0.4537 - val_accuracy: 0.7857\n",
            "Epoch 91/100\n",
            "20/20 [==============================] - 0s 5ms/step - loss: 0.4199 - accuracy: 0.7980 - val_loss: 0.4538 - val_accuracy: 0.7857\n",
            "Epoch 92/100\n",
            "20/20 [==============================] - 0s 6ms/step - loss: 0.4191 - accuracy: 0.7997 - val_loss: 0.4530 - val_accuracy: 0.7922\n",
            "Epoch 93/100\n",
            "20/20 [==============================] - 0s 7ms/step - loss: 0.4198 - accuracy: 0.8013 - val_loss: 0.4526 - val_accuracy: 0.7922\n",
            "Epoch 94/100\n",
            "20/20 [==============================] - 0s 10ms/step - loss: 0.4189 - accuracy: 0.7980 - val_loss: 0.4523 - val_accuracy: 0.7987\n",
            "Epoch 95/100\n",
            "20/20 [==============================] - 0s 9ms/step - loss: 0.4195 - accuracy: 0.7997 - val_loss: 0.4516 - val_accuracy: 0.7987\n",
            "Epoch 96/100\n",
            "20/20 [==============================] - 0s 8ms/step - loss: 0.4181 - accuracy: 0.7980 - val_loss: 0.4538 - val_accuracy: 0.7922\n",
            "Epoch 97/100\n",
            "20/20 [==============================] - 0s 7ms/step - loss: 0.4175 - accuracy: 0.8013 - val_loss: 0.4528 - val_accuracy: 0.7922\n",
            "Epoch 98/100\n",
            "20/20 [==============================] - 0s 9ms/step - loss: 0.4177 - accuracy: 0.8013 - val_loss: 0.4532 - val_accuracy: 0.7987\n",
            "Epoch 99/100\n",
            "20/20 [==============================] - 0s 8ms/step - loss: 0.4177 - accuracy: 0.8029 - val_loss: 0.4551 - val_accuracy: 0.7922\n",
            "Epoch 100/100\n",
            "20/20 [==============================] - 0s 10ms/step - loss: 0.4172 - accuracy: 0.8013 - val_loss: 0.4546 - val_accuracy: 0.7922\n"
          ]
        },
        {
          "output_type": "execute_result",
          "data": {
            "text/plain": [
              "<keras.src.callbacks.History at 0x7ee689eaa110>"
            ]
          },
          "metadata": {},
          "execution_count": 133
        }
      ]
    },
    {
      "cell_type": "code",
      "source": [
        "# 1. how to select appropriate optimizer\n",
        "# 2. No of nodes in a layer\n",
        "# 3. How to select no. of layers\n",
        "# 4. All in all one model"
      ],
      "metadata": {
        "id": "tlCLJ8K-r-Xu"
      },
      "execution_count": 134,
      "outputs": []
    },
    {
      "cell_type": "code",
      "source": [
        "!pip install -U keras-tuner"
      ],
      "metadata": {
        "colab": {
          "base_uri": "https://localhost:8080/"
        },
        "id": "fCOTXRyHtpWm",
        "outputId": "9586d8cc-2958-4dc1-d95a-96eca5bbbd92"
      },
      "execution_count": 135,
      "outputs": [
        {
          "output_type": "stream",
          "name": "stdout",
          "text": [
            "Requirement already satisfied: keras-tuner in /usr/local/lib/python3.10/dist-packages (1.4.7)\n",
            "Requirement already satisfied: keras in /usr/local/lib/python3.10/dist-packages (from keras-tuner) (2.15.0)\n",
            "Requirement already satisfied: packaging in /usr/local/lib/python3.10/dist-packages (from keras-tuner) (24.1)\n",
            "Requirement already satisfied: requests in /usr/local/lib/python3.10/dist-packages (from keras-tuner) (2.31.0)\n",
            "Requirement already satisfied: kt-legacy in /usr/local/lib/python3.10/dist-packages (from keras-tuner) (1.0.5)\n",
            "Requirement already satisfied: charset-normalizer<4,>=2 in /usr/local/lib/python3.10/dist-packages (from requests->keras-tuner) (3.3.2)\n",
            "Requirement already satisfied: idna<4,>=2.5 in /usr/local/lib/python3.10/dist-packages (from requests->keras-tuner) (3.7)\n",
            "Requirement already satisfied: urllib3<3,>=1.21.1 in /usr/local/lib/python3.10/dist-packages (from requests->keras-tuner) (2.0.7)\n",
            "Requirement already satisfied: certifi>=2017.4.17 in /usr/local/lib/python3.10/dist-packages (from requests->keras-tuner) (2024.6.2)\n"
          ]
        }
      ]
    },
    {
      "cell_type": "code",
      "source": [
        "import keras_tuner as kt\n"
      ],
      "metadata": {
        "id": "WIYTEgRItA8f"
      },
      "execution_count": 136,
      "outputs": []
    },
    {
      "cell_type": "code",
      "source": [
        "def build_model(hp):\n",
        "  model = Sequential()\n",
        "  model.add(Dense(32,activation='relu', input_dim = 8))\n",
        "  model.add(Dense(1,activation='sigmoid'))\n",
        "\n",
        "  optimizer = hp.Choice('optimizer',values = ['adam','sgd','rmsprop','adadelta'])\n",
        "  model.compile(optimizer = optimizer,loss='binary_crossentropy',metrics=['accuracy'])\n",
        "  return model\n"
      ],
      "metadata": {
        "id": "UeKL2vtKtj0N"
      },
      "execution_count": 147,
      "outputs": []
    },
    {
      "cell_type": "code",
      "source": [
        "tuner = kt.RandomSearch(build_model,\n",
        "                        objective='val_accuracy',\n",
        "                        max_trials=5)"
      ],
      "metadata": {
        "colab": {
          "base_uri": "https://localhost:8080/"
        },
        "id": "ajHtsGH8wMRd",
        "outputId": "41b5ed32-4213-4c20-f53e-87e4625bdbf0"
      },
      "execution_count": 148,
      "outputs": [
        {
          "output_type": "stream",
          "name": "stdout",
          "text": [
            "Reloading Tuner from ./untitled_project/tuner0.json\n"
          ]
        }
      ]
    },
    {
      "cell_type": "code",
      "source": [
        "tuner.search(X_train, y_train, epochs=5, validation_data=(X_test, y_test))\n"
      ],
      "metadata": {
        "id": "aSnGp5CCwraY"
      },
      "execution_count": 149,
      "outputs": []
    },
    {
      "cell_type": "code",
      "source": [
        "tuner.get_best_hyperparameters()[0].values"
      ],
      "metadata": {
        "colab": {
          "base_uri": "https://localhost:8080/"
        },
        "id": "emIcJlCl2Zkk",
        "outputId": "ed66d994-f6aa-4803-f160-1128cb25be93"
      },
      "execution_count": 158,
      "outputs": [
        {
          "output_type": "execute_result",
          "data": {
            "text/plain": [
              "{'optimizer': 'adam'}"
            ]
          },
          "metadata": {},
          "execution_count": 158
        }
      ]
    },
    {
      "cell_type": "code",
      "source": [
        "best_model = tuner.get_best_models()[0]\n",
        "best_model\n"
      ],
      "metadata": {
        "colab": {
          "base_uri": "https://localhost:8080/"
        },
        "id": "JcESJTSAx04F",
        "outputId": "8cf95bbf-fdfa-47b8-8473-c1cb5b8d59aa"
      },
      "execution_count": 154,
      "outputs": [
        {
          "output_type": "execute_result",
          "data": {
            "text/plain": [
              "<keras.src.engine.sequential.Sequential at 0x7ee689bf90c0>"
            ]
          },
          "metadata": {},
          "execution_count": 154
        }
      ]
    },
    {
      "cell_type": "code",
      "source": [
        "best_model.summary()\n"
      ],
      "metadata": {
        "colab": {
          "base_uri": "https://localhost:8080/"
        },
        "id": "zgSo26uZ0thb",
        "outputId": "691b713d-0609-4e79-eca2-9aed7efd140d"
      },
      "execution_count": 155,
      "outputs": [
        {
          "output_type": "stream",
          "name": "stdout",
          "text": [
            "Model: \"sequential\"\n",
            "_________________________________________________________________\n",
            " Layer (type)                Output Shape              Param #   \n",
            "=================================================================\n",
            " dense (Dense)               (None, 32)                288       \n",
            "                                                                 \n",
            " dense_1 (Dense)             (None, 1)                 33        \n",
            "                                                                 \n",
            "=================================================================\n",
            "Total params: 321 (1.25 KB)\n",
            "Trainable params: 321 (1.25 KB)\n",
            "Non-trainable params: 0 (0.00 Byte)\n",
            "_________________________________________________________________\n"
          ]
        }
      ]
    },
    {
      "cell_type": "code",
      "source": [
        "model.fit(X_train,y_train,batch_size=32,epochs=100, initial_epoch =6, validation_data=(X_test,y_test))"
      ],
      "metadata": {
        "colab": {
          "base_uri": "https://localhost:8080/"
        },
        "id": "y8d5YjO32NFr",
        "outputId": "7e2c9c49-860d-41e7-bc19-ad248b96145f"
      },
      "execution_count": 160,
      "outputs": [
        {
          "output_type": "stream",
          "name": "stdout",
          "text": [
            "Epoch 7/100\n",
            "20/20 [==============================] - 0s 16ms/step - loss: 0.4171 - accuracy: 0.7997 - val_loss: 0.4536 - val_accuracy: 0.7922\n",
            "Epoch 8/100\n",
            "20/20 [==============================] - 0s 8ms/step - loss: 0.4162 - accuracy: 0.8013 - val_loss: 0.4535 - val_accuracy: 0.7922\n",
            "Epoch 9/100\n",
            "20/20 [==============================] - 0s 10ms/step - loss: 0.4165 - accuracy: 0.7997 - val_loss: 0.4547 - val_accuracy: 0.7792\n",
            "Epoch 10/100\n",
            "20/20 [==============================] - 0s 8ms/step - loss: 0.4158 - accuracy: 0.7948 - val_loss: 0.4542 - val_accuracy: 0.7922\n",
            "Epoch 11/100\n",
            "20/20 [==============================] - 0s 10ms/step - loss: 0.4154 - accuracy: 0.8046 - val_loss: 0.4546 - val_accuracy: 0.7857\n",
            "Epoch 12/100\n",
            "20/20 [==============================] - 0s 10ms/step - loss: 0.4145 - accuracy: 0.7997 - val_loss: 0.4525 - val_accuracy: 0.7922\n",
            "Epoch 13/100\n",
            "20/20 [==============================] - 0s 8ms/step - loss: 0.4146 - accuracy: 0.8029 - val_loss: 0.4522 - val_accuracy: 0.7922\n",
            "Epoch 14/100\n",
            "20/20 [==============================] - 0s 6ms/step - loss: 0.4144 - accuracy: 0.8029 - val_loss: 0.4530 - val_accuracy: 0.7922\n",
            "Epoch 15/100\n",
            "20/20 [==============================] - 0s 8ms/step - loss: 0.4144 - accuracy: 0.7980 - val_loss: 0.4516 - val_accuracy: 0.7987\n",
            "Epoch 16/100\n",
            "20/20 [==============================] - 0s 6ms/step - loss: 0.4140 - accuracy: 0.8046 - val_loss: 0.4529 - val_accuracy: 0.7987\n",
            "Epoch 17/100\n",
            "20/20 [==============================] - 0s 6ms/step - loss: 0.4142 - accuracy: 0.8029 - val_loss: 0.4529 - val_accuracy: 0.7987\n",
            "Epoch 18/100\n",
            "20/20 [==============================] - 0s 6ms/step - loss: 0.4135 - accuracy: 0.8013 - val_loss: 0.4515 - val_accuracy: 0.7922\n",
            "Epoch 19/100\n",
            "20/20 [==============================] - 0s 5ms/step - loss: 0.4128 - accuracy: 0.7997 - val_loss: 0.4521 - val_accuracy: 0.7987\n",
            "Epoch 20/100\n",
            "20/20 [==============================] - 0s 6ms/step - loss: 0.4126 - accuracy: 0.8046 - val_loss: 0.4531 - val_accuracy: 0.7922\n",
            "Epoch 21/100\n",
            "20/20 [==============================] - 0s 5ms/step - loss: 0.4122 - accuracy: 0.8062 - val_loss: 0.4531 - val_accuracy: 0.7987\n",
            "Epoch 22/100\n",
            "20/20 [==============================] - 0s 6ms/step - loss: 0.4121 - accuracy: 0.8062 - val_loss: 0.4534 - val_accuracy: 0.7922\n",
            "Epoch 23/100\n",
            "20/20 [==============================] - 0s 8ms/step - loss: 0.4122 - accuracy: 0.8013 - val_loss: 0.4541 - val_accuracy: 0.7857\n",
            "Epoch 24/100\n",
            "20/20 [==============================] - 0s 6ms/step - loss: 0.4126 - accuracy: 0.7948 - val_loss: 0.4522 - val_accuracy: 0.7857\n",
            "Epoch 25/100\n",
            "20/20 [==============================] - 0s 5ms/step - loss: 0.4120 - accuracy: 0.8046 - val_loss: 0.4523 - val_accuracy: 0.7857\n",
            "Epoch 26/100\n",
            "20/20 [==============================] - 0s 6ms/step - loss: 0.4122 - accuracy: 0.8046 - val_loss: 0.4545 - val_accuracy: 0.7857\n",
            "Epoch 27/100\n",
            "20/20 [==============================] - 0s 5ms/step - loss: 0.4116 - accuracy: 0.8046 - val_loss: 0.4541 - val_accuracy: 0.7922\n",
            "Epoch 28/100\n",
            "20/20 [==============================] - 0s 6ms/step - loss: 0.4104 - accuracy: 0.8094 - val_loss: 0.4511 - val_accuracy: 0.7922\n",
            "Epoch 29/100\n",
            "20/20 [==============================] - 0s 5ms/step - loss: 0.4101 - accuracy: 0.8046 - val_loss: 0.4524 - val_accuracy: 0.7857\n",
            "Epoch 30/100\n",
            "20/20 [==============================] - 0s 6ms/step - loss: 0.4101 - accuracy: 0.8111 - val_loss: 0.4517 - val_accuracy: 0.7987\n",
            "Epoch 31/100\n",
            "20/20 [==============================] - 0s 7ms/step - loss: 0.4096 - accuracy: 0.8046 - val_loss: 0.4520 - val_accuracy: 0.7987\n",
            "Epoch 32/100\n",
            "20/20 [==============================] - 0s 6ms/step - loss: 0.4095 - accuracy: 0.8062 - val_loss: 0.4514 - val_accuracy: 0.7987\n",
            "Epoch 33/100\n",
            "20/20 [==============================] - 0s 6ms/step - loss: 0.4091 - accuracy: 0.8029 - val_loss: 0.4509 - val_accuracy: 0.7987\n",
            "Epoch 34/100\n",
            "20/20 [==============================] - 0s 5ms/step - loss: 0.4092 - accuracy: 0.8062 - val_loss: 0.4504 - val_accuracy: 0.7922\n",
            "Epoch 35/100\n",
            "20/20 [==============================] - 0s 5ms/step - loss: 0.4089 - accuracy: 0.8078 - val_loss: 0.4511 - val_accuracy: 0.7987\n",
            "Epoch 36/100\n",
            "20/20 [==============================] - 0s 5ms/step - loss: 0.4084 - accuracy: 0.8094 - val_loss: 0.4507 - val_accuracy: 0.8052\n",
            "Epoch 37/100\n",
            "20/20 [==============================] - 0s 6ms/step - loss: 0.4084 - accuracy: 0.8143 - val_loss: 0.4507 - val_accuracy: 0.7857\n",
            "Epoch 38/100\n",
            "20/20 [==============================] - 0s 5ms/step - loss: 0.4078 - accuracy: 0.8127 - val_loss: 0.4520 - val_accuracy: 0.7857\n",
            "Epoch 39/100\n",
            "20/20 [==============================] - 0s 8ms/step - loss: 0.4074 - accuracy: 0.8062 - val_loss: 0.4518 - val_accuracy: 0.7857\n",
            "Epoch 40/100\n",
            "20/20 [==============================] - 0s 7ms/step - loss: 0.4077 - accuracy: 0.8078 - val_loss: 0.4521 - val_accuracy: 0.7857\n",
            "Epoch 41/100\n",
            "20/20 [==============================] - 0s 5ms/step - loss: 0.4080 - accuracy: 0.8127 - val_loss: 0.4534 - val_accuracy: 0.7857\n",
            "Epoch 42/100\n",
            "20/20 [==============================] - 0s 6ms/step - loss: 0.4074 - accuracy: 0.8143 - val_loss: 0.4525 - val_accuracy: 0.7857\n",
            "Epoch 43/100\n",
            "20/20 [==============================] - 0s 5ms/step - loss: 0.4067 - accuracy: 0.8160 - val_loss: 0.4502 - val_accuracy: 0.7922\n",
            "Epoch 44/100\n",
            "20/20 [==============================] - 0s 6ms/step - loss: 0.4067 - accuracy: 0.8111 - val_loss: 0.4491 - val_accuracy: 0.7922\n",
            "Epoch 45/100\n",
            "20/20 [==============================] - 0s 6ms/step - loss: 0.4065 - accuracy: 0.8127 - val_loss: 0.4500 - val_accuracy: 0.7857\n",
            "Epoch 46/100\n",
            "20/20 [==============================] - 0s 6ms/step - loss: 0.4067 - accuracy: 0.8160 - val_loss: 0.4504 - val_accuracy: 0.7857\n",
            "Epoch 47/100\n",
            "20/20 [==============================] - 0s 7ms/step - loss: 0.4055 - accuracy: 0.8160 - val_loss: 0.4512 - val_accuracy: 0.7922\n",
            "Epoch 48/100\n",
            "20/20 [==============================] - 0s 6ms/step - loss: 0.4056 - accuracy: 0.8192 - val_loss: 0.4493 - val_accuracy: 0.7922\n",
            "Epoch 49/100\n",
            "20/20 [==============================] - 0s 5ms/step - loss: 0.4055 - accuracy: 0.8143 - val_loss: 0.4502 - val_accuracy: 0.7857\n",
            "Epoch 50/100\n",
            "20/20 [==============================] - 0s 6ms/step - loss: 0.4055 - accuracy: 0.8160 - val_loss: 0.4513 - val_accuracy: 0.7922\n",
            "Epoch 51/100\n",
            "20/20 [==============================] - 0s 6ms/step - loss: 0.4051 - accuracy: 0.8160 - val_loss: 0.4518 - val_accuracy: 0.7857\n",
            "Epoch 52/100\n",
            "20/20 [==============================] - 0s 5ms/step - loss: 0.4049 - accuracy: 0.8176 - val_loss: 0.4503 - val_accuracy: 0.7857\n",
            "Epoch 53/100\n",
            "20/20 [==============================] - 0s 5ms/step - loss: 0.4051 - accuracy: 0.8192 - val_loss: 0.4518 - val_accuracy: 0.7922\n",
            "Epoch 54/100\n",
            "20/20 [==============================] - 0s 5ms/step - loss: 0.4045 - accuracy: 0.8143 - val_loss: 0.4517 - val_accuracy: 0.7922\n",
            "Epoch 55/100\n",
            "20/20 [==============================] - 0s 7ms/step - loss: 0.4039 - accuracy: 0.8192 - val_loss: 0.4530 - val_accuracy: 0.7857\n",
            "Epoch 56/100\n",
            "20/20 [==============================] - 0s 6ms/step - loss: 0.4040 - accuracy: 0.8176 - val_loss: 0.4533 - val_accuracy: 0.7857\n",
            "Epoch 57/100\n",
            "20/20 [==============================] - 0s 6ms/step - loss: 0.4038 - accuracy: 0.8143 - val_loss: 0.4537 - val_accuracy: 0.7857\n",
            "Epoch 58/100\n",
            "20/20 [==============================] - 0s 6ms/step - loss: 0.4038 - accuracy: 0.8143 - val_loss: 0.4545 - val_accuracy: 0.7857\n",
            "Epoch 59/100\n",
            "20/20 [==============================] - 0s 6ms/step - loss: 0.4038 - accuracy: 0.8176 - val_loss: 0.4544 - val_accuracy: 0.7857\n",
            "Epoch 60/100\n",
            "20/20 [==============================] - 0s 5ms/step - loss: 0.4033 - accuracy: 0.8127 - val_loss: 0.4542 - val_accuracy: 0.7857\n",
            "Epoch 61/100\n",
            "20/20 [==============================] - 0s 6ms/step - loss: 0.4029 - accuracy: 0.8160 - val_loss: 0.4530 - val_accuracy: 0.7857\n",
            "Epoch 62/100\n",
            "20/20 [==============================] - 0s 5ms/step - loss: 0.4027 - accuracy: 0.8160 - val_loss: 0.4537 - val_accuracy: 0.7922\n",
            "Epoch 63/100\n",
            "20/20 [==============================] - 0s 7ms/step - loss: 0.4026 - accuracy: 0.8225 - val_loss: 0.4529 - val_accuracy: 0.7857\n",
            "Epoch 64/100\n",
            "20/20 [==============================] - 0s 5ms/step - loss: 0.4028 - accuracy: 0.8225 - val_loss: 0.4513 - val_accuracy: 0.7922\n",
            "Epoch 65/100\n",
            "20/20 [==============================] - 0s 6ms/step - loss: 0.4018 - accuracy: 0.8208 - val_loss: 0.4514 - val_accuracy: 0.7857\n",
            "Epoch 66/100\n",
            "20/20 [==============================] - 0s 5ms/step - loss: 0.4016 - accuracy: 0.8225 - val_loss: 0.4524 - val_accuracy: 0.7922\n",
            "Epoch 67/100\n",
            "20/20 [==============================] - 0s 5ms/step - loss: 0.4017 - accuracy: 0.8208 - val_loss: 0.4525 - val_accuracy: 0.7922\n",
            "Epoch 68/100\n",
            "20/20 [==============================] - 0s 5ms/step - loss: 0.4019 - accuracy: 0.8208 - val_loss: 0.4540 - val_accuracy: 0.7922\n",
            "Epoch 69/100\n",
            "20/20 [==============================] - 0s 5ms/step - loss: 0.4013 - accuracy: 0.8241 - val_loss: 0.4519 - val_accuracy: 0.7922\n",
            "Epoch 70/100\n",
            "20/20 [==============================] - 0s 6ms/step - loss: 0.4010 - accuracy: 0.8257 - val_loss: 0.4529 - val_accuracy: 0.7922\n",
            "Epoch 71/100\n",
            "20/20 [==============================] - 0s 7ms/step - loss: 0.4005 - accuracy: 0.8257 - val_loss: 0.4543 - val_accuracy: 0.7922\n",
            "Epoch 72/100\n",
            "20/20 [==============================] - 0s 6ms/step - loss: 0.4005 - accuracy: 0.8257 - val_loss: 0.4535 - val_accuracy: 0.7987\n",
            "Epoch 73/100\n",
            "20/20 [==============================] - 0s 6ms/step - loss: 0.4002 - accuracy: 0.8225 - val_loss: 0.4541 - val_accuracy: 0.7987\n",
            "Epoch 74/100\n",
            "20/20 [==============================] - 0s 5ms/step - loss: 0.4003 - accuracy: 0.8208 - val_loss: 0.4541 - val_accuracy: 0.7987\n",
            "Epoch 75/100\n",
            "20/20 [==============================] - 0s 6ms/step - loss: 0.3996 - accuracy: 0.8208 - val_loss: 0.4543 - val_accuracy: 0.7922\n",
            "Epoch 76/100\n",
            "20/20 [==============================] - 0s 5ms/step - loss: 0.3999 - accuracy: 0.8225 - val_loss: 0.4530 - val_accuracy: 0.7857\n",
            "Epoch 77/100\n",
            "20/20 [==============================] - 0s 5ms/step - loss: 0.3994 - accuracy: 0.8225 - val_loss: 0.4530 - val_accuracy: 0.7987\n",
            "Epoch 78/100\n",
            "20/20 [==============================] - 0s 6ms/step - loss: 0.3992 - accuracy: 0.8225 - val_loss: 0.4542 - val_accuracy: 0.7922\n",
            "Epoch 79/100\n",
            "20/20 [==============================] - 0s 6ms/step - loss: 0.4000 - accuracy: 0.8208 - val_loss: 0.4549 - val_accuracy: 0.7987\n",
            "Epoch 80/100\n",
            "20/20 [==============================] - 0s 6ms/step - loss: 0.3991 - accuracy: 0.8257 - val_loss: 0.4540 - val_accuracy: 0.7987\n",
            "Epoch 81/100\n",
            "20/20 [==============================] - 0s 6ms/step - loss: 0.3992 - accuracy: 0.8274 - val_loss: 0.4523 - val_accuracy: 0.7987\n",
            "Epoch 82/100\n",
            "20/20 [==============================] - 0s 6ms/step - loss: 0.3991 - accuracy: 0.8306 - val_loss: 0.4533 - val_accuracy: 0.7922\n",
            "Epoch 83/100\n",
            "20/20 [==============================] - 0s 6ms/step - loss: 0.3983 - accuracy: 0.8274 - val_loss: 0.4518 - val_accuracy: 0.7987\n",
            "Epoch 84/100\n",
            "20/20 [==============================] - 0s 5ms/step - loss: 0.3985 - accuracy: 0.8274 - val_loss: 0.4510 - val_accuracy: 0.7922\n",
            "Epoch 85/100\n",
            "20/20 [==============================] - 0s 5ms/step - loss: 0.3985 - accuracy: 0.8290 - val_loss: 0.4531 - val_accuracy: 0.8052\n",
            "Epoch 86/100\n",
            "20/20 [==============================] - 0s 6ms/step - loss: 0.3978 - accuracy: 0.8241 - val_loss: 0.4536 - val_accuracy: 0.8052\n",
            "Epoch 87/100\n",
            "20/20 [==============================] - 0s 7ms/step - loss: 0.3973 - accuracy: 0.8257 - val_loss: 0.4531 - val_accuracy: 0.7987\n",
            "Epoch 88/100\n",
            "20/20 [==============================] - 0s 6ms/step - loss: 0.3977 - accuracy: 0.8274 - val_loss: 0.4523 - val_accuracy: 0.7922\n",
            "Epoch 89/100\n",
            "20/20 [==============================] - 0s 6ms/step - loss: 0.3981 - accuracy: 0.8241 - val_loss: 0.4522 - val_accuracy: 0.7987\n",
            "Epoch 90/100\n",
            "20/20 [==============================] - 0s 6ms/step - loss: 0.3972 - accuracy: 0.8274 - val_loss: 0.4542 - val_accuracy: 0.7922\n",
            "Epoch 91/100\n",
            "20/20 [==============================] - 0s 6ms/step - loss: 0.3968 - accuracy: 0.8290 - val_loss: 0.4538 - val_accuracy: 0.7987\n",
            "Epoch 92/100\n",
            "20/20 [==============================] - 0s 6ms/step - loss: 0.3972 - accuracy: 0.8306 - val_loss: 0.4553 - val_accuracy: 0.8052\n",
            "Epoch 93/100\n",
            "20/20 [==============================] - 0s 6ms/step - loss: 0.3963 - accuracy: 0.8306 - val_loss: 0.4535 - val_accuracy: 0.7987\n",
            "Epoch 94/100\n",
            "20/20 [==============================] - 0s 9ms/step - loss: 0.3962 - accuracy: 0.8322 - val_loss: 0.4531 - val_accuracy: 0.7987\n",
            "Epoch 95/100\n",
            "20/20 [==============================] - 0s 11ms/step - loss: 0.3965 - accuracy: 0.8306 - val_loss: 0.4524 - val_accuracy: 0.7987\n",
            "Epoch 96/100\n",
            "20/20 [==============================] - 0s 8ms/step - loss: 0.3960 - accuracy: 0.8306 - val_loss: 0.4522 - val_accuracy: 0.7987\n",
            "Epoch 97/100\n",
            "20/20 [==============================] - 0s 9ms/step - loss: 0.3954 - accuracy: 0.8306 - val_loss: 0.4501 - val_accuracy: 0.8052\n",
            "Epoch 98/100\n",
            "20/20 [==============================] - 0s 8ms/step - loss: 0.3954 - accuracy: 0.8274 - val_loss: 0.4505 - val_accuracy: 0.7987\n",
            "Epoch 99/100\n",
            "20/20 [==============================] - 0s 8ms/step - loss: 0.3953 - accuracy: 0.8241 - val_loss: 0.4499 - val_accuracy: 0.8117\n",
            "Epoch 100/100\n",
            "20/20 [==============================] - 0s 12ms/step - loss: 0.3951 - accuracy: 0.8225 - val_loss: 0.4512 - val_accuracy: 0.7987\n"
          ]
        },
        {
          "output_type": "execute_result",
          "data": {
            "text/plain": [
              "<keras.src.callbacks.History at 0x7ee689db1930>"
            ]
          },
          "metadata": {},
          "execution_count": 160
        }
      ]
    },
    {
      "cell_type": "code",
      "source": [
        "def build_model(hp):\n",
        "  model = Sequential()\n",
        "\n",
        "  units = hp.Int('units',8,128,step=8)\n",
        "\n",
        "  model.add(Dense(units=units, activation = 'relu', input_dim = 8))\n",
        "  model.add(Dense(1,activation='sigmoid'))\n",
        "\n",
        "  model.compile(optimizer = 'adam', loss = 'binary_crossentropy', metrics = ['accuracy'])\n",
        "  return model"
      ],
      "metadata": {
        "id": "S-SnsMNM29kM"
      },
      "execution_count": 162,
      "outputs": []
    },
    {
      "cell_type": "code",
      "source": [
        "tuner = kt.RandomSearch(build_model,\n",
        "                        objective = 'val_accuracy',\n",
        "                        max_trials =5)"
      ],
      "metadata": {
        "colab": {
          "base_uri": "https://localhost:8080/"
        },
        "id": "REYMcu_v453g",
        "outputId": "27a84e15-685f-4a2e-9b8a-eaf5b2292bf2"
      },
      "execution_count": 163,
      "outputs": [
        {
          "output_type": "stream",
          "name": "stdout",
          "text": [
            "Reloading Tuner from ./untitled_project/tuner0.json\n"
          ]
        }
      ]
    },
    {
      "cell_type": "code",
      "source": [
        "tuner.search(X_train,y_train,epochs=5, validation_data = (X_test,y_test))"
      ],
      "metadata": {
        "id": "Zph47wls5WkW"
      },
      "execution_count": 164,
      "outputs": []
    },
    {
      "cell_type": "code",
      "source": [
        "def build_model(hp):\n",
        "  model = Sequential()\n",
        "\n",
        "  units = hp.Int('units',8,128,step=8)\n",
        "\n",
        "  model.add(Dense(units=units, activation = 'relu', input_dim = 8))\n",
        "  model.add(Dense(1,activation='sigmoid'))\n",
        "\n",
        "  model.compile(optimizer = 'adam', loss = 'binary_crossentropy', metrics = ['accuracy'])\n",
        "  return model"
      ],
      "metadata": {
        "id": "KqWSgKiT61-s"
      },
      "execution_count": 168,
      "outputs": []
    },
    {
      "cell_type": "code",
      "source": [
        "tuner = kt.RandomSearch(build_model,\n",
        "                        objective = 'val_accuracy',\n",
        "                        max_trials =5,\n",
        "                        directory = 'mydir',\n",
        "                        project_name = 'khush')"
      ],
      "metadata": {
        "id": "3uRB-lZz52EG"
      },
      "execution_count": 170,
      "outputs": []
    },
    {
      "cell_type": "code",
      "source": [
        "tuner.search(X_train,y_train,epochs=5, validation_data = (X_test,y_test))"
      ],
      "metadata": {
        "colab": {
          "base_uri": "https://localhost:8080/"
        },
        "id": "5mNqIV116fWK",
        "outputId": "c3645f8b-d1f1-40cf-ddf0-3de16fff875b"
      },
      "execution_count": 171,
      "outputs": [
        {
          "output_type": "stream",
          "name": "stdout",
          "text": [
            "Trial 5 Complete [00h 00m 02s]\n",
            "val_accuracy: 0.6688311696052551\n",
            "\n",
            "Best val_accuracy So Far: 0.798701286315918\n",
            "Total elapsed time: 00h 00m 13s\n"
          ]
        }
      ]
    },
    {
      "cell_type": "code",
      "source": [
        "tuner.get_best_hyperparameters()[0].values"
      ],
      "metadata": {
        "colab": {
          "base_uri": "https://localhost:8080/"
        },
        "id": "dt4lLjjx7P53",
        "outputId": "21c06eaa-9e77-49b9-956e-738b07047150"
      },
      "execution_count": 175,
      "outputs": [
        {
          "output_type": "execute_result",
          "data": {
            "text/plain": [
              "{'units': 112}"
            ]
          },
          "metadata": {},
          "execution_count": 175
        }
      ]
    },
    {
      "cell_type": "code",
      "source": [
        "model = tuner.get_best_models()[0]"
      ],
      "metadata": {
        "id": "UkJMUvW57p-a"
      },
      "execution_count": 176,
      "outputs": []
    },
    {
      "cell_type": "code",
      "source": [
        "model.fit(X_train,y_train,batch_size=32,epochs=100,initial_epoch=6)\n"
      ],
      "metadata": {
        "colab": {
          "base_uri": "https://localhost:8080/"
        },
        "id": "BXP9Z96u8UOa",
        "outputId": "c862b574-3d60-4d0f-cc9a-d1dd3fef7b12"
      },
      "execution_count": 179,
      "outputs": [
        {
          "output_type": "stream",
          "name": "stdout",
          "text": [
            "Epoch 7/100\n",
            "20/20 [==============================] - 1s 4ms/step - loss: 0.5067 - accuracy: 0.7687\n",
            "Epoch 8/100\n",
            "20/20 [==============================] - 0s 4ms/step - loss: 0.4868 - accuracy: 0.7736\n",
            "Epoch 9/100\n",
            "20/20 [==============================] - 0s 4ms/step - loss: 0.4750 - accuracy: 0.7785\n",
            "Epoch 10/100\n",
            "20/20 [==============================] - 0s 4ms/step - loss: 0.4667 - accuracy: 0.7736\n",
            "Epoch 11/100\n",
            "20/20 [==============================] - 0s 4ms/step - loss: 0.4615 - accuracy: 0.7752\n",
            "Epoch 12/100\n",
            "20/20 [==============================] - 0s 4ms/step - loss: 0.4567 - accuracy: 0.7818\n",
            "Epoch 13/100\n",
            "20/20 [==============================] - 0s 4ms/step - loss: 0.4542 - accuracy: 0.7818\n",
            "Epoch 14/100\n",
            "20/20 [==============================] - 0s 4ms/step - loss: 0.4506 - accuracy: 0.7818\n",
            "Epoch 15/100\n",
            "20/20 [==============================] - 0s 4ms/step - loss: 0.4485 - accuracy: 0.7801\n",
            "Epoch 16/100\n",
            "20/20 [==============================] - 0s 4ms/step - loss: 0.4468 - accuracy: 0.7801\n",
            "Epoch 17/100\n",
            "20/20 [==============================] - 0s 4ms/step - loss: 0.4450 - accuracy: 0.7850\n",
            "Epoch 18/100\n",
            "20/20 [==============================] - 0s 4ms/step - loss: 0.4436 - accuracy: 0.7769\n",
            "Epoch 19/100\n",
            "20/20 [==============================] - 0s 4ms/step - loss: 0.4429 - accuracy: 0.7785\n",
            "Epoch 20/100\n",
            "20/20 [==============================] - 0s 4ms/step - loss: 0.4430 - accuracy: 0.7752\n",
            "Epoch 21/100\n",
            "20/20 [==============================] - 0s 4ms/step - loss: 0.4410 - accuracy: 0.7785\n",
            "Epoch 22/100\n",
            "20/20 [==============================] - 0s 6ms/step - loss: 0.4392 - accuracy: 0.7785\n",
            "Epoch 23/100\n",
            "20/20 [==============================] - 0s 4ms/step - loss: 0.4377 - accuracy: 0.7785\n",
            "Epoch 24/100\n",
            "20/20 [==============================] - 0s 4ms/step - loss: 0.4367 - accuracy: 0.7834\n",
            "Epoch 25/100\n",
            "20/20 [==============================] - 0s 4ms/step - loss: 0.4368 - accuracy: 0.7834\n",
            "Epoch 26/100\n",
            "20/20 [==============================] - 0s 4ms/step - loss: 0.4356 - accuracy: 0.7866\n",
            "Epoch 27/100\n",
            "20/20 [==============================] - 0s 4ms/step - loss: 0.4348 - accuracy: 0.7801\n",
            "Epoch 28/100\n",
            "20/20 [==============================] - 0s 4ms/step - loss: 0.4333 - accuracy: 0.7850\n",
            "Epoch 29/100\n",
            "20/20 [==============================] - 0s 4ms/step - loss: 0.4333 - accuracy: 0.7785\n",
            "Epoch 30/100\n",
            "20/20 [==============================] - 0s 5ms/step - loss: 0.4320 - accuracy: 0.7850\n",
            "Epoch 31/100\n",
            "20/20 [==============================] - 0s 4ms/step - loss: 0.4316 - accuracy: 0.7866\n",
            "Epoch 32/100\n",
            "20/20 [==============================] - 0s 4ms/step - loss: 0.4303 - accuracy: 0.7834\n",
            "Epoch 33/100\n",
            "20/20 [==============================] - 0s 5ms/step - loss: 0.4293 - accuracy: 0.7834\n",
            "Epoch 34/100\n",
            "20/20 [==============================] - 0s 5ms/step - loss: 0.4295 - accuracy: 0.7850\n",
            "Epoch 35/100\n",
            "20/20 [==============================] - 0s 4ms/step - loss: 0.4298 - accuracy: 0.7785\n",
            "Epoch 36/100\n",
            "20/20 [==============================] - 0s 4ms/step - loss: 0.4281 - accuracy: 0.7899\n",
            "Epoch 37/100\n",
            "20/20 [==============================] - 0s 4ms/step - loss: 0.4263 - accuracy: 0.7883\n",
            "Epoch 38/100\n",
            "20/20 [==============================] - 0s 3ms/step - loss: 0.4255 - accuracy: 0.7850\n",
            "Epoch 39/100\n",
            "20/20 [==============================] - 0s 4ms/step - loss: 0.4257 - accuracy: 0.7866\n",
            "Epoch 40/100\n",
            "20/20 [==============================] - 0s 4ms/step - loss: 0.4251 - accuracy: 0.7915\n",
            "Epoch 41/100\n",
            "20/20 [==============================] - 0s 5ms/step - loss: 0.4246 - accuracy: 0.7866\n",
            "Epoch 42/100\n",
            "20/20 [==============================] - 0s 4ms/step - loss: 0.4251 - accuracy: 0.7932\n",
            "Epoch 43/100\n",
            "20/20 [==============================] - 0s 4ms/step - loss: 0.4238 - accuracy: 0.7899\n",
            "Epoch 44/100\n",
            "20/20 [==============================] - 0s 5ms/step - loss: 0.4224 - accuracy: 0.7915\n",
            "Epoch 45/100\n",
            "20/20 [==============================] - 0s 5ms/step - loss: 0.4223 - accuracy: 0.7866\n",
            "Epoch 46/100\n",
            "20/20 [==============================] - 0s 4ms/step - loss: 0.4196 - accuracy: 0.7915\n",
            "Epoch 47/100\n",
            "20/20 [==============================] - 0s 4ms/step - loss: 0.4211 - accuracy: 0.8062\n",
            "Epoch 48/100\n",
            "20/20 [==============================] - 0s 4ms/step - loss: 0.4190 - accuracy: 0.8029\n",
            "Epoch 49/100\n",
            "20/20 [==============================] - 0s 4ms/step - loss: 0.4186 - accuracy: 0.7915\n",
            "Epoch 50/100\n",
            "20/20 [==============================] - 0s 4ms/step - loss: 0.4186 - accuracy: 0.7948\n",
            "Epoch 51/100\n",
            "20/20 [==============================] - 0s 4ms/step - loss: 0.4178 - accuracy: 0.8013\n",
            "Epoch 52/100\n",
            "20/20 [==============================] - 0s 4ms/step - loss: 0.4162 - accuracy: 0.7997\n",
            "Epoch 53/100\n",
            "20/20 [==============================] - 0s 4ms/step - loss: 0.4155 - accuracy: 0.7948\n",
            "Epoch 54/100\n",
            "20/20 [==============================] - 0s 4ms/step - loss: 0.4149 - accuracy: 0.7980\n",
            "Epoch 55/100\n",
            "20/20 [==============================] - 0s 5ms/step - loss: 0.4158 - accuracy: 0.8013\n",
            "Epoch 56/100\n",
            "20/20 [==============================] - 0s 5ms/step - loss: 0.4140 - accuracy: 0.7932\n",
            "Epoch 57/100\n",
            "20/20 [==============================] - 0s 4ms/step - loss: 0.4130 - accuracy: 0.8062\n",
            "Epoch 58/100\n",
            "20/20 [==============================] - 0s 4ms/step - loss: 0.4126 - accuracy: 0.8029\n",
            "Epoch 59/100\n",
            "20/20 [==============================] - 0s 4ms/step - loss: 0.4117 - accuracy: 0.8029\n",
            "Epoch 60/100\n",
            "20/20 [==============================] - 0s 4ms/step - loss: 0.4116 - accuracy: 0.7980\n",
            "Epoch 61/100\n",
            "20/20 [==============================] - 0s 4ms/step - loss: 0.4101 - accuracy: 0.7997\n",
            "Epoch 62/100\n",
            "20/20 [==============================] - 0s 4ms/step - loss: 0.4105 - accuracy: 0.7964\n",
            "Epoch 63/100\n",
            "20/20 [==============================] - 0s 4ms/step - loss: 0.4094 - accuracy: 0.8013\n",
            "Epoch 64/100\n",
            "20/20 [==============================] - 0s 4ms/step - loss: 0.4097 - accuracy: 0.7997\n",
            "Epoch 65/100\n",
            "20/20 [==============================] - 0s 4ms/step - loss: 0.4083 - accuracy: 0.8062\n",
            "Epoch 66/100\n",
            "20/20 [==============================] - 0s 4ms/step - loss: 0.4084 - accuracy: 0.8013\n",
            "Epoch 67/100\n",
            "20/20 [==============================] - 0s 5ms/step - loss: 0.4071 - accuracy: 0.8029\n",
            "Epoch 68/100\n",
            "20/20 [==============================] - 0s 5ms/step - loss: 0.4062 - accuracy: 0.8078\n",
            "Epoch 69/100\n",
            "20/20 [==============================] - 0s 4ms/step - loss: 0.4065 - accuracy: 0.8111\n",
            "Epoch 70/100\n",
            "20/20 [==============================] - 0s 4ms/step - loss: 0.4057 - accuracy: 0.8078\n",
            "Epoch 71/100\n",
            "20/20 [==============================] - 0s 4ms/step - loss: 0.4041 - accuracy: 0.8111\n",
            "Epoch 72/100\n",
            "20/20 [==============================] - 0s 3ms/step - loss: 0.4042 - accuracy: 0.8192\n",
            "Epoch 73/100\n",
            "20/20 [==============================] - 0s 4ms/step - loss: 0.4036 - accuracy: 0.8062\n",
            "Epoch 74/100\n",
            "20/20 [==============================] - 0s 4ms/step - loss: 0.4050 - accuracy: 0.8143\n",
            "Epoch 75/100\n",
            "20/20 [==============================] - 0s 4ms/step - loss: 0.4026 - accuracy: 0.8111\n",
            "Epoch 76/100\n",
            "20/20 [==============================] - 0s 4ms/step - loss: 0.4027 - accuracy: 0.8208\n",
            "Epoch 77/100\n",
            "20/20 [==============================] - 0s 5ms/step - loss: 0.4006 - accuracy: 0.8192\n",
            "Epoch 78/100\n",
            "20/20 [==============================] - 0s 4ms/step - loss: 0.4005 - accuracy: 0.8176\n",
            "Epoch 79/100\n",
            "20/20 [==============================] - 0s 5ms/step - loss: 0.4010 - accuracy: 0.8127\n",
            "Epoch 80/100\n",
            "20/20 [==============================] - 0s 4ms/step - loss: 0.3996 - accuracy: 0.8176\n",
            "Epoch 81/100\n",
            "20/20 [==============================] - 0s 4ms/step - loss: 0.3992 - accuracy: 0.8257\n",
            "Epoch 82/100\n",
            "20/20 [==============================] - 0s 4ms/step - loss: 0.3982 - accuracy: 0.8208\n",
            "Epoch 83/100\n",
            "20/20 [==============================] - 0s 4ms/step - loss: 0.3981 - accuracy: 0.8160\n",
            "Epoch 84/100\n",
            "20/20 [==============================] - 0s 4ms/step - loss: 0.3967 - accuracy: 0.8176\n",
            "Epoch 85/100\n",
            "20/20 [==============================] - 0s 4ms/step - loss: 0.3970 - accuracy: 0.8208\n",
            "Epoch 86/100\n",
            "20/20 [==============================] - 0s 4ms/step - loss: 0.3956 - accuracy: 0.8192\n",
            "Epoch 87/100\n",
            "20/20 [==============================] - 0s 4ms/step - loss: 0.3948 - accuracy: 0.8160\n",
            "Epoch 88/100\n",
            "20/20 [==============================] - 0s 4ms/step - loss: 0.3946 - accuracy: 0.8208\n",
            "Epoch 89/100\n",
            "20/20 [==============================] - 0s 4ms/step - loss: 0.3952 - accuracy: 0.8208\n",
            "Epoch 90/100\n",
            "20/20 [==============================] - 0s 5ms/step - loss: 0.3939 - accuracy: 0.8176\n",
            "Epoch 91/100\n",
            "20/20 [==============================] - 0s 5ms/step - loss: 0.3942 - accuracy: 0.8274\n",
            "Epoch 92/100\n",
            "20/20 [==============================] - 0s 4ms/step - loss: 0.3934 - accuracy: 0.8208\n",
            "Epoch 93/100\n",
            "20/20 [==============================] - 0s 4ms/step - loss: 0.3918 - accuracy: 0.8274\n",
            "Epoch 94/100\n",
            "20/20 [==============================] - 0s 4ms/step - loss: 0.3919 - accuracy: 0.8290\n",
            "Epoch 95/100\n",
            "20/20 [==============================] - 0s 4ms/step - loss: 0.3907 - accuracy: 0.8241\n",
            "Epoch 96/100\n",
            "20/20 [==============================] - 0s 4ms/step - loss: 0.3921 - accuracy: 0.8241\n",
            "Epoch 97/100\n",
            "20/20 [==============================] - 0s 4ms/step - loss: 0.3909 - accuracy: 0.8225\n",
            "Epoch 98/100\n",
            "20/20 [==============================] - 0s 4ms/step - loss: 0.3893 - accuracy: 0.8257\n",
            "Epoch 99/100\n",
            "20/20 [==============================] - 0s 4ms/step - loss: 0.3902 - accuracy: 0.8208\n",
            "Epoch 100/100\n",
            "20/20 [==============================] - 0s 5ms/step - loss: 0.3890 - accuracy: 0.8274\n"
          ]
        },
        {
          "output_type": "execute_result",
          "data": {
            "text/plain": [
              "<keras.src.callbacks.History at 0x7ee689747910>"
            ]
          },
          "metadata": {},
          "execution_count": 179
        }
      ]
    },
    {
      "cell_type": "code",
      "source": [
        "def build_model(hp):\n",
        "\n",
        "  model = Sequential()\n",
        "\n",
        "  model.add(Dense(72,activation = 'relu', input_dim = 8))\n",
        "\n",
        "  for i in range(hp.Int('num_layers', min_value = 1, max_value=10)):\n",
        "    model.add(Dense(72,activation='relu'))\n",
        "\n",
        "  model.add(Dense(1,activation = 'sigmoid'))\n",
        "\n",
        "  model.compile(optimizer = 'adam', loss = 'binary_crossentropy', metrics = ['accuracy'])\n",
        "  return model\n"
      ],
      "metadata": {
        "id": "juT_U4HG8Vtp"
      },
      "execution_count": 184,
      "outputs": []
    },
    {
      "cell_type": "code",
      "source": [
        "tuner = kt.RandomSearch(build_model,\n",
        "                        objective = 'val_accuracy',\n",
        "                        max_trials = 3,\n",
        "                        directory = 'mydir',\n",
        "                        project_name = 'num_layers'\n",
        "                        )"
      ],
      "metadata": {
        "id": "QEamFZWzCBfP"
      },
      "execution_count": 185,
      "outputs": []
    },
    {
      "cell_type": "code",
      "source": [
        "tuner.search(X_train,y_train,epochs=5, validation_data = (X_test,y_test))"
      ],
      "metadata": {
        "colab": {
          "base_uri": "https://localhost:8080/"
        },
        "id": "UyQb1vj9CbEt",
        "outputId": "e30ac8d2-5460-4ad0-deec-f382706e0ca8"
      },
      "execution_count": 186,
      "outputs": [
        {
          "output_type": "stream",
          "name": "stdout",
          "text": [
            "Trial 3 Complete [00h 00m 04s]\n",
            "val_accuracy: 0.7922077775001526\n",
            "\n",
            "Best val_accuracy So Far: 0.8116883039474487\n",
            "Total elapsed time: 00h 00m 13s\n"
          ]
        }
      ]
    },
    {
      "cell_type": "code",
      "source": [
        "tuner.get_best_hyperparameters()[0].values"
      ],
      "metadata": {
        "colab": {
          "base_uri": "https://localhost:8080/"
        },
        "id": "1q9cl4NtC2ze",
        "outputId": "f8822708-5655-465f-ddb2-b12f007fa183"
      },
      "execution_count": 188,
      "outputs": [
        {
          "output_type": "execute_result",
          "data": {
            "text/plain": [
              "{'num_layers': 4}"
            ]
          },
          "metadata": {},
          "execution_count": 188
        }
      ]
    },
    {
      "cell_type": "code",
      "source": [
        "model = tuner.get_best_models()[0]"
      ],
      "metadata": {
        "id": "LagyIJeuDCkN"
      },
      "execution_count": 195,
      "outputs": []
    },
    {
      "cell_type": "code",
      "source": [
        "model"
      ],
      "metadata": {
        "colab": {
          "base_uri": "https://localhost:8080/"
        },
        "id": "RQdvEsdEFkxd",
        "outputId": "82f0150b-3b95-4caa-8af8-bbd623d862de"
      },
      "execution_count": 196,
      "outputs": [
        {
          "output_type": "execute_result",
          "data": {
            "text/plain": [
              "<keras.src.engine.sequential.Sequential at 0x7ee689c13fd0>"
            ]
          },
          "metadata": {},
          "execution_count": 196
        }
      ]
    },
    {
      "cell_type": "code",
      "source": [
        "model.fit(X_train,y_train, batch_size = 32, epochs = 100, initial_epoch = 6 , validation_data = (X_test, y_test))"
      ],
      "metadata": {
        "colab": {
          "base_uri": "https://localhost:8080/"
        },
        "id": "rEBPfcjUFlld",
        "outputId": "5831ef57-2a1a-4e10-85d0-aa990d9739c6"
      },
      "execution_count": 199,
      "outputs": [
        {
          "output_type": "stream",
          "name": "stdout",
          "text": [
            "Epoch 7/100\n",
            "20/20 [==============================] - 2s 15ms/step - loss: 0.4251 - accuracy: 0.7915 - val_loss: 0.4545 - val_accuracy: 0.7922\n",
            "Epoch 8/100\n",
            "20/20 [==============================] - 0s 7ms/step - loss: 0.4289 - accuracy: 0.7948 - val_loss: 0.4414 - val_accuracy: 0.8117\n",
            "Epoch 9/100\n",
            "20/20 [==============================] - 0s 6ms/step - loss: 0.4048 - accuracy: 0.8127 - val_loss: 0.4335 - val_accuracy: 0.8247\n",
            "Epoch 10/100\n",
            "20/20 [==============================] - 0s 7ms/step - loss: 0.3938 - accuracy: 0.8176 - val_loss: 0.4382 - val_accuracy: 0.8052\n",
            "Epoch 11/100\n",
            "20/20 [==============================] - 0s 10ms/step - loss: 0.3876 - accuracy: 0.8225 - val_loss: 0.4425 - val_accuracy: 0.8052\n",
            "Epoch 12/100\n",
            "20/20 [==============================] - 0s 13ms/step - loss: 0.3802 - accuracy: 0.8274 - val_loss: 0.4534 - val_accuracy: 0.8117\n",
            "Epoch 13/100\n",
            "20/20 [==============================] - 0s 10ms/step - loss: 0.3655 - accuracy: 0.8404 - val_loss: 0.4592 - val_accuracy: 0.8052\n",
            "Epoch 14/100\n",
            "20/20 [==============================] - 0s 10ms/step - loss: 0.3444 - accuracy: 0.8534 - val_loss: 0.4799 - val_accuracy: 0.8247\n",
            "Epoch 15/100\n",
            "20/20 [==============================] - 0s 12ms/step - loss: 0.3290 - accuracy: 0.8534 - val_loss: 0.4808 - val_accuracy: 0.7857\n",
            "Epoch 16/100\n",
            "20/20 [==============================] - 0s 11ms/step - loss: 0.3335 - accuracy: 0.8518 - val_loss: 0.4848 - val_accuracy: 0.8117\n",
            "Epoch 17/100\n",
            "20/20 [==============================] - 0s 10ms/step - loss: 0.3011 - accuracy: 0.8713 - val_loss: 0.4909 - val_accuracy: 0.8117\n",
            "Epoch 18/100\n",
            "20/20 [==============================] - 0s 10ms/step - loss: 0.3249 - accuracy: 0.8632 - val_loss: 0.5134 - val_accuracy: 0.8312\n",
            "Epoch 19/100\n",
            "20/20 [==============================] - 0s 12ms/step - loss: 0.3295 - accuracy: 0.8550 - val_loss: 0.5874 - val_accuracy: 0.7727\n",
            "Epoch 20/100\n",
            "20/20 [==============================] - 0s 12ms/step - loss: 0.3354 - accuracy: 0.8306 - val_loss: 0.4888 - val_accuracy: 0.8117\n",
            "Epoch 21/100\n",
            "20/20 [==============================] - 0s 12ms/step - loss: 0.2845 - accuracy: 0.8860 - val_loss: 0.5104 - val_accuracy: 0.8117\n",
            "Epoch 22/100\n",
            "20/20 [==============================] - 0s 10ms/step - loss: 0.2604 - accuracy: 0.9088 - val_loss: 0.5442 - val_accuracy: 0.8052\n",
            "Epoch 23/100\n",
            "20/20 [==============================] - 0s 11ms/step - loss: 0.2378 - accuracy: 0.9202 - val_loss: 0.5377 - val_accuracy: 0.8052\n",
            "Epoch 24/100\n",
            "20/20 [==============================] - 0s 13ms/step - loss: 0.2447 - accuracy: 0.8974 - val_loss: 0.5376 - val_accuracy: 0.7922\n",
            "Epoch 25/100\n",
            "20/20 [==============================] - 0s 12ms/step - loss: 0.2070 - accuracy: 0.9251 - val_loss: 0.5951 - val_accuracy: 0.7987\n",
            "Epoch 26/100\n",
            "20/20 [==============================] - 0s 8ms/step - loss: 0.2004 - accuracy: 0.9186 - val_loss: 0.6064 - val_accuracy: 0.8117\n",
            "Epoch 27/100\n",
            "20/20 [==============================] - 0s 7ms/step - loss: 0.1710 - accuracy: 0.9365 - val_loss: 0.6880 - val_accuracy: 0.7792\n",
            "Epoch 28/100\n",
            "20/20 [==============================] - 0s 7ms/step - loss: 0.1761 - accuracy: 0.9300 - val_loss: 0.6315 - val_accuracy: 0.7792\n",
            "Epoch 29/100\n",
            "20/20 [==============================] - 0s 7ms/step - loss: 0.1595 - accuracy: 0.9446 - val_loss: 0.6764 - val_accuracy: 0.7857\n",
            "Epoch 30/100\n",
            "20/20 [==============================] - 0s 8ms/step - loss: 0.1825 - accuracy: 0.9267 - val_loss: 0.7207 - val_accuracy: 0.7727\n",
            "Epoch 31/100\n",
            "20/20 [==============================] - 0s 7ms/step - loss: 0.1569 - accuracy: 0.9332 - val_loss: 0.6876 - val_accuracy: 0.8117\n",
            "Epoch 32/100\n",
            "20/20 [==============================] - 0s 8ms/step - loss: 0.1274 - accuracy: 0.9577 - val_loss: 0.7426 - val_accuracy: 0.7662\n",
            "Epoch 33/100\n",
            "20/20 [==============================] - 0s 6ms/step - loss: 0.1725 - accuracy: 0.9397 - val_loss: 0.8161 - val_accuracy: 0.7532\n",
            "Epoch 34/100\n",
            "20/20 [==============================] - 0s 6ms/step - loss: 0.1313 - accuracy: 0.9544 - val_loss: 0.7055 - val_accuracy: 0.7922\n",
            "Epoch 35/100\n",
            "20/20 [==============================] - 0s 7ms/step - loss: 0.1256 - accuracy: 0.9560 - val_loss: 0.8231 - val_accuracy: 0.7857\n",
            "Epoch 36/100\n",
            "20/20 [==============================] - 0s 6ms/step - loss: 0.1157 - accuracy: 0.9560 - val_loss: 0.8256 - val_accuracy: 0.7792\n",
            "Epoch 37/100\n",
            "20/20 [==============================] - 0s 8ms/step - loss: 0.1674 - accuracy: 0.9446 - val_loss: 0.7981 - val_accuracy: 0.7857\n",
            "Epoch 38/100\n",
            "20/20 [==============================] - 0s 7ms/step - loss: 0.1401 - accuracy: 0.9560 - val_loss: 0.7911 - val_accuracy: 0.7468\n",
            "Epoch 39/100\n",
            "20/20 [==============================] - 0s 8ms/step - loss: 0.0945 - accuracy: 0.9756 - val_loss: 0.7488 - val_accuracy: 0.7922\n",
            "Epoch 40/100\n",
            "20/20 [==============================] - 0s 6ms/step - loss: 0.0796 - accuracy: 0.9723 - val_loss: 0.8519 - val_accuracy: 0.7792\n",
            "Epoch 41/100\n",
            "20/20 [==============================] - 0s 6ms/step - loss: 0.1129 - accuracy: 0.9577 - val_loss: 0.8174 - val_accuracy: 0.7857\n",
            "Epoch 42/100\n",
            "20/20 [==============================] - 0s 7ms/step - loss: 0.1115 - accuracy: 0.9625 - val_loss: 0.8389 - val_accuracy: 0.7597\n",
            "Epoch 43/100\n",
            "20/20 [==============================] - 0s 6ms/step - loss: 0.0942 - accuracy: 0.9658 - val_loss: 0.7985 - val_accuracy: 0.7857\n",
            "Epoch 44/100\n",
            "20/20 [==============================] - 0s 8ms/step - loss: 0.0672 - accuracy: 0.9756 - val_loss: 0.8741 - val_accuracy: 0.7857\n",
            "Epoch 45/100\n",
            "20/20 [==============================] - 0s 7ms/step - loss: 0.0488 - accuracy: 0.9870 - val_loss: 0.8578 - val_accuracy: 0.8247\n",
            "Epoch 46/100\n",
            "20/20 [==============================] - 0s 8ms/step - loss: 0.0308 - accuracy: 0.9935 - val_loss: 0.9483 - val_accuracy: 0.8117\n",
            "Epoch 47/100\n",
            "20/20 [==============================] - 0s 7ms/step - loss: 0.0306 - accuracy: 0.9902 - val_loss: 0.9325 - val_accuracy: 0.8052\n",
            "Epoch 48/100\n",
            "20/20 [==============================] - 0s 7ms/step - loss: 0.0462 - accuracy: 0.9870 - val_loss: 1.0780 - val_accuracy: 0.8182\n",
            "Epoch 49/100\n",
            "20/20 [==============================] - 0s 7ms/step - loss: 0.0729 - accuracy: 0.9756 - val_loss: 1.0911 - val_accuracy: 0.7597\n",
            "Epoch 50/100\n",
            "20/20 [==============================] - 0s 8ms/step - loss: 0.0466 - accuracy: 0.9886 - val_loss: 1.0705 - val_accuracy: 0.7792\n",
            "Epoch 51/100\n",
            "20/20 [==============================] - 0s 7ms/step - loss: 0.0229 - accuracy: 0.9919 - val_loss: 1.0183 - val_accuracy: 0.8052\n",
            "Epoch 52/100\n",
            "20/20 [==============================] - 0s 7ms/step - loss: 0.0384 - accuracy: 0.9919 - val_loss: 1.0894 - val_accuracy: 0.7922\n",
            "Epoch 53/100\n",
            "20/20 [==============================] - 0s 8ms/step - loss: 0.0829 - accuracy: 0.9772 - val_loss: 1.1748 - val_accuracy: 0.7662\n",
            "Epoch 54/100\n",
            "20/20 [==============================] - 0s 7ms/step - loss: 0.1429 - accuracy: 0.9528 - val_loss: 1.1428 - val_accuracy: 0.7727\n",
            "Epoch 55/100\n",
            "20/20 [==============================] - 0s 7ms/step - loss: 0.1112 - accuracy: 0.9707 - val_loss: 0.9884 - val_accuracy: 0.7403\n",
            "Epoch 56/100\n",
            "20/20 [==============================] - 0s 7ms/step - loss: 0.0701 - accuracy: 0.9739 - val_loss: 0.9337 - val_accuracy: 0.8117\n",
            "Epoch 57/100\n",
            "20/20 [==============================] - 0s 9ms/step - loss: 0.0472 - accuracy: 0.9870 - val_loss: 1.0293 - val_accuracy: 0.7922\n",
            "Epoch 58/100\n",
            "20/20 [==============================] - 0s 7ms/step - loss: 0.0228 - accuracy: 0.9919 - val_loss: 1.0585 - val_accuracy: 0.8182\n",
            "Epoch 59/100\n",
            "20/20 [==============================] - 0s 7ms/step - loss: 0.0176 - accuracy: 0.9967 - val_loss: 1.1145 - val_accuracy: 0.8117\n",
            "Epoch 60/100\n",
            "20/20 [==============================] - 0s 7ms/step - loss: 0.0105 - accuracy: 0.9984 - val_loss: 1.1566 - val_accuracy: 0.8117\n",
            "Epoch 61/100\n",
            "20/20 [==============================] - 0s 6ms/step - loss: 0.0104 - accuracy: 0.9967 - val_loss: 1.2320 - val_accuracy: 0.7857\n",
            "Epoch 62/100\n",
            "20/20 [==============================] - 0s 7ms/step - loss: 0.0172 - accuracy: 0.9951 - val_loss: 1.2655 - val_accuracy: 0.8117\n",
            "Epoch 63/100\n",
            "20/20 [==============================] - 0s 7ms/step - loss: 0.0133 - accuracy: 0.9984 - val_loss: 1.2773 - val_accuracy: 0.7987\n",
            "Epoch 64/100\n",
            "20/20 [==============================] - 0s 9ms/step - loss: 0.0159 - accuracy: 0.9951 - val_loss: 1.3085 - val_accuracy: 0.7857\n",
            "Epoch 65/100\n",
            "20/20 [==============================] - 0s 7ms/step - loss: 0.0156 - accuracy: 0.9951 - val_loss: 1.2545 - val_accuracy: 0.7987\n",
            "Epoch 66/100\n",
            "20/20 [==============================] - 0s 7ms/step - loss: 0.0118 - accuracy: 0.9951 - val_loss: 1.3671 - val_accuracy: 0.7922\n",
            "Epoch 67/100\n",
            "20/20 [==============================] - 0s 7ms/step - loss: 0.0118 - accuracy: 0.9967 - val_loss: 1.3229 - val_accuracy: 0.7987\n",
            "Epoch 68/100\n",
            "20/20 [==============================] - 0s 7ms/step - loss: 0.0052 - accuracy: 1.0000 - val_loss: 1.3770 - val_accuracy: 0.8052\n",
            "Epoch 69/100\n",
            "20/20 [==============================] - 0s 8ms/step - loss: 0.0033 - accuracy: 1.0000 - val_loss: 1.3946 - val_accuracy: 0.8117\n",
            "Epoch 70/100\n",
            "20/20 [==============================] - 0s 9ms/step - loss: 0.0026 - accuracy: 1.0000 - val_loss: 1.4104 - val_accuracy: 0.8117\n",
            "Epoch 71/100\n",
            "20/20 [==============================] - 0s 7ms/step - loss: 0.0023 - accuracy: 1.0000 - val_loss: 1.4431 - val_accuracy: 0.8117\n",
            "Epoch 72/100\n",
            "20/20 [==============================] - 0s 7ms/step - loss: 0.0020 - accuracy: 1.0000 - val_loss: 1.4536 - val_accuracy: 0.8117\n",
            "Epoch 73/100\n",
            "20/20 [==============================] - 0s 7ms/step - loss: 0.0021 - accuracy: 1.0000 - val_loss: 1.4746 - val_accuracy: 0.8117\n",
            "Epoch 74/100\n",
            "20/20 [==============================] - 0s 7ms/step - loss: 0.0021 - accuracy: 1.0000 - val_loss: 1.4992 - val_accuracy: 0.7987\n",
            "Epoch 75/100\n",
            "20/20 [==============================] - 0s 7ms/step - loss: 0.0042 - accuracy: 0.9984 - val_loss: 1.5021 - val_accuracy: 0.7922\n",
            "Epoch 76/100\n",
            "20/20 [==============================] - 0s 7ms/step - loss: 0.0155 - accuracy: 0.9984 - val_loss: 1.5498 - val_accuracy: 0.7597\n",
            "Epoch 77/100\n",
            "20/20 [==============================] - 0s 8ms/step - loss: 0.0076 - accuracy: 0.9967 - val_loss: 1.4597 - val_accuracy: 0.7727\n",
            "Epoch 78/100\n",
            "20/20 [==============================] - 0s 7ms/step - loss: 0.0028 - accuracy: 1.0000 - val_loss: 1.4999 - val_accuracy: 0.7727\n",
            "Epoch 79/100\n",
            "20/20 [==============================] - 0s 7ms/step - loss: 0.0018 - accuracy: 1.0000 - val_loss: 1.5142 - val_accuracy: 0.7727\n",
            "Epoch 80/100\n",
            "20/20 [==============================] - 0s 8ms/step - loss: 0.0014 - accuracy: 1.0000 - val_loss: 1.5344 - val_accuracy: 0.7857\n",
            "Epoch 81/100\n",
            "20/20 [==============================] - 0s 6ms/step - loss: 0.0011 - accuracy: 1.0000 - val_loss: 1.5492 - val_accuracy: 0.7857\n",
            "Epoch 82/100\n",
            "20/20 [==============================] - 0s 7ms/step - loss: 9.9303e-04 - accuracy: 1.0000 - val_loss: 1.5657 - val_accuracy: 0.7857\n",
            "Epoch 83/100\n",
            "20/20 [==============================] - 0s 9ms/step - loss: 0.0010 - accuracy: 1.0000 - val_loss: 1.5770 - val_accuracy: 0.7857\n",
            "Epoch 84/100\n",
            "20/20 [==============================] - 0s 9ms/step - loss: 9.4258e-04 - accuracy: 1.0000 - val_loss: 1.5949 - val_accuracy: 0.7857\n",
            "Epoch 85/100\n",
            "20/20 [==============================] - 0s 7ms/step - loss: 8.5016e-04 - accuracy: 1.0000 - val_loss: 1.6071 - val_accuracy: 0.7857\n",
            "Epoch 86/100\n",
            "20/20 [==============================] - 0s 11ms/step - loss: 7.6835e-04 - accuracy: 1.0000 - val_loss: 1.6234 - val_accuracy: 0.7857\n",
            "Epoch 87/100\n",
            "20/20 [==============================] - 0s 10ms/step - loss: 7.2181e-04 - accuracy: 1.0000 - val_loss: 1.6338 - val_accuracy: 0.7857\n",
            "Epoch 88/100\n",
            "20/20 [==============================] - 0s 13ms/step - loss: 6.9444e-04 - accuracy: 1.0000 - val_loss: 1.6455 - val_accuracy: 0.7857\n",
            "Epoch 89/100\n",
            "20/20 [==============================] - 0s 10ms/step - loss: 0.0010 - accuracy: 1.0000 - val_loss: 1.6577 - val_accuracy: 0.7922\n",
            "Epoch 90/100\n",
            "20/20 [==============================] - 0s 12ms/step - loss: 6.7692e-04 - accuracy: 1.0000 - val_loss: 1.6742 - val_accuracy: 0.7857\n",
            "Epoch 91/100\n",
            "20/20 [==============================] - 0s 16ms/step - loss: 6.1356e-04 - accuracy: 1.0000 - val_loss: 1.6831 - val_accuracy: 0.7857\n",
            "Epoch 92/100\n",
            "20/20 [==============================] - 0s 13ms/step - loss: 5.6911e-04 - accuracy: 1.0000 - val_loss: 1.6919 - val_accuracy: 0.7857\n",
            "Epoch 93/100\n",
            "20/20 [==============================] - 0s 13ms/step - loss: 5.3884e-04 - accuracy: 1.0000 - val_loss: 1.7007 - val_accuracy: 0.7857\n",
            "Epoch 94/100\n",
            "20/20 [==============================] - 0s 13ms/step - loss: 5.0471e-04 - accuracy: 1.0000 - val_loss: 1.7117 - val_accuracy: 0.7857\n",
            "Epoch 95/100\n",
            "20/20 [==============================] - 0s 16ms/step - loss: 4.8402e-04 - accuracy: 1.0000 - val_loss: 1.7235 - val_accuracy: 0.7857\n",
            "Epoch 96/100\n",
            "20/20 [==============================] - 0s 16ms/step - loss: 4.6612e-04 - accuracy: 1.0000 - val_loss: 1.7338 - val_accuracy: 0.7857\n",
            "Epoch 97/100\n",
            "20/20 [==============================] - 0s 13ms/step - loss: 4.4363e-04 - accuracy: 1.0000 - val_loss: 1.7414 - val_accuracy: 0.7857\n",
            "Epoch 98/100\n",
            "20/20 [==============================] - 0s 15ms/step - loss: 4.2729e-04 - accuracy: 1.0000 - val_loss: 1.7537 - val_accuracy: 0.7857\n",
            "Epoch 99/100\n",
            "20/20 [==============================] - 0s 15ms/step - loss: 4.1443e-04 - accuracy: 1.0000 - val_loss: 1.7635 - val_accuracy: 0.7922\n",
            "Epoch 100/100\n",
            "20/20 [==============================] - 0s 14ms/step - loss: 4.0445e-04 - accuracy: 1.0000 - val_loss: 1.7692 - val_accuracy: 0.7857\n"
          ]
        },
        {
          "output_type": "execute_result",
          "data": {
            "text/plain": [
              "<keras.src.callbacks.History at 0x7ee688d72e00>"
            ]
          },
          "metadata": {},
          "execution_count": 199
        }
      ]
    }
  ]
}