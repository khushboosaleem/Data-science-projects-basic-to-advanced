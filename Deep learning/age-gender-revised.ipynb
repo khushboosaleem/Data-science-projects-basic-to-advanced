{
  "nbformat": 4,
  "nbformat_minor": 0,
  "metadata": {
    "colab": {
      "provenance": [],
      "gpuType": "T4"
    },
    "kernelspec": {
      "name": "python3",
      "display_name": "Python 3"
    },
    "language_info": {
      "name": "python"
    },
    "accelerator": "GPU"
  },
  "cells": [
    {
      "cell_type": "code",
      "execution_count": 1,
      "metadata": {
        "id": "V0VCDB7G4ZLN",
        "colab": {
          "base_uri": "https://localhost:8080/"
        },
        "outputId": "3f1f06d1-2f45-4c10-d7e2-2a10803eb01d"
      },
      "outputs": [
        {
          "output_type": "stream",
          "name": "stdout",
          "text": [
            "cp: cannot stat 'kaggle.json': No such file or directory\n"
          ]
        }
      ],
      "source": [
        "!mkdir -p ~/.kaggle\n",
        "!cp kaggle.json ~/.kaggle/\n"
      ]
    },
    {
      "cell_type": "code",
      "source": [
        "!kaggle datasets download -d jangedoo/utkface-new"
      ],
      "metadata": {
        "colab": {
          "base_uri": "https://localhost:8080/"
        },
        "id": "L4ZhNV5A5XZX",
        "outputId": "1ff431bc-dc11-41e1-a98d-091bf28717b4"
      },
      "execution_count": 2,
      "outputs": [
        {
          "output_type": "stream",
          "name": "stdout",
          "text": [
            "Dataset URL: https://www.kaggle.com/datasets/jangedoo/utkface-new\n",
            "License(s): copyright-authors\n",
            "Downloading utkface-new.zip to /content\n",
            "100% 331M/331M [00:17<00:00, 22.2MB/s]\n",
            "100% 331M/331M [00:17<00:00, 19.3MB/s]\n"
          ]
        }
      ]
    },
    {
      "cell_type": "code",
      "source": [
        "import zipfile\n",
        "zip = zipfile.ZipFile('utkface-new.zip', 'r')\n",
        "zip.extractall(\"/content\")\n",
        "zip.close()"
      ],
      "metadata": {
        "id": "flWIBa3z5XWD"
      },
      "execution_count": 3,
      "outputs": []
    },
    {
      "cell_type": "code",
      "source": [
        "import os\n",
        "import pandas as pd\n",
        "import numpy as np\n",
        "from keras.preprocessing.image import ImageDataGenerator\n"
      ],
      "metadata": {
        "id": "KEbZPr2q55NL"
      },
      "execution_count": 4,
      "outputs": []
    },
    {
      "cell_type": "code",
      "source": [
        "folder_path = '/content/utkface_aligned_cropped/UTKFace'"
      ],
      "metadata": {
        "id": "UG4iPnkf7lON"
      },
      "execution_count": 5,
      "outputs": []
    },
    {
      "cell_type": "code",
      "source": [
        "age=[]\n",
        "gender=[]\n",
        "img_path=[]\n",
        "for file in os.listdir(folder_path):\n",
        "  age.append(int(file.split('_')[0]))\n",
        "  gender.append(int(file.split('_')[1]))\n",
        "  img_path.append(file)"
      ],
      "metadata": {
        "id": "40k_0vHn8cgd"
      },
      "execution_count": 6,
      "outputs": []
    },
    {
      "cell_type": "code",
      "source": [
        "len(age)"
      ],
      "metadata": {
        "colab": {
          "base_uri": "https://localhost:8080/"
        },
        "id": "zhlnxARD8jpr",
        "outputId": "961d3c78-e883-43de-810b-bf8f6aa52dab"
      },
      "execution_count": 7,
      "outputs": [
        {
          "output_type": "execute_result",
          "data": {
            "text/plain": [
              "23708"
            ]
          },
          "metadata": {},
          "execution_count": 7
        }
      ]
    },
    {
      "cell_type": "code",
      "source": [
        "df = pd.DataFrame({'age':age,'gender':gender,'img':img_path})"
      ],
      "metadata": {
        "id": "JmZ2o-Pl8mOr"
      },
      "execution_count": 8,
      "outputs": []
    },
    {
      "cell_type": "code",
      "source": [
        "df"
      ],
      "metadata": {
        "colab": {
          "base_uri": "https://localhost:8080/",
          "height": 423
        },
        "id": "ypb6pkAN8yLZ",
        "outputId": "1fcacdac-4c0c-4153-c285-de806e77272d"
      },
      "execution_count": 9,
      "outputs": [
        {
          "output_type": "execute_result",
          "data": {
            "text/plain": [
              "       age  gender                                    img\n",
              "0       26       0  26_0_1_20170116192332618.jpg.chip.jpg\n",
              "1       36       0  36_0_2_20170104202606050.jpg.chip.jpg\n",
              "2       37       1  37_1_0_20170117140113541.jpg.chip.jpg\n",
              "3       21       1  21_1_3_20170104231324474.jpg.chip.jpg\n",
              "4       36       1  36_1_0_20170109141845861.jpg.chip.jpg\n",
              "...    ...     ...                                    ...\n",
              "23703   72       1  72_1_0_20170110122624490.jpg.chip.jpg\n",
              "23704   41       1  41_1_1_20170117021604893.jpg.chip.jpg\n",
              "23705   42       0  42_0_0_20170104204628725.jpg.chip.jpg\n",
              "23706    3       1   3_1_0_20170109193421750.jpg.chip.jpg\n",
              "23707    2       0   2_0_2_20161219201235452.jpg.chip.jpg\n",
              "\n",
              "[23708 rows x 3 columns]"
            ],
            "text/html": [
              "\n",
              "  <div id=\"df-2133cb65-e445-49db-98ea-27eb958804e7\" class=\"colab-df-container\">\n",
              "    <div>\n",
              "<style scoped>\n",
              "    .dataframe tbody tr th:only-of-type {\n",
              "        vertical-align: middle;\n",
              "    }\n",
              "\n",
              "    .dataframe tbody tr th {\n",
              "        vertical-align: top;\n",
              "    }\n",
              "\n",
              "    .dataframe thead th {\n",
              "        text-align: right;\n",
              "    }\n",
              "</style>\n",
              "<table border=\"1\" class=\"dataframe\">\n",
              "  <thead>\n",
              "    <tr style=\"text-align: right;\">\n",
              "      <th></th>\n",
              "      <th>age</th>\n",
              "      <th>gender</th>\n",
              "      <th>img</th>\n",
              "    </tr>\n",
              "  </thead>\n",
              "  <tbody>\n",
              "    <tr>\n",
              "      <th>0</th>\n",
              "      <td>26</td>\n",
              "      <td>0</td>\n",
              "      <td>26_0_1_20170116192332618.jpg.chip.jpg</td>\n",
              "    </tr>\n",
              "    <tr>\n",
              "      <th>1</th>\n",
              "      <td>36</td>\n",
              "      <td>0</td>\n",
              "      <td>36_0_2_20170104202606050.jpg.chip.jpg</td>\n",
              "    </tr>\n",
              "    <tr>\n",
              "      <th>2</th>\n",
              "      <td>37</td>\n",
              "      <td>1</td>\n",
              "      <td>37_1_0_20170117140113541.jpg.chip.jpg</td>\n",
              "    </tr>\n",
              "    <tr>\n",
              "      <th>3</th>\n",
              "      <td>21</td>\n",
              "      <td>1</td>\n",
              "      <td>21_1_3_20170104231324474.jpg.chip.jpg</td>\n",
              "    </tr>\n",
              "    <tr>\n",
              "      <th>4</th>\n",
              "      <td>36</td>\n",
              "      <td>1</td>\n",
              "      <td>36_1_0_20170109141845861.jpg.chip.jpg</td>\n",
              "    </tr>\n",
              "    <tr>\n",
              "      <th>...</th>\n",
              "      <td>...</td>\n",
              "      <td>...</td>\n",
              "      <td>...</td>\n",
              "    </tr>\n",
              "    <tr>\n",
              "      <th>23703</th>\n",
              "      <td>72</td>\n",
              "      <td>1</td>\n",
              "      <td>72_1_0_20170110122624490.jpg.chip.jpg</td>\n",
              "    </tr>\n",
              "    <tr>\n",
              "      <th>23704</th>\n",
              "      <td>41</td>\n",
              "      <td>1</td>\n",
              "      <td>41_1_1_20170117021604893.jpg.chip.jpg</td>\n",
              "    </tr>\n",
              "    <tr>\n",
              "      <th>23705</th>\n",
              "      <td>42</td>\n",
              "      <td>0</td>\n",
              "      <td>42_0_0_20170104204628725.jpg.chip.jpg</td>\n",
              "    </tr>\n",
              "    <tr>\n",
              "      <th>23706</th>\n",
              "      <td>3</td>\n",
              "      <td>1</td>\n",
              "      <td>3_1_0_20170109193421750.jpg.chip.jpg</td>\n",
              "    </tr>\n",
              "    <tr>\n",
              "      <th>23707</th>\n",
              "      <td>2</td>\n",
              "      <td>0</td>\n",
              "      <td>2_0_2_20161219201235452.jpg.chip.jpg</td>\n",
              "    </tr>\n",
              "  </tbody>\n",
              "</table>\n",
              "<p>23708 rows × 3 columns</p>\n",
              "</div>\n",
              "    <div class=\"colab-df-buttons\">\n",
              "\n",
              "  <div class=\"colab-df-container\">\n",
              "    <button class=\"colab-df-convert\" onclick=\"convertToInteractive('df-2133cb65-e445-49db-98ea-27eb958804e7')\"\n",
              "            title=\"Convert this dataframe to an interactive table.\"\n",
              "            style=\"display:none;\">\n",
              "\n",
              "  <svg xmlns=\"http://www.w3.org/2000/svg\" height=\"24px\" viewBox=\"0 -960 960 960\">\n",
              "    <path d=\"M120-120v-720h720v720H120Zm60-500h600v-160H180v160Zm220 220h160v-160H400v160Zm0 220h160v-160H400v160ZM180-400h160v-160H180v160Zm440 0h160v-160H620v160ZM180-180h160v-160H180v160Zm440 0h160v-160H620v160Z\"/>\n",
              "  </svg>\n",
              "    </button>\n",
              "\n",
              "  <style>\n",
              "    .colab-df-container {\n",
              "      display:flex;\n",
              "      gap: 12px;\n",
              "    }\n",
              "\n",
              "    .colab-df-convert {\n",
              "      background-color: #E8F0FE;\n",
              "      border: none;\n",
              "      border-radius: 50%;\n",
              "      cursor: pointer;\n",
              "      display: none;\n",
              "      fill: #1967D2;\n",
              "      height: 32px;\n",
              "      padding: 0 0 0 0;\n",
              "      width: 32px;\n",
              "    }\n",
              "\n",
              "    .colab-df-convert:hover {\n",
              "      background-color: #E2EBFA;\n",
              "      box-shadow: 0px 1px 2px rgba(60, 64, 67, 0.3), 0px 1px 3px 1px rgba(60, 64, 67, 0.15);\n",
              "      fill: #174EA6;\n",
              "    }\n",
              "\n",
              "    .colab-df-buttons div {\n",
              "      margin-bottom: 4px;\n",
              "    }\n",
              "\n",
              "    [theme=dark] .colab-df-convert {\n",
              "      background-color: #3B4455;\n",
              "      fill: #D2E3FC;\n",
              "    }\n",
              "\n",
              "    [theme=dark] .colab-df-convert:hover {\n",
              "      background-color: #434B5C;\n",
              "      box-shadow: 0px 1px 3px 1px rgba(0, 0, 0, 0.15);\n",
              "      filter: drop-shadow(0px 1px 2px rgba(0, 0, 0, 0.3));\n",
              "      fill: #FFFFFF;\n",
              "    }\n",
              "  </style>\n",
              "\n",
              "    <script>\n",
              "      const buttonEl =\n",
              "        document.querySelector('#df-2133cb65-e445-49db-98ea-27eb958804e7 button.colab-df-convert');\n",
              "      buttonEl.style.display =\n",
              "        google.colab.kernel.accessAllowed ? 'block' : 'none';\n",
              "\n",
              "      async function convertToInteractive(key) {\n",
              "        const element = document.querySelector('#df-2133cb65-e445-49db-98ea-27eb958804e7');\n",
              "        const dataTable =\n",
              "          await google.colab.kernel.invokeFunction('convertToInteractive',\n",
              "                                                    [key], {});\n",
              "        if (!dataTable) return;\n",
              "\n",
              "        const docLinkHtml = 'Like what you see? Visit the ' +\n",
              "          '<a target=\"_blank\" href=https://colab.research.google.com/notebooks/data_table.ipynb>data table notebook</a>'\n",
              "          + ' to learn more about interactive tables.';\n",
              "        element.innerHTML = '';\n",
              "        dataTable['output_type'] = 'display_data';\n",
              "        await google.colab.output.renderOutput(dataTable, element);\n",
              "        const docLink = document.createElement('div');\n",
              "        docLink.innerHTML = docLinkHtml;\n",
              "        element.appendChild(docLink);\n",
              "      }\n",
              "    </script>\n",
              "  </div>\n",
              "\n",
              "\n",
              "<div id=\"df-d97c643f-2620-4404-8960-a9c8cb3a2cd6\">\n",
              "  <button class=\"colab-df-quickchart\" onclick=\"quickchart('df-d97c643f-2620-4404-8960-a9c8cb3a2cd6')\"\n",
              "            title=\"Suggest charts\"\n",
              "            style=\"display:none;\">\n",
              "\n",
              "<svg xmlns=\"http://www.w3.org/2000/svg\" height=\"24px\"viewBox=\"0 0 24 24\"\n",
              "     width=\"24px\">\n",
              "    <g>\n",
              "        <path d=\"M19 3H5c-1.1 0-2 .9-2 2v14c0 1.1.9 2 2 2h14c1.1 0 2-.9 2-2V5c0-1.1-.9-2-2-2zM9 17H7v-7h2v7zm4 0h-2V7h2v10zm4 0h-2v-4h2v4z\"/>\n",
              "    </g>\n",
              "</svg>\n",
              "  </button>\n",
              "\n",
              "<style>\n",
              "  .colab-df-quickchart {\n",
              "      --bg-color: #E8F0FE;\n",
              "      --fill-color: #1967D2;\n",
              "      --hover-bg-color: #E2EBFA;\n",
              "      --hover-fill-color: #174EA6;\n",
              "      --disabled-fill-color: #AAA;\n",
              "      --disabled-bg-color: #DDD;\n",
              "  }\n",
              "\n",
              "  [theme=dark] .colab-df-quickchart {\n",
              "      --bg-color: #3B4455;\n",
              "      --fill-color: #D2E3FC;\n",
              "      --hover-bg-color: #434B5C;\n",
              "      --hover-fill-color: #FFFFFF;\n",
              "      --disabled-bg-color: #3B4455;\n",
              "      --disabled-fill-color: #666;\n",
              "  }\n",
              "\n",
              "  .colab-df-quickchart {\n",
              "    background-color: var(--bg-color);\n",
              "    border: none;\n",
              "    border-radius: 50%;\n",
              "    cursor: pointer;\n",
              "    display: none;\n",
              "    fill: var(--fill-color);\n",
              "    height: 32px;\n",
              "    padding: 0;\n",
              "    width: 32px;\n",
              "  }\n",
              "\n",
              "  .colab-df-quickchart:hover {\n",
              "    background-color: var(--hover-bg-color);\n",
              "    box-shadow: 0 1px 2px rgba(60, 64, 67, 0.3), 0 1px 3px 1px rgba(60, 64, 67, 0.15);\n",
              "    fill: var(--button-hover-fill-color);\n",
              "  }\n",
              "\n",
              "  .colab-df-quickchart-complete:disabled,\n",
              "  .colab-df-quickchart-complete:disabled:hover {\n",
              "    background-color: var(--disabled-bg-color);\n",
              "    fill: var(--disabled-fill-color);\n",
              "    box-shadow: none;\n",
              "  }\n",
              "\n",
              "  .colab-df-spinner {\n",
              "    border: 2px solid var(--fill-color);\n",
              "    border-color: transparent;\n",
              "    border-bottom-color: var(--fill-color);\n",
              "    animation:\n",
              "      spin 1s steps(1) infinite;\n",
              "  }\n",
              "\n",
              "  @keyframes spin {\n",
              "    0% {\n",
              "      border-color: transparent;\n",
              "      border-bottom-color: var(--fill-color);\n",
              "      border-left-color: var(--fill-color);\n",
              "    }\n",
              "    20% {\n",
              "      border-color: transparent;\n",
              "      border-left-color: var(--fill-color);\n",
              "      border-top-color: var(--fill-color);\n",
              "    }\n",
              "    30% {\n",
              "      border-color: transparent;\n",
              "      border-left-color: var(--fill-color);\n",
              "      border-top-color: var(--fill-color);\n",
              "      border-right-color: var(--fill-color);\n",
              "    }\n",
              "    40% {\n",
              "      border-color: transparent;\n",
              "      border-right-color: var(--fill-color);\n",
              "      border-top-color: var(--fill-color);\n",
              "    }\n",
              "    60% {\n",
              "      border-color: transparent;\n",
              "      border-right-color: var(--fill-color);\n",
              "    }\n",
              "    80% {\n",
              "      border-color: transparent;\n",
              "      border-right-color: var(--fill-color);\n",
              "      border-bottom-color: var(--fill-color);\n",
              "    }\n",
              "    90% {\n",
              "      border-color: transparent;\n",
              "      border-bottom-color: var(--fill-color);\n",
              "    }\n",
              "  }\n",
              "</style>\n",
              "\n",
              "  <script>\n",
              "    async function quickchart(key) {\n",
              "      const quickchartButtonEl =\n",
              "        document.querySelector('#' + key + ' button');\n",
              "      quickchartButtonEl.disabled = true;  // To prevent multiple clicks.\n",
              "      quickchartButtonEl.classList.add('colab-df-spinner');\n",
              "      try {\n",
              "        const charts = await google.colab.kernel.invokeFunction(\n",
              "            'suggestCharts', [key], {});\n",
              "      } catch (error) {\n",
              "        console.error('Error during call to suggestCharts:', error);\n",
              "      }\n",
              "      quickchartButtonEl.classList.remove('colab-df-spinner');\n",
              "      quickchartButtonEl.classList.add('colab-df-quickchart-complete');\n",
              "    }\n",
              "    (() => {\n",
              "      let quickchartButtonEl =\n",
              "        document.querySelector('#df-d97c643f-2620-4404-8960-a9c8cb3a2cd6 button');\n",
              "      quickchartButtonEl.style.display =\n",
              "        google.colab.kernel.accessAllowed ? 'block' : 'none';\n",
              "    })();\n",
              "  </script>\n",
              "</div>\n",
              "\n",
              "  <div id=\"id_10ad3649-bf46-455b-8038-87eefde9605a\">\n",
              "    <style>\n",
              "      .colab-df-generate {\n",
              "        background-color: #E8F0FE;\n",
              "        border: none;\n",
              "        border-radius: 50%;\n",
              "        cursor: pointer;\n",
              "        display: none;\n",
              "        fill: #1967D2;\n",
              "        height: 32px;\n",
              "        padding: 0 0 0 0;\n",
              "        width: 32px;\n",
              "      }\n",
              "\n",
              "      .colab-df-generate:hover {\n",
              "        background-color: #E2EBFA;\n",
              "        box-shadow: 0px 1px 2px rgba(60, 64, 67, 0.3), 0px 1px 3px 1px rgba(60, 64, 67, 0.15);\n",
              "        fill: #174EA6;\n",
              "      }\n",
              "\n",
              "      [theme=dark] .colab-df-generate {\n",
              "        background-color: #3B4455;\n",
              "        fill: #D2E3FC;\n",
              "      }\n",
              "\n",
              "      [theme=dark] .colab-df-generate:hover {\n",
              "        background-color: #434B5C;\n",
              "        box-shadow: 0px 1px 3px 1px rgba(0, 0, 0, 0.15);\n",
              "        filter: drop-shadow(0px 1px 2px rgba(0, 0, 0, 0.3));\n",
              "        fill: #FFFFFF;\n",
              "      }\n",
              "    </style>\n",
              "    <button class=\"colab-df-generate\" onclick=\"generateWithVariable('df')\"\n",
              "            title=\"Generate code using this dataframe.\"\n",
              "            style=\"display:none;\">\n",
              "\n",
              "  <svg xmlns=\"http://www.w3.org/2000/svg\" height=\"24px\"viewBox=\"0 0 24 24\"\n",
              "       width=\"24px\">\n",
              "    <path d=\"M7,19H8.4L18.45,9,17,7.55,7,17.6ZM5,21V16.75L18.45,3.32a2,2,0,0,1,2.83,0l1.4,1.43a1.91,1.91,0,0,1,.58,1.4,1.91,1.91,0,0,1-.58,1.4L9.25,21ZM18.45,9,17,7.55Zm-12,3A5.31,5.31,0,0,0,4.9,8.1,5.31,5.31,0,0,0,1,6.5,5.31,5.31,0,0,0,4.9,4.9,5.31,5.31,0,0,0,6.5,1,5.31,5.31,0,0,0,8.1,4.9,5.31,5.31,0,0,0,12,6.5,5.46,5.46,0,0,0,6.5,12Z\"/>\n",
              "  </svg>\n",
              "    </button>\n",
              "    <script>\n",
              "      (() => {\n",
              "      const buttonEl =\n",
              "        document.querySelector('#id_10ad3649-bf46-455b-8038-87eefde9605a button.colab-df-generate');\n",
              "      buttonEl.style.display =\n",
              "        google.colab.kernel.accessAllowed ? 'block' : 'none';\n",
              "\n",
              "      buttonEl.onclick = () => {\n",
              "        google.colab.notebook.generateWithVariable('df');\n",
              "      }\n",
              "      })();\n",
              "    </script>\n",
              "  </div>\n",
              "\n",
              "    </div>\n",
              "  </div>\n"
            ],
            "application/vnd.google.colaboratory.intrinsic+json": {
              "type": "dataframe",
              "variable_name": "df",
              "summary": "{\n  \"name\": \"df\",\n  \"rows\": 23708,\n  \"fields\": [\n    {\n      \"column\": \"age\",\n      \"properties\": {\n        \"dtype\": \"number\",\n        \"std\": 19,\n        \"min\": 1,\n        \"max\": 116,\n        \"num_unique_values\": 104,\n        \"samples\": [\n          44,\n          51,\n          49\n        ],\n        \"semantic_type\": \"\",\n        \"description\": \"\"\n      }\n    },\n    {\n      \"column\": \"gender\",\n      \"properties\": {\n        \"dtype\": \"number\",\n        \"std\": 0,\n        \"min\": 0,\n        \"max\": 1,\n        \"num_unique_values\": 2,\n        \"samples\": [\n          1,\n          0\n        ],\n        \"semantic_type\": \"\",\n        \"description\": \"\"\n      }\n    },\n    {\n      \"column\": \"img\",\n      \"properties\": {\n        \"dtype\": \"string\",\n        \"num_unique_values\": 23708,\n        \"samples\": [\n          \"26_1_4_20170103234115237.jpg.chip.jpg\",\n          \"35_1_0_20170116222743531.jpg.chip.jpg\"\n        ],\n        \"semantic_type\": \"\",\n        \"description\": \"\"\n      }\n    }\n  ]\n}"
            }
          },
          "metadata": {},
          "execution_count": 9
        }
      ]
    },
    {
      "cell_type": "code",
      "source": [
        "df.shape"
      ],
      "metadata": {
        "colab": {
          "base_uri": "https://localhost:8080/"
        },
        "id": "v6eUK6MJ8zf7",
        "outputId": "a75b3865-697c-4517-c629-bbd513b621ad"
      },
      "execution_count": 10,
      "outputs": [
        {
          "output_type": "execute_result",
          "data": {
            "text/plain": [
              "(23708, 3)"
            ]
          },
          "metadata": {},
          "execution_count": 10
        }
      ]
    },
    {
      "cell_type": "code",
      "source": [
        "train_df = df.sample(frac=1,random_state=0).iloc[:20000]\n",
        "test_df = df.sample(frac=1,random_state=0).iloc[20000:]"
      ],
      "metadata": {
        "id": "HkEGC9tX81cL"
      },
      "execution_count": 11,
      "outputs": []
    },
    {
      "cell_type": "code",
      "source": [
        "train_df.shape"
      ],
      "metadata": {
        "colab": {
          "base_uri": "https://localhost:8080/"
        },
        "id": "ZxLKgvrd87lL",
        "outputId": "c2969495-0bf5-4e3b-c263-f3839ba818ff"
      },
      "execution_count": 12,
      "outputs": [
        {
          "output_type": "execute_result",
          "data": {
            "text/plain": [
              "(20000, 3)"
            ]
          },
          "metadata": {},
          "execution_count": 12
        }
      ]
    },
    {
      "cell_type": "code",
      "source": [
        "test_df.shape"
      ],
      "metadata": {
        "colab": {
          "base_uri": "https://localhost:8080/"
        },
        "id": "dXL7v9hl8-D7",
        "outputId": "fbf0df34-a629-4483-aa88-809556128195"
      },
      "execution_count": 13,
      "outputs": [
        {
          "output_type": "execute_result",
          "data": {
            "text/plain": [
              "(3708, 3)"
            ]
          },
          "metadata": {},
          "execution_count": 13
        }
      ]
    },
    {
      "cell_type": "code",
      "source": [
        "train_datagen = ImageDataGenerator(rescale=1./255,\n",
        "                                   rotation_range=30,\n",
        "                                   width_shift_range=0.2,\n",
        "                                   height_shift_range=0.2,\n",
        "                                   shear_range=0.2,\n",
        "                                   zoom_range=0.2,\n",
        "                                   horizontal_flip=True)\n",
        "\n",
        "test_datagen = ImageDataGenerator(rescale=1./255)"
      ],
      "metadata": {
        "id": "HMYbdguO8_yr"
      },
      "execution_count": 14,
      "outputs": []
    },
    {
      "cell_type": "code",
      "source": [
        "train_generator = train_datagen.flow_from_dataframe(train_df,\n",
        "                                                    directory=folder_path,\n",
        "                                                    x_col='img',\n",
        "                                                    y_col=['age','gender'],\n",
        "                                                    target_size=(200,200),\n",
        "                                                    class_mode='multi_output')\n",
        "\n",
        "test_generator = test_datagen.flow_from_dataframe(test_df,\n",
        "                                                    directory=folder_path,\n",
        "                                                    x_col='img',\n",
        "                                                    y_col=['age','gender'],\n",
        "                                                    target_size=(200,200),\n",
        "                                                  class_mode='multi_output')"
      ],
      "metadata": {
        "colab": {
          "base_uri": "https://localhost:8080/"
        },
        "id": "mipVmhrE9DFs",
        "outputId": "b2917988-d3d5-4241-d14b-a036d83199d3"
      },
      "execution_count": 15,
      "outputs": [
        {
          "output_type": "stream",
          "name": "stdout",
          "text": [
            "Found 20000 validated image filenames.\n",
            "Found 3708 validated image filenames.\n"
          ]
        }
      ]
    },
    {
      "cell_type": "code",
      "source": [
        "from keras.applications.resnet50 import ResNet50\n",
        "from keras.layers import *\n",
        "from keras.models import Model"
      ],
      "metadata": {
        "id": "VFza00h39Hbs"
      },
      "execution_count": 16,
      "outputs": []
    },
    {
      "cell_type": "code",
      "source": [
        "resnet = ResNet50(include_top=False, input_shape=(200,200,3))"
      ],
      "metadata": {
        "colab": {
          "base_uri": "https://localhost:8080/"
        },
        "id": "D5e5XrzZ9K1c",
        "outputId": "c70239b1-3d7d-4ebc-d0a7-5e60525bcc98"
      },
      "execution_count": 17,
      "outputs": [
        {
          "output_type": "stream",
          "name": "stdout",
          "text": [
            "Downloading data from https://storage.googleapis.com/tensorflow/keras-applications/resnet/resnet50_weights_tf_dim_ordering_tf_kernels_notop.h5\n",
            "94765736/94765736 [==============================] - 5s 0us/step\n"
          ]
        }
      ]
    },
    {
      "cell_type": "code",
      "source": [
        "resnet = ResNet50(include_top=False, input_shape=(200,200,3))\n",
        "\n",
        "resnet.trainable=False\n",
        "\n",
        "output = resnet.layers[-1].output\n",
        "\n",
        "flatten = Flatten()(output)\n",
        "\n",
        "dense1 = Dense(512, activation='relu')(flatten)\n",
        "dense2 = Dense(512,activation='relu')(flatten)\n",
        "\n",
        "dense3 = Dense(512,activation='relu')(dense1)\n",
        "dense4 = Dense(512,activation='relu')(dense2)\n",
        "\n",
        "output1 = Dense(1,activation='linear',name='age')(dense3)\n",
        "output2 = Dense(1,activation='sigmoid',name='gender')(dense4)"
      ],
      "metadata": {
        "id": "_FsKViT99Obs"
      },
      "execution_count": 18,
      "outputs": []
    },
    {
      "cell_type": "code",
      "source": [
        "model = Model(inputs=resnet.input,outputs=[output1,output2])"
      ],
      "metadata": {
        "id": "dhqMBqIc9R_8"
      },
      "execution_count": 19,
      "outputs": []
    },
    {
      "cell_type": "code",
      "source": [
        "model.compile(optimizer='adam', loss={'age': 'mae', 'gender': 'binary_crossentropy'}, metrics={'age': 'mae', 'gender': 'accuracy'},loss_weights={'age':1,'gender':99})"
      ],
      "metadata": {
        "id": "pfWmjfF19V-L"
      },
      "execution_count": 20,
      "outputs": []
    },
    {
      "cell_type": "code",
      "source": [
        "model.fit(train_generator, batch_size=32, epochs=10, validation_data=test_generator)"
      ],
      "metadata": {
        "colab": {
          "base_uri": "https://localhost:8080/"
        },
        "id": "LxUjIVZu9c0M",
        "outputId": "25538aa7-3da3-4506-9161-4134b62e5ad0"
      },
      "execution_count": 21,
      "outputs": [
        {
          "output_type": "stream",
          "name": "stdout",
          "text": [
            "Epoch 1/10\n",
            "625/625 [==============================] - 264s 408ms/step - loss: 98.0239 - age_loss: 15.4608 - gender_loss: 0.8340 - age_mae: 15.4608 - gender_accuracy: 0.5074 - val_loss: 83.3186 - val_age_loss: 14.8567 - val_gender_loss: 0.6915 - val_age_mae: 14.8567 - val_gender_accuracy: 0.5302\n",
            "Epoch 2/10\n",
            "625/625 [==============================] - 256s 409ms/step - loss: 84.0992 - age_loss: 15.0443 - gender_loss: 0.6975 - age_mae: 15.0443 - gender_accuracy: 0.5210 - val_loss: 83.4970 - val_age_loss: 15.0292 - val_gender_loss: 0.6916 - val_age_mae: 15.0292 - val_gender_accuracy: 0.5302\n",
            "Epoch 3/10\n",
            "625/625 [==============================] - 253s 405ms/step - loss: 83.4306 - age_loss: 14.8930 - gender_loss: 0.6923 - age_mae: 14.8930 - gender_accuracy: 0.5211 - val_loss: 83.0060 - val_age_loss: 14.5320 - val_gender_loss: 0.6917 - val_age_mae: 14.5320 - val_gender_accuracy: 0.5291\n",
            "Epoch 4/10\n",
            "625/625 [==============================] - 254s 406ms/step - loss: 83.4527 - age_loss: 14.8402 - gender_loss: 0.6931 - age_mae: 14.8402 - gender_accuracy: 0.5213 - val_loss: 82.9630 - val_age_loss: 14.4975 - val_gender_loss: 0.6916 - val_age_mae: 14.4975 - val_gender_accuracy: 0.5302\n",
            "Epoch 5/10\n",
            "625/625 [==============================] - 250s 400ms/step - loss: 83.3630 - age_loss: 14.7763 - gender_loss: 0.6928 - age_mae: 14.7763 - gender_accuracy: 0.5215 - val_loss: 82.8806 - val_age_loss: 14.4372 - val_gender_loss: 0.6913 - val_age_mae: 14.4372 - val_gender_accuracy: 0.5302\n",
            "Epoch 6/10\n",
            "625/625 [==============================] - 264s 423ms/step - loss: 83.2513 - age_loss: 14.7080 - gender_loss: 0.6924 - age_mae: 14.7080 - gender_accuracy: 0.5212 - val_loss: 82.6856 - val_age_loss: 14.2279 - val_gender_loss: 0.6915 - val_age_mae: 14.2279 - val_gender_accuracy: 0.5302\n",
            "Epoch 7/10\n",
            "625/625 [==============================] - 259s 415ms/step - loss: 83.7078 - age_loss: 14.6823 - gender_loss: 0.6972 - age_mae: 14.6823 - gender_accuracy: 0.5215 - val_loss: 82.6378 - val_age_loss: 14.1607 - val_gender_loss: 0.6917 - val_age_mae: 14.1607 - val_gender_accuracy: 0.5302\n",
            "Epoch 8/10\n",
            "625/625 [==============================] - 260s 416ms/step - loss: 83.1481 - age_loss: 14.6104 - gender_loss: 0.6923 - age_mae: 14.6104 - gender_accuracy: 0.5213 - val_loss: 82.5635 - val_age_loss: 14.0565 - val_gender_loss: 0.6920 - val_age_mae: 14.0565 - val_gender_accuracy: 0.5302\n",
            "Epoch 9/10\n",
            "625/625 [==============================] - 246s 394ms/step - loss: 83.0534 - age_loss: 14.4928 - gender_loss: 0.6925 - age_mae: 14.4928 - gender_accuracy: 0.5214 - val_loss: 82.2951 - val_age_loss: 13.8537 - val_gender_loss: 0.6913 - val_age_mae: 13.8537 - val_gender_accuracy: 0.5302\n",
            "Epoch 10/10\n",
            "625/625 [==============================] - 247s 394ms/step - loss: 83.6572 - age_loss: 14.5175 - gender_loss: 0.6984 - age_mae: 14.5175 - gender_accuracy: 0.5199 - val_loss: 82.7710 - val_age_loss: 14.2511 - val_gender_loss: 0.6921 - val_age_mae: 14.2511 - val_gender_accuracy: 0.5302\n"
          ]
        },
        {
          "output_type": "execute_result",
          "data": {
            "text/plain": [
              "<keras.src.callbacks.History at 0x7c486e5b21d0>"
            ]
          },
          "metadata": {},
          "execution_count": 21
        }
      ]
    },
    {
      "cell_type": "code",
      "source": [],
      "metadata": {
        "id": "M6jIK-yv9fL7"
      },
      "execution_count": 21,
      "outputs": []
    }
  ]
}