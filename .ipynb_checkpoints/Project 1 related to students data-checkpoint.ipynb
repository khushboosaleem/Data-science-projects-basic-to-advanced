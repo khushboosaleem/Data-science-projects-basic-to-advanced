{
 "cells": [
  {
   "cell_type": "code",
   "execution_count": 1,
   "id": "0eeb35c7",
   "metadata": {},
   "outputs": [
    {
     "data": {
      "text/plain": [
       "<_io.TextIOWrapper name='data.csv' mode='r' encoding='cp1252'>"
      ]
     },
     "execution_count": 1,
     "metadata": {},
     "output_type": "execute_result"
    }
   ],
   "source": [
    "# read data by using csv library\n",
    "# import csv library \n",
    "import csv\n",
    "\n",
    "# open file \n",
    "open_file = open(\"data.csv\")\n",
    "open_file"
   ]
  },
  {
   "cell_type": "code",
   "execution_count": 2,
   "id": "8f0e7ba3",
   "metadata": {},
   "outputs": [
    {
     "data": {
      "text/plain": [
       "<_csv.reader at 0x16ef9e1a520>"
      ]
     },
     "execution_count": 2,
     "metadata": {},
     "output_type": "execute_result"
    }
   ],
   "source": [
    "# read file by using csv reader method\n",
    "read_file = csv.reader(open_file)\n",
    "read_file"
   ]
  },
  {
   "cell_type": "code",
   "execution_count": 3,
   "id": "bf7505d2",
   "metadata": {},
   "outputs": [
    {
     "data": {
      "text/plain": [
       "[['roll no', 'Name', 'Chemistry', 'Physics', 'Math'],\n",
       " ['101', 'Aliza', '50', '23', '87'],\n",
       " ['102', 'Fareed', '45', '24', '88'],\n",
       " ['103', 'Basit', '46', '25', '89'],\n",
       " ['104', 'Abdullah', '47', '26', '90'],\n",
       " ['105', 'Ali', '48', '27', '67'],\n",
       " ['106', 'Mubashir', '49', '28', '68'],\n",
       " ['107', 'Waleed', '50', '29', '69'],\n",
       " ['108', 'Mansoor', '51', '30', '70'],\n",
       " ['109', 'Zain', '52', '31', '71'],\n",
       " ['110', 'Mohsin', '53', '67', '72'],\n",
       " ['111', 'Shahmeer', '54', '68', '73'],\n",
       " ['112', 'Rao', '55', '69', '74'],\n",
       " ['113', 'Aurangzeb', '56', '70', '75'],\n",
       " ['114', 'Zeeshan', '57', '71', '76'],\n",
       " ['115', 'Humza', '58', '72', '77'],\n",
       " ['116', 'Hamza', '59', '73', '78'],\n",
       " ['117', 'Khalid', '60', '74', '79'],\n",
       " ['118', 'Behroz', '61', '75', '80'],\n",
       " ['119', 'Justin', '62', '76', '81'],\n",
       " ['120', 'Danial', '63', '77', '82']]"
      ]
     },
     "execution_count": 3,
     "metadata": {},
     "output_type": "execute_result"
    }
   ],
   "source": [
    "# Display Data in list form\n",
    "data = list(read_file)\n",
    "data"
   ]
  },
  {
   "cell_type": "code",
   "execution_count": 4,
   "id": "7720f43a",
   "metadata": {},
   "outputs": [],
   "source": [
    "# !pip install pandas"
   ]
  },
  {
   "cell_type": "code",
   "execution_count": 5,
   "id": "8435154a",
   "metadata": {},
   "outputs": [],
   "source": [
    "# import pandas library which is used to read the data in tabular form\n",
    "import pandas as pd"
   ]
  },
  {
   "cell_type": "code",
   "execution_count": 6,
   "id": "f2d7b7f0",
   "metadata": {},
   "outputs": [
    {
     "data": {
      "text/plain": [
       "['BooleanDtype',\n",
       " 'Categorical',\n",
       " 'CategoricalDtype',\n",
       " 'CategoricalIndex',\n",
       " 'DataFrame',\n",
       " 'DateOffset',\n",
       " 'DatetimeIndex',\n",
       " 'DatetimeTZDtype',\n",
       " 'ExcelFile',\n",
       " 'ExcelWriter',\n",
       " 'Flags',\n",
       " 'Float32Dtype',\n",
       " 'Float64Dtype',\n",
       " 'Float64Index',\n",
       " 'Grouper',\n",
       " 'HDFStore',\n",
       " 'Index',\n",
       " 'IndexSlice',\n",
       " 'Int16Dtype',\n",
       " 'Int32Dtype',\n",
       " 'Int64Dtype',\n",
       " 'Int64Index',\n",
       " 'Int8Dtype',\n",
       " 'Interval',\n",
       " 'IntervalDtype',\n",
       " 'IntervalIndex',\n",
       " 'MultiIndex',\n",
       " 'NA',\n",
       " 'NaT',\n",
       " 'NamedAgg',\n",
       " 'Period',\n",
       " 'PeriodDtype',\n",
       " 'PeriodIndex',\n",
       " 'RangeIndex',\n",
       " 'Series',\n",
       " 'SparseDtype',\n",
       " 'StringDtype',\n",
       " 'Timedelta',\n",
       " 'TimedeltaIndex',\n",
       " 'Timestamp',\n",
       " 'UInt16Dtype',\n",
       " 'UInt32Dtype',\n",
       " 'UInt64Dtype',\n",
       " 'UInt64Index',\n",
       " 'UInt8Dtype',\n",
       " '__all__',\n",
       " '__builtins__',\n",
       " '__cached__',\n",
       " '__deprecated_num_index_names',\n",
       " '__dir__',\n",
       " '__doc__',\n",
       " '__docformat__',\n",
       " '__file__',\n",
       " '__getattr__',\n",
       " '__git_version__',\n",
       " '__loader__',\n",
       " '__name__',\n",
       " '__package__',\n",
       " '__path__',\n",
       " '__spec__',\n",
       " '__version__',\n",
       " '_config',\n",
       " '_is_numpy_dev',\n",
       " '_libs',\n",
       " '_testing',\n",
       " '_typing',\n",
       " '_version',\n",
       " 'api',\n",
       " 'array',\n",
       " 'arrays',\n",
       " 'bdate_range',\n",
       " 'compat',\n",
       " 'concat',\n",
       " 'core',\n",
       " 'crosstab',\n",
       " 'cut',\n",
       " 'date_range',\n",
       " 'describe_option',\n",
       " 'errors',\n",
       " 'eval',\n",
       " 'factorize',\n",
       " 'get_dummies',\n",
       " 'get_option',\n",
       " 'infer_freq',\n",
       " 'interval_range',\n",
       " 'io',\n",
       " 'isna',\n",
       " 'isnull',\n",
       " 'json_normalize',\n",
       " 'lreshape',\n",
       " 'melt',\n",
       " 'merge',\n",
       " 'merge_asof',\n",
       " 'merge_ordered',\n",
       " 'notna',\n",
       " 'notnull',\n",
       " 'offsets',\n",
       " 'option_context',\n",
       " 'options',\n",
       " 'pandas',\n",
       " 'period_range',\n",
       " 'pivot',\n",
       " 'pivot_table',\n",
       " 'plotting',\n",
       " 'qcut',\n",
       " 'read_clipboard',\n",
       " 'read_csv',\n",
       " 'read_excel',\n",
       " 'read_feather',\n",
       " 'read_fwf',\n",
       " 'read_gbq',\n",
       " 'read_hdf',\n",
       " 'read_html',\n",
       " 'read_json',\n",
       " 'read_orc',\n",
       " 'read_parquet',\n",
       " 'read_pickle',\n",
       " 'read_sas',\n",
       " 'read_spss',\n",
       " 'read_sql',\n",
       " 'read_sql_query',\n",
       " 'read_sql_table',\n",
       " 'read_stata',\n",
       " 'read_table',\n",
       " 'read_xml',\n",
       " 'reset_option',\n",
       " 'set_eng_float_format',\n",
       " 'set_option',\n",
       " 'show_versions',\n",
       " 'test',\n",
       " 'testing',\n",
       " 'timedelta_range',\n",
       " 'to_datetime',\n",
       " 'to_numeric',\n",
       " 'to_pickle',\n",
       " 'to_timedelta',\n",
       " 'tseries',\n",
       " 'unique',\n",
       " 'util',\n",
       " 'value_counts',\n",
       " 'wide_to_long']"
      ]
     },
     "execution_count": 6,
     "metadata": {},
     "output_type": "execute_result"
    }
   ],
   "source": [
    "dir(pd)"
   ]
  },
  {
   "cell_type": "code",
   "execution_count": 7,
   "id": "47759da3",
   "metadata": {},
   "outputs": [
    {
     "data": {
      "text/html": [
       "<div>\n",
       "<style scoped>\n",
       "    .dataframe tbody tr th:only-of-type {\n",
       "        vertical-align: middle;\n",
       "    }\n",
       "\n",
       "    .dataframe tbody tr th {\n",
       "        vertical-align: top;\n",
       "    }\n",
       "\n",
       "    .dataframe thead th {\n",
       "        text-align: right;\n",
       "    }\n",
       "</style>\n",
       "<table border=\"1\" class=\"dataframe\">\n",
       "  <thead>\n",
       "    <tr style=\"text-align: right;\">\n",
       "      <th></th>\n",
       "      <th>roll no</th>\n",
       "      <th>Name</th>\n",
       "      <th>Chemistry</th>\n",
       "      <th>Physics</th>\n",
       "      <th>Math</th>\n",
       "    </tr>\n",
       "  </thead>\n",
       "  <tbody>\n",
       "    <tr>\n",
       "      <th>0</th>\n",
       "      <td>101</td>\n",
       "      <td>Aliza</td>\n",
       "      <td>50</td>\n",
       "      <td>23</td>\n",
       "      <td>87</td>\n",
       "    </tr>\n",
       "    <tr>\n",
       "      <th>1</th>\n",
       "      <td>102</td>\n",
       "      <td>Fareed</td>\n",
       "      <td>45</td>\n",
       "      <td>24</td>\n",
       "      <td>88</td>\n",
       "    </tr>\n",
       "    <tr>\n",
       "      <th>2</th>\n",
       "      <td>103</td>\n",
       "      <td>Basit</td>\n",
       "      <td>46</td>\n",
       "      <td>25</td>\n",
       "      <td>89</td>\n",
       "    </tr>\n",
       "    <tr>\n",
       "      <th>3</th>\n",
       "      <td>104</td>\n",
       "      <td>Abdullah</td>\n",
       "      <td>47</td>\n",
       "      <td>26</td>\n",
       "      <td>90</td>\n",
       "    </tr>\n",
       "    <tr>\n",
       "      <th>4</th>\n",
       "      <td>105</td>\n",
       "      <td>Ali</td>\n",
       "      <td>48</td>\n",
       "      <td>27</td>\n",
       "      <td>67</td>\n",
       "    </tr>\n",
       "    <tr>\n",
       "      <th>5</th>\n",
       "      <td>106</td>\n",
       "      <td>Mubashir</td>\n",
       "      <td>49</td>\n",
       "      <td>28</td>\n",
       "      <td>68</td>\n",
       "    </tr>\n",
       "    <tr>\n",
       "      <th>6</th>\n",
       "      <td>107</td>\n",
       "      <td>Waleed</td>\n",
       "      <td>50</td>\n",
       "      <td>29</td>\n",
       "      <td>69</td>\n",
       "    </tr>\n",
       "    <tr>\n",
       "      <th>7</th>\n",
       "      <td>108</td>\n",
       "      <td>Mansoor</td>\n",
       "      <td>51</td>\n",
       "      <td>30</td>\n",
       "      <td>70</td>\n",
       "    </tr>\n",
       "    <tr>\n",
       "      <th>8</th>\n",
       "      <td>109</td>\n",
       "      <td>Zain</td>\n",
       "      <td>52</td>\n",
       "      <td>31</td>\n",
       "      <td>71</td>\n",
       "    </tr>\n",
       "    <tr>\n",
       "      <th>9</th>\n",
       "      <td>110</td>\n",
       "      <td>Mohsin</td>\n",
       "      <td>53</td>\n",
       "      <td>67</td>\n",
       "      <td>72</td>\n",
       "    </tr>\n",
       "    <tr>\n",
       "      <th>10</th>\n",
       "      <td>111</td>\n",
       "      <td>Shahmeer</td>\n",
       "      <td>54</td>\n",
       "      <td>68</td>\n",
       "      <td>73</td>\n",
       "    </tr>\n",
       "    <tr>\n",
       "      <th>11</th>\n",
       "      <td>112</td>\n",
       "      <td>Rao</td>\n",
       "      <td>55</td>\n",
       "      <td>69</td>\n",
       "      <td>74</td>\n",
       "    </tr>\n",
       "    <tr>\n",
       "      <th>12</th>\n",
       "      <td>113</td>\n",
       "      <td>Aurangzeb</td>\n",
       "      <td>56</td>\n",
       "      <td>70</td>\n",
       "      <td>75</td>\n",
       "    </tr>\n",
       "    <tr>\n",
       "      <th>13</th>\n",
       "      <td>114</td>\n",
       "      <td>Zeeshan</td>\n",
       "      <td>57</td>\n",
       "      <td>71</td>\n",
       "      <td>76</td>\n",
       "    </tr>\n",
       "    <tr>\n",
       "      <th>14</th>\n",
       "      <td>115</td>\n",
       "      <td>Humza</td>\n",
       "      <td>58</td>\n",
       "      <td>72</td>\n",
       "      <td>77</td>\n",
       "    </tr>\n",
       "    <tr>\n",
       "      <th>15</th>\n",
       "      <td>116</td>\n",
       "      <td>Hamza</td>\n",
       "      <td>59</td>\n",
       "      <td>73</td>\n",
       "      <td>78</td>\n",
       "    </tr>\n",
       "    <tr>\n",
       "      <th>16</th>\n",
       "      <td>117</td>\n",
       "      <td>Khalid</td>\n",
       "      <td>60</td>\n",
       "      <td>74</td>\n",
       "      <td>79</td>\n",
       "    </tr>\n",
       "    <tr>\n",
       "      <th>17</th>\n",
       "      <td>118</td>\n",
       "      <td>Behroz</td>\n",
       "      <td>61</td>\n",
       "      <td>75</td>\n",
       "      <td>80</td>\n",
       "    </tr>\n",
       "    <tr>\n",
       "      <th>18</th>\n",
       "      <td>119</td>\n",
       "      <td>Justin</td>\n",
       "      <td>62</td>\n",
       "      <td>76</td>\n",
       "      <td>81</td>\n",
       "    </tr>\n",
       "    <tr>\n",
       "      <th>19</th>\n",
       "      <td>120</td>\n",
       "      <td>Danial</td>\n",
       "      <td>63</td>\n",
       "      <td>77</td>\n",
       "      <td>82</td>\n",
       "    </tr>\n",
       "  </tbody>\n",
       "</table>\n",
       "</div>"
      ],
      "text/plain": [
       "    roll no       Name  Chemistry  Physics  Math\n",
       "0       101      Aliza         50       23    87\n",
       "1       102     Fareed         45       24    88\n",
       "2       103      Basit         46       25    89\n",
       "3       104   Abdullah         47       26    90\n",
       "4       105        Ali         48       27    67\n",
       "5       106   Mubashir         49       28    68\n",
       "6       107     Waleed         50       29    69\n",
       "7       108    Mansoor         51       30    70\n",
       "8       109       Zain         52       31    71\n",
       "9       110     Mohsin         53       67    72\n",
       "10      111   Shahmeer         54       68    73\n",
       "11      112        Rao         55       69    74\n",
       "12      113  Aurangzeb         56       70    75\n",
       "13      114    Zeeshan         57       71    76\n",
       "14      115      Humza         58       72    77\n",
       "15      116      Hamza         59       73    78\n",
       "16      117     Khalid         60       74    79\n",
       "17      118     Behroz         61       75    80\n",
       "18      119     Justin         62       76    81\n",
       "19      120     Danial         63       77    82"
      ]
     },
     "execution_count": 7,
     "metadata": {},
     "output_type": "execute_result"
    }
   ],
   "source": [
    "# read data by using pandas\n",
    "dataset = pd.read_csv(\"data.csv\")\n",
    "dataset"
   ]
  },
  {
   "cell_type": "code",
   "execution_count": 8,
   "id": "4b11a950",
   "metadata": {},
   "outputs": [],
   "source": [
    "# data.shape     # error"
   ]
  },
  {
   "cell_type": "code",
   "execution_count": 9,
   "id": "e7e8e922",
   "metadata": {},
   "outputs": [
    {
     "data": {
      "text/plain": [
       "(20, 5)"
      ]
     },
     "execution_count": 9,
     "metadata": {},
     "output_type": "execute_result"
    }
   ],
   "source": [
    "# Check Data Shape\n",
    "dataset.shape"
   ]
  },
  {
   "cell_type": "code",
   "execution_count": 10,
   "id": "12dd023d",
   "metadata": {},
   "outputs": [
    {
     "name": "stdout",
     "output_type": "stream",
     "text": [
      "<class 'pandas.core.frame.DataFrame'>\n",
      "RangeIndex: 20 entries, 0 to 19\n",
      "Data columns (total 5 columns):\n",
      " #   Column     Non-Null Count  Dtype \n",
      "---  ------     --------------  ----- \n",
      " 0   roll no    20 non-null     int64 \n",
      " 1   Name       20 non-null     object\n",
      " 2   Chemistry  20 non-null     int64 \n",
      " 3   Physics    20 non-null     int64 \n",
      " 4   Math       20 non-null     int64 \n",
      "dtypes: int64(4), object(1)\n",
      "memory usage: 928.0+ bytes\n"
     ]
    }
   ],
   "source": [
    "# Check info of the whole dataset\n",
    "dataset.info()"
   ]
  },
  {
   "cell_type": "markdown",
   "id": "5ad7db5d",
   "metadata": {},
   "source": [
    "## Calculate avg marks by using regular python"
   ]
  },
  {
   "cell_type": "code",
   "execution_count": 11,
   "id": "4dc7a4ce",
   "metadata": {},
   "outputs": [
    {
     "data": {
      "text/plain": [
       "[['roll no', 'Name', 'Chemistry', 'Physics', 'Math'],\n",
       " ['101', 'Aliza', '50', '23', '87'],\n",
       " ['102', 'Fareed', '45', '24', '88'],\n",
       " ['103', 'Basit', '46', '25', '89'],\n",
       " ['104', 'Abdullah', '47', '26', '90'],\n",
       " ['105', 'Ali', '48', '27', '67'],\n",
       " ['106', 'Mubashir', '49', '28', '68'],\n",
       " ['107', 'Waleed', '50', '29', '69'],\n",
       " ['108', 'Mansoor', '51', '30', '70'],\n",
       " ['109', 'Zain', '52', '31', '71'],\n",
       " ['110', 'Mohsin', '53', '67', '72'],\n",
       " ['111', 'Shahmeer', '54', '68', '73'],\n",
       " ['112', 'Rao', '55', '69', '74'],\n",
       " ['113', 'Aurangzeb', '56', '70', '75'],\n",
       " ['114', 'Zeeshan', '57', '71', '76'],\n",
       " ['115', 'Humza', '58', '72', '77'],\n",
       " ['116', 'Hamza', '59', '73', '78'],\n",
       " ['117', 'Khalid', '60', '74', '79'],\n",
       " ['118', 'Behroz', '61', '75', '80'],\n",
       " ['119', 'Justin', '62', '76', '81'],\n",
       " ['120', 'Danial', '63', '77', '82']]"
      ]
     },
     "execution_count": 11,
     "metadata": {},
     "output_type": "execute_result"
    }
   ],
   "source": [
    "data"
   ]
  },
  {
   "cell_type": "code",
   "execution_count": 12,
   "id": "e4b41766",
   "metadata": {},
   "outputs": [
    {
     "data": {
      "text/plain": [
       "20"
      ]
     },
     "execution_count": 12,
     "metadata": {},
     "output_type": "execute_result"
    }
   ],
   "source": [
    "len(data[1:])"
   ]
  },
  {
   "cell_type": "code",
   "execution_count": 13,
   "id": "b349e68a",
   "metadata": {},
   "outputs": [
    {
     "data": {
      "text/plain": [
       "[['101', 'Aliza', '50', '23', '87'],\n",
       " ['102', 'Fareed', '45', '24', '88'],\n",
       " ['103', 'Basit', '46', '25', '89'],\n",
       " ['104', 'Abdullah', '47', '26', '90'],\n",
       " ['105', 'Ali', '48', '27', '67'],\n",
       " ['106', 'Mubashir', '49', '28', '68'],\n",
       " ['107', 'Waleed', '50', '29', '69'],\n",
       " ['108', 'Mansoor', '51', '30', '70'],\n",
       " ['109', 'Zain', '52', '31', '71'],\n",
       " ['110', 'Mohsin', '53', '67', '72'],\n",
       " ['111', 'Shahmeer', '54', '68', '73'],\n",
       " ['112', 'Rao', '55', '69', '74'],\n",
       " ['113', 'Aurangzeb', '56', '70', '75'],\n",
       " ['114', 'Zeeshan', '57', '71', '76'],\n",
       " ['115', 'Humza', '58', '72', '77'],\n",
       " ['116', 'Hamza', '59', '73', '78'],\n",
       " ['117', 'Khalid', '60', '74', '79'],\n",
       " ['118', 'Behroz', '61', '75', '80'],\n",
       " ['119', 'Justin', '62', '76', '81'],\n",
       " ['120', 'Danial', '63', '77', '82']]"
      ]
     },
     "execution_count": 13,
     "metadata": {},
     "output_type": "execute_result"
    }
   ],
   "source": [
    "student_data = data[1:]\n",
    "student_data "
   ]
  },
  {
   "cell_type": "code",
   "execution_count": 14,
   "id": "f893e511",
   "metadata": {},
   "outputs": [
    {
     "data": {
      "text/plain": [
       "['104', 'Abdullah', '47', '26', '90']"
      ]
     },
     "execution_count": 14,
     "metadata": {},
     "output_type": "execute_result"
    }
   ],
   "source": [
    "student_data[3]"
   ]
  },
  {
   "cell_type": "code",
   "execution_count": 15,
   "id": "1fda6406",
   "metadata": {},
   "outputs": [
    {
     "data": {
      "text/plain": [
       "'47'"
      ]
     },
     "execution_count": 15,
     "metadata": {},
     "output_type": "execute_result"
    }
   ],
   "source": [
    "student_data[3][2]"
   ]
  },
  {
   "cell_type": "code",
   "execution_count": 16,
   "id": "e43518c4",
   "metadata": {},
   "outputs": [
    {
     "name": "stdout",
     "output_type": "stream",
     "text": [
      "<class 'int'>\n",
      "<class 'int'>\n",
      "<class 'int'>\n",
      "<class 'int'>\n",
      "<class 'int'>\n",
      "<class 'int'>\n",
      "<class 'int'>\n",
      "<class 'int'>\n",
      "<class 'int'>\n",
      "<class 'int'>\n",
      "<class 'int'>\n",
      "<class 'int'>\n",
      "<class 'int'>\n",
      "<class 'int'>\n",
      "<class 'int'>\n",
      "<class 'int'>\n",
      "<class 'int'>\n",
      "<class 'int'>\n",
      "<class 'int'>\n",
      "<class 'int'>\n"
     ]
    }
   ],
   "source": [
    "for chem in student_data:\n",
    "    print(type(int(chem[2])))"
   ]
  },
  {
   "cell_type": "code",
   "execution_count": 17,
   "id": "dc8faf5a",
   "metadata": {},
   "outputs": [],
   "source": [
    "chem_marks_int = []\n",
    "for chem in student_data:\n",
    "    chem_marks_int.append(int(chem[2]))"
   ]
  },
  {
   "cell_type": "code",
   "execution_count": 18,
   "id": "4c763a3f",
   "metadata": {},
   "outputs": [
    {
     "data": {
      "text/plain": [
       "[50,\n",
       " 45,\n",
       " 46,\n",
       " 47,\n",
       " 48,\n",
       " 49,\n",
       " 50,\n",
       " 51,\n",
       " 52,\n",
       " 53,\n",
       " 54,\n",
       " 55,\n",
       " 56,\n",
       " 57,\n",
       " 58,\n",
       " 59,\n",
       " 60,\n",
       " 61,\n",
       " 62,\n",
       " 63]"
      ]
     },
     "execution_count": 18,
     "metadata": {},
     "output_type": "execute_result"
    }
   ],
   "source": [
    "chem_marks_int"
   ]
  },
  {
   "cell_type": "code",
   "execution_count": 19,
   "id": "0af5bcbc",
   "metadata": {},
   "outputs": [
    {
     "data": {
      "text/plain": [
       "1076"
      ]
     },
     "execution_count": 19,
     "metadata": {},
     "output_type": "execute_result"
    }
   ],
   "source": [
    "sum(chem_marks_int)"
   ]
  },
  {
   "cell_type": "code",
   "execution_count": 20,
   "id": "7ef2e8bb",
   "metadata": {},
   "outputs": [
    {
     "data": {
      "text/plain": [
       "20"
      ]
     },
     "execution_count": 20,
     "metadata": {},
     "output_type": "execute_result"
    }
   ],
   "source": [
    "len(chem_marks_int)"
   ]
  },
  {
   "cell_type": "code",
   "execution_count": 21,
   "id": "a3764b0b",
   "metadata": {},
   "outputs": [
    {
     "data": {
      "text/plain": [
       "53.8"
      ]
     },
     "execution_count": 21,
     "metadata": {},
     "output_type": "execute_result"
    }
   ],
   "source": [
    "sum(chem_marks_int)/len(chem_marks_int)"
   ]
  },
  {
   "cell_type": "code",
   "execution_count": 22,
   "id": "f086279c",
   "metadata": {},
   "outputs": [],
   "source": [
    "Chem_marks = []\n",
    "for chem in student_data:\n",
    "    Chem_marks.append(float(chem[2]))"
   ]
  },
  {
   "cell_type": "code",
   "execution_count": 23,
   "id": "6d437088",
   "metadata": {},
   "outputs": [
    {
     "data": {
      "text/plain": [
       "[50.0,\n",
       " 45.0,\n",
       " 46.0,\n",
       " 47.0,\n",
       " 48.0,\n",
       " 49.0,\n",
       " 50.0,\n",
       " 51.0,\n",
       " 52.0,\n",
       " 53.0,\n",
       " 54.0,\n",
       " 55.0,\n",
       " 56.0,\n",
       " 57.0,\n",
       " 58.0,\n",
       " 59.0,\n",
       " 60.0,\n",
       " 61.0,\n",
       " 62.0,\n",
       " 63.0]"
      ]
     },
     "execution_count": 23,
     "metadata": {},
     "output_type": "execute_result"
    }
   ],
   "source": [
    "Chem_marks"
   ]
  },
  {
   "cell_type": "code",
   "execution_count": 24,
   "id": "e0c462fa",
   "metadata": {},
   "outputs": [
    {
     "data": {
      "text/plain": [
       "6"
      ]
     },
     "execution_count": 24,
     "metadata": {},
     "output_type": "execute_result"
    }
   ],
   "source": [
    "add = (1,2,3)\n",
    "sum(add)"
   ]
  },
  {
   "cell_type": "code",
   "execution_count": 25,
   "id": "b9d365fb",
   "metadata": {},
   "outputs": [
    {
     "data": {
      "text/plain": [
       "tuple"
      ]
     },
     "execution_count": 25,
     "metadata": {},
     "output_type": "execute_result"
    }
   ],
   "source": [
    "type(add)"
   ]
  },
  {
   "cell_type": "code",
   "execution_count": 26,
   "id": "752e2219",
   "metadata": {},
   "outputs": [],
   "source": [
    "# sum(1+2+3)"
   ]
  },
  {
   "cell_type": "code",
   "execution_count": 27,
   "id": "91944565",
   "metadata": {},
   "outputs": [
    {
     "data": {
      "text/plain": [
       "53.8"
      ]
     },
     "execution_count": 27,
     "metadata": {},
     "output_type": "execute_result"
    }
   ],
   "source": [
    "# Average Chemistrt marks of the total student\n",
    "Avg_chem_marks =  sum(Chem_marks)/len(Chem_marks)\n",
    "Avg_chem_marks"
   ]
  },
  {
   "cell_type": "code",
   "execution_count": null,
   "id": "09513822",
   "metadata": {},
   "outputs": [],
   "source": []
  }
 ],
 "metadata": {
  "kernelspec": {
   "display_name": "Python 3 (ipykernel)",
   "language": "python",
   "name": "python3"
  },
  "language_info": {
   "codemirror_mode": {
    "name": "ipython",
    "version": 3
   },
   "file_extension": ".py",
   "mimetype": "text/x-python",
   "name": "python",
   "nbconvert_exporter": "python",
   "pygments_lexer": "ipython3",
   "version": "3.9.12"
  }
 },
 "nbformat": 4,
 "nbformat_minor": 5
}
